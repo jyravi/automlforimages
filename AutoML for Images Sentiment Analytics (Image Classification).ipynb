{
 "cells": [
  {
   "cell_type": "markdown",
   "metadata": {},
   "source": [
    "# AutoML for Images\n",
    "\n",
    "### Image Classification with Azure ML and AutoML for Images (Image Classification Task)\n",
    "\n",
    "Sentiment Analysis"
   ]
  },
  {
   "cell_type": "markdown",
   "metadata": {},
   "source": [
    "## Setup\n",
    "> To use this notebook, **you will need to install the private preview package for AutoML for Images from the private index**."
   ]
  },
  {
   "cell_type": "code",
   "execution_count": 1,
   "metadata": {},
   "outputs": [],
   "source": [
    "#!pip install --upgrade \"azureml-train-core<0.1.1\" \"azureml-train-automl<0.1.1\" \"azureml-contrib-dataset<0.1.1\" --extra-index-url \"https://azuremlsdktestpypi.azureedge.net/automl_for_images_private_preview/\""
   ]
  },
  {
   "cell_type": "markdown",
   "metadata": {},
   "source": [
    "## 1. Informations"
   ]
  },
  {
   "cell_type": "code",
   "execution_count": 2,
   "metadata": {},
   "outputs": [],
   "source": [
    "import numpy as np\n",
    "import json\n",
    "import os\n",
    "import urllib\n",
    "from zipfile import ZipFile\n",
    "import seaborn as sns\n",
    "import pandas as pd"
   ]
  },
  {
   "cell_type": "code",
   "execution_count": 3,
   "metadata": {},
   "outputs": [
    {
     "name": "stdout",
     "output_type": "stream",
     "text": [
      "Python version = 3.6.9 |Anaconda, Inc.| (default, Jul 30 2019, 19:07:31) \n",
      "[GCC 7.3.0]\n"
     ]
    }
   ],
   "source": [
    "import sys\n",
    "print(\"Python version =\", sys.version)"
   ]
  },
  {
   "cell_type": "code",
   "execution_count": 4,
   "metadata": {},
   "outputs": [
    {
     "name": "stdout",
     "output_type": "stream",
     "text": [
      "Today = 2021-05-06 21:50:17.294570\n"
     ]
    }
   ],
   "source": [
    "import datetime\n",
    "now = datetime.datetime.now()\n",
    "print(\"Today =\", now)"
   ]
  },
  {
   "cell_type": "code",
   "execution_count": 5,
   "metadata": {},
   "outputs": [
    {
     "name": "stdout",
     "output_type": "stream",
     "text": [
      "You are using Azure ML version 0.1.0.36312295\n"
     ]
    }
   ],
   "source": [
    "import azureml.core\n",
    "print(\"You are using Azure ML version\", azureml.core.VERSION)"
   ]
  },
  {
   "cell_type": "code",
   "execution_count": 6,
   "metadata": {},
   "outputs": [
    {
     "data": {
      "text/plain": [
       "{'Platform': 'Linux',\n",
       " 'Platform-release': '5.4.0-1043-azure',\n",
       " 'Platform-version': '#45~18.04.1-Ubuntu SMP Sat Mar 20 16:16:05 UTC 2021',\n",
       " 'Architecture': 'x86_64',\n",
       " 'Hostname': 'computeinstancenbooks',\n",
       " 'IP-address': '127.0.0.1',\n",
       " 'MAC-address': 'd1:53:d3:3a:e7:51',\n",
       " 'Processor': 'x86_64',\n",
       " 'RAM': '27 Go'}"
      ]
     },
     "execution_count": 6,
     "metadata": {},
     "output_type": "execute_result"
    }
   ],
   "source": [
    "# Your local platform\n",
    "import platform,socket,re,uuid,json,psutil,logging\n",
    "\n",
    "def getSystemInfo():\n",
    "    try:\n",
    "        info={}\n",
    "        info['Platform']=platform.system()\n",
    "        info['Platform-release']=platform.release()\n",
    "        info['Platform-version']=platform.version()\n",
    "        info['Architecture']=platform.machine()\n",
    "        info['Hostname']=socket.gethostname()\n",
    "        info['IP-address']=socket.gethostbyname(socket.gethostname())\n",
    "        info['MAC-address']=':'.join(re.findall('..', '%012x' % uuid.getnode()))\n",
    "        info['Processor']=platform.processor()\n",
    "        info['RAM']=str(round(psutil.virtual_memory().total / (1024.0 **3)))+\" Go\"\n",
    "        return json.dumps(info)\n",
    "    except Exception as e:\n",
    "        logging.exception(e)\n",
    "\n",
    "json.loads(getSystemInfo())"
   ]
  },
  {
   "cell_type": "markdown",
   "metadata": {},
   "source": [
    "## 2. Workspace setup\n",
    "In order to train and deploy models in Azure ML, you will first need to set up a workspace.\n",
    "\n",
    "An [Azure ML Workspace](https://docs.microsoft.com/en-us/azure/machine-learning/concept-azure-machine-learning-architecture#workspace) is an Azure resource that organizes and coordinates the actions of many other Azure resources to assist in executing and sharing machine learning workflows. In particular, an Azure ML Workspace coordinates storage, databases, and compute resources providing added functionality for machine learning experimentation, deployment, inference, and the monitoring of deployed models.\n",
    "\n",
    "> Create an Azure ML Workspace within your Azure subscription, or load an existing workspace."
   ]
  },
  {
   "cell_type": "code",
   "execution_count": 7,
   "metadata": {
    "gather": {
     "logged": 1617264529681
    }
   },
   "outputs": [],
   "source": [
    "subscription_id='TOBEREPLACED'   \n",
    "resource_group='automlvision-rg'   \n",
    "workspace_name='automlvision'"
   ]
  },
  {
   "cell_type": "code",
   "execution_count": 8,
   "metadata": {},
   "outputs": [
    {
     "name": "stdout",
     "output_type": "stream",
     "text": [
      "OK\n"
     ]
    }
   ],
   "source": [
    "from azureml.core import Workspace\n",
    "try:\n",
    "   ws = Workspace(subscription_id = subscription_id, resource_group = resource_group, workspace_name = workspace_name)\n",
    "   ws.write_config()\n",
    "   print(\"OK\")\n",
    "except:\n",
    "   print(\"Error: Workspace not found\")"
   ]
  },
  {
   "cell_type": "code",
   "execution_count": 9,
   "metadata": {},
   "outputs": [],
   "source": [
    "from azureml.core import Workspace\n",
    "ws = Workspace.from_config()"
   ]
  },
  {
   "cell_type": "code",
   "execution_count": 10,
   "metadata": {},
   "outputs": [
    {
     "data": {
      "text/plain": [
       "('automlvision', 'automlvision-rg')"
      ]
     },
     "execution_count": 10,
     "metadata": {},
     "output_type": "execute_result"
    }
   ],
   "source": [
    "ws.name, ws.resource_group"
   ]
  },
  {
   "cell_type": "markdown",
   "metadata": {},
   "source": [
    "## 3. Azure ML GPU Compute target setup\n",
    "**You will need to provide a [Compute Target](https://docs.microsoft.com/azure/machine-learning/service/concept-azure-machine-learning-architecture#compute-target) that will be used for your AutoML model training.** <br><br>\n",
    "**AutoML models for image tasks require GPU SKUs and support NC and ND families.** We recommend using the NCsv3-series (with v100 GPUs) for faster training. Using a compute target with a multi-GPU VM SKU will leverage the multiple GPUs to speed up training. Additionally, setting up a compute target with multiple nodes will allow for faster model training by leveraging parallelism, when tuning hyperparameters for your model."
   ]
  },
  {
   "cell_type": "code",
   "execution_count": 11,
   "metadata": {
    "gather": {
     "logged": 1617264539968
    }
   },
   "outputs": [
    {
     "name": "stdout",
     "output_type": "stream",
     "text": [
      "Found existing compute target.\n",
      "Succeeded\n",
      "AmlCompute wait for completion finished\n",
      "\n",
      "Minimum number of nodes requested have been provisioned\n"
     ]
    }
   ],
   "source": [
    "from azureml.core.compute import AmlCompute, ComputeTarget\n",
    "\n",
    "cluster_name = \"gpu-sentiments\"\n",
    "\n",
    "try:\n",
    "    compute_target = ws.compute_targets[cluster_name]\n",
    "    print('Found existing compute target.')\n",
    "except KeyError:\n",
    "    print('Creating a new compute target...')\n",
    "    compute_config = AmlCompute.provisioning_configuration(vm_size='Standard_NC6', #GPU cluster\n",
    "                                                           idle_seconds_before_scaledown=1800, #Time out\n",
    "                                                           min_nodes=0, \n",
    "                                                           max_nodes=4)\n",
    "\n",
    "    compute_target = ComputeTarget.create(ws, cluster_name, compute_config)\n",
    "\n",
    "# Can poll for a minimum number of nodes and for a specific timeout.\n",
    "# If no min_node_count is provided, it will use the scale settings for the cluster.\n",
    "compute_target.wait_for_completion(show_output=True, min_node_count=None, timeout_in_minutes=20)"
   ]
  },
  {
   "cell_type": "code",
   "execution_count": 12,
   "metadata": {},
   "outputs": [
    {
     "data": {
      "text/plain": [
       "'Succeeded'"
      ]
     },
     "execution_count": 12,
     "metadata": {},
     "output_type": "execute_result"
    }
   ],
   "source": [
    "# Compute status\n",
    "compute_target.provisioning_state"
   ]
  },
  {
   "cell_type": "code",
   "execution_count": 13,
   "metadata": {},
   "outputs": [
    {
     "data": {
      "text/plain": [
       "{'currentNodeCount': 0,\n",
       " 'targetNodeCount': 0,\n",
       " 'nodeStateCounts': {'preparingNodeCount': 0,\n",
       "  'runningNodeCount': 0,\n",
       "  'idleNodeCount': 0,\n",
       "  'unusableNodeCount': 0,\n",
       "  'leavingNodeCount': 0,\n",
       "  'preemptedNodeCount': 0},\n",
       " 'allocationState': 'Steady',\n",
       " 'allocationStateTransitionTime': '2021-05-06T21:42:09.082000+00:00',\n",
       " 'errors': None,\n",
       " 'creationTime': '2021-05-06T21:42:06.477069+00:00',\n",
       " 'modifiedTime': '2021-05-06T21:42:21.898955+00:00',\n",
       " 'provisioningState': 'Succeeded',\n",
       " 'provisioningStateTransitionTime': None,\n",
       " 'scaleSettings': {'minNodeCount': 0,\n",
       "  'maxNodeCount': 4,\n",
       "  'nodeIdleTimeBeforeScaleDown': 'PT1800S'},\n",
       " 'vmPriority': 'Dedicated',\n",
       " 'vmSize': 'STANDARD_NC6'}"
      ]
     },
     "execution_count": 13,
     "metadata": {},
     "output_type": "execute_result"
    }
   ],
   "source": [
    "# Compute cluster information\n",
    "compute_target.get_status().serialize()"
   ]
  },
  {
   "cell_type": "code",
   "execution_count": 14,
   "metadata": {},
   "outputs": [
    {
     "data": {
      "text/plain": [
       "'STANDARD_NC6'"
      ]
     },
     "execution_count": 14,
     "metadata": {},
     "output_type": "execute_result"
    }
   ],
   "source": [
    "# Compute VM size\n",
    "compute_target.vm_size"
   ]
  },
  {
   "cell_type": "code",
   "execution_count": 15,
   "metadata": {},
   "outputs": [
    {
     "name": "stdout",
     "output_type": "stream",
     "text": [
      "cluster-aks-gpu\n",
      "cluster-aksgpu\n",
      "computeinstancenbooks\n",
      "DefLabelNC6\n",
      "gpu-mask-classif\n",
      "gpu-mask-objdet\n",
      "gpu-drivers\n",
      "gpu-beverages\n",
      "gpu-sentiments\n"
     ]
    }
   ],
   "source": [
    "#List of available compute clusters in your Azure ML workspace\n",
    "listcomputeservers = ws.compute_targets\n",
    "for list in listcomputeservers:\n",
    "    print(list)"
   ]
  },
  {
   "cell_type": "markdown",
   "metadata": {},
   "source": [
    "## 4. Experiment Setup\n",
    "Create an [Experiment](https://docs.microsoft.com/azure/machine-learning/service/concept-azure-machine-learning-architecture#experiment) in your workspace to track your model training runs"
   ]
  },
  {
   "cell_type": "code",
   "execution_count": 16,
   "metadata": {},
   "outputs": [],
   "source": [
    "from azureml.core import Experiment\n",
    "\n",
    "experiment_name = 'AutomlImages-Sentiment' #Name of your experimentation\n",
    "experiment = Experiment(ws, name=experiment_name)"
   ]
  },
  {
   "cell_type": "code",
   "execution_count": 17,
   "metadata": {},
   "outputs": [
    {
     "data": {
      "text/html": [
       "<table style=\"width:100%\"><tr><th>Name</th><th>Workspace</th><th>Report Page</th><th>Docs Page</th></tr><tr><td>AutomlImages-Sentiment</td><td>automlvision</td><td><a href=\"https://ml.azure.com/experiments/id/050f8ae3-4b42-4224-8ba0-c34d52e7b652?wsid=/subscriptions/70b8f39e-8863-49f7-b6ba-34a80799550c/resourcegroups/automlvision-rg/workspaces/automlvision&amp;tid=72f988bf-86f1-41af-91ab-2d7cd011db47\" target=\"_blank\" rel=\"noopener\">Link to Azure Machine Learning studio</a></td><td><a href=\"https://docs.microsoft.com/en-us/python/api/azureml-core/azureml.core.experiment.Experiment?view=azure-ml-py\" target=\"_blank\" rel=\"noopener\">Link to Documentation</a></td></tr></table>"
      ],
      "text/plain": [
       "Experiment(Name: AutomlImages-Sentiment,\n",
       "Workspace: automlvision)"
      ]
     },
     "execution_count": 17,
     "metadata": {},
     "output_type": "execute_result"
    }
   ],
   "source": [
    "experiment"
   ]
  },
  {
   "cell_type": "markdown",
   "metadata": {},
   "source": [
    "## 5. Dataset with input Training Data\n",
    "In order to generate models for computer vision, you will need to bring in labeled image data as input for model training in the form of an AzureML Labeled Dataset. You can either use a Labeled Dataset that you have exported from a Data Labeling project, or create a new Labeled Dataset with your labeled training data"
   ]
  },
  {
   "cell_type": "code",
   "execution_count": 18,
   "metadata": {},
   "outputs": [
    {
     "data": {
      "text/plain": [
       "'/mnt/batch/tasks/shared/LS_root/mounts/clusters/computeinstancenbooks/code/Users/seretkow/AutoML Sentiment'"
      ]
     },
     "execution_count": 18,
     "metadata": {},
     "output_type": "execute_result"
    }
   ],
   "source": [
    "%pwd"
   ]
  },
  {
   "cell_type": "code",
   "execution_count": 19,
   "metadata": {},
   "outputs": [
    {
     "name": "stdout",
     "output_type": "stream",
     "text": [
      "Unzip the zip file...\n",
      "Done!\n",
      "\n",
      "Deleting the zip file\n",
      "Done!\n"
     ]
    }
   ],
   "source": [
    "# Download images files\n",
    "download_url = 'https://github.com/retkowsky/CustomVision_Datasets/blob/master/sentiment.zip?raw=true'\n",
    "zip_file = 'sentiment.zip'\n",
    "urllib.request.urlretrieve(download_url, filename=zip_file)\n",
    "\n",
    "# Unzip files\n",
    "with ZipFile(zip_file, 'r') as zip:\n",
    "    print('Unzip the zip file...')\n",
    "    zip.extractall()\n",
    "    print('Done!')\n",
    "    \n",
    "# Delete the downloaded zip file\n",
    "print(\"\\nDeleting the zip file\")\n",
    "os.remove(zip_file)\n",
    "print(\"Done!\")"
   ]
  },
  {
   "cell_type": "markdown",
   "metadata": {},
   "source": [
    "### List of images files"
   ]
  },
  {
   "cell_type": "code",
   "execution_count": 20,
   "metadata": {},
   "outputs": [
    {
     "name": "stdout",
     "output_type": "stream",
     "text": [
      "/mnt/batch/tasks/shared/LS_root/mounts/clusters/computeinstancenbooks/code/Users/seretkow/AutoML Sentiment/imagessentiment\n"
     ]
    }
   ],
   "source": [
    "%cd imagessentiment"
   ]
  },
  {
   "cell_type": "code",
   "execution_count": 21,
   "metadata": {},
   "outputs": [
    {
     "name": "stdout",
     "output_type": "stream",
     "text": [
      "/mnt/batch/tasks/shared/LS_root/mounts/clusters/computeinstancenbooks/code/Users/seretkow/AutoML Sentiment/imagessentiment\r\n"
     ]
    }
   ],
   "source": [
    "!pwd"
   ]
  },
  {
   "cell_type": "code",
   "execution_count": 22,
   "metadata": {},
   "outputs": [
    {
     "name": "stdout",
     "output_type": "stream",
     "text": [
      "['anger', 'contempt', 'disgust', 'fear', 'happy', 'sadness', 'surprise']\n"
     ]
    }
   ],
   "source": [
    "# We have some images for the tags in directories we want to detect\n",
    "print(os.listdir('.'))"
   ]
  },
  {
   "cell_type": "code",
   "execution_count": 23,
   "metadata": {},
   "outputs": [
    {
     "name": "stdout",
     "output_type": "stream",
     "text": [
      "Dir: . with 0 images files.\n",
      "Dir: ./anger with 135 images files.\n",
      "Dir: ./contempt with 54 images files.\n",
      "Dir: ./disgust with 177 images files.\n",
      "Dir: ./fear with 75 images files.\n",
      "Dir: ./happy with 207 images files.\n",
      "Dir: ./sadness with 84 images files.\n",
      "Dir: ./surprise with 249 images files.\n"
     ]
    }
   ],
   "source": [
    "for root, _, files in os.walk('.'):\n",
    "    print(\"Dir:\", root, \"with\", len(files), \"images files.\")"
   ]
  },
  {
   "cell_type": "markdown",
   "metadata": {},
   "source": [
    "### Some samples:"
   ]
  },
  {
   "cell_type": "code",
   "execution_count": 24,
   "metadata": {},
   "outputs": [
    {
     "data": {
      "image/png": "[encoded data removed]",
      "text/plain": [
       "<IPython.core.display.Image object>"
      ]
     },
     "execution_count": 24,
     "metadata": {},
     "output_type": "execute_result"
    }
   ],
   "source": [
    "from IPython.display import Image\n",
    "sample_image = 'anger/S010_004_00000017.png'\n",
    "Image(filename=sample_image) "
   ]
  },
  {
   "cell_type": "code",
   "execution_count": 25,
   "metadata": {},
   "outputs": [
    {
     "data": {
      "image/png": "[encoded data removed]",
      "text/plain": [
       "<IPython.core.display.Image object>"
      ]
     },
     "execution_count": 25,
     "metadata": {},
     "output_type": "execute_result"
    }
   ],
   "source": [
    "from IPython.display import Image\n",
    "sample_image = 'fear/S011_003_00000012.png'\n",
    "Image(filename=sample_image) "
   ]
  },
  {
   "cell_type": "code",
   "execution_count": 26,
   "metadata": {},
   "outputs": [
    {
     "data": {
      "image/png": "[encoded data removed]",
      "text/plain": [
       "<IPython.core.display.Image object>"
      ]
     },
     "execution_count": 26,
     "metadata": {},
     "output_type": "execute_result"
    }
   ],
   "source": [
    "from IPython.display import Image\n",
    "sample_image = 'happy/S011_006_00000013.png'\n",
    "Image(filename=sample_image) "
   ]
  },
  {
   "cell_type": "markdown",
   "metadata": {},
   "source": [
    "### Convert the downloaded data to JSONL\n"
   ]
  },
  {
   "cell_type": "code",
   "execution_count": 27,
   "metadata": {},
   "outputs": [
    {
     "name": "stdout",
     "output_type": "stream",
     "text": [
      "/mnt/batch/tasks/shared/LS_root/mounts/clusters/computeinstancenbooks/code/Users/seretkow/AutoML Sentiment/imagessentiment\r\n"
     ]
    }
   ],
   "source": [
    "!pwd"
   ]
  },
  {
   "cell_type": "code",
   "execution_count": 29,
   "metadata": {},
   "outputs": [
    {
     "name": "stdout",
     "output_type": "stream",
     "text": [
      "/mnt/batch/tasks/shared/LS_root/mounts/clusters/computeinstancenbooks/code/Users/seretkow/AutoML Sentiment\n"
     ]
    }
   ],
   "source": [
    "%cd .."
   ]
  },
  {
   "cell_type": "code",
   "execution_count": 30,
   "metadata": {},
   "outputs": [
    {
     "name": "stdout",
     "output_type": "stream",
     "text": [
      "Parsing imagessentiment/anger\n",
      "Parsing imagessentiment/contempt\n",
      "Parsing imagessentiment/disgust\n",
      "Parsing imagessentiment/fear\n",
      "Parsing imagessentiment/happy\n",
      "Parsing imagessentiment/sadness\n",
      "Parsing imagessentiment/surprise\n"
     ]
    }
   ],
   "source": [
    "src = \"imagessentiment/\"\n",
    "\n",
    "train_validation_ratio = 5\n",
    "\n",
    "# Retrieving default datastore that got automatically created when we setup a workspace\n",
    "workspaceblobstore = ws.get_default_datastore().name\n",
    "\n",
    "# Path to the training and validation files\n",
    "train_annotations_file = os.path.join(src, \"train_annotations.jsonl\")\n",
    "validation_annotations_file = os.path.join(src, \"validation_annotations.jsonl\")\n",
    "\n",
    "# sample json line dictionary\n",
    "json_line_sample = \\\n",
    "    {\n",
    "        \"image_url\": \"AmlDatastore://\" + workspaceblobstore + \"/\"\n",
    "                     + os.path.basename(os.path.dirname(src)),\n",
    "        \"label\": \"\",\n",
    "        \"label_confidence\": 1.0\n",
    "    }\n",
    "\n",
    "index = 0\n",
    "# Scan each sub directary and generate jsonl line\n",
    "with open(train_annotations_file, 'w') as train_f:\n",
    "    with open(validation_annotations_file, 'w') as validation_f:\n",
    "        for className in os.listdir(src):\n",
    "            subDir = src + className\n",
    "            if not os.path.isdir(subDir):\n",
    "                continue\n",
    "            # Scan each sub directary\n",
    "            print(\"Parsing \" + subDir)\n",
    "            for image in os.listdir(subDir):\n",
    "                json_line = dict(json_line_sample)\n",
    "                json_line[\"image_url\"] += f\"/{className}/{image}\"\n",
    "                json_line[\"label\"] = className\n",
    "\n",
    "                if index % train_validation_ratio == 0:\n",
    "                    # validation annotation\n",
    "                    validation_f.write(json.dumps(json_line) + \"\\n\")\n",
    "                else:\n",
    "                    # train annotation\n",
    "                    train_f.write(json.dumps(json_line) + \"\\n\")\n",
    "                index += 1"
   ]
  },
  {
   "cell_type": "markdown",
   "metadata": {},
   "source": [
    "### Upload the JSONL file and images to Datastore  \n",
    "In order to use the data for training in Azure ML, we upload it to our Azure ML Workspace via a [Datastore](https://docs.microsoft.com/en-us/azure/machine-learning/concept-azure-machine-learning-architecture#datasets-and-datastores). The datastore provides a mechanism for you to upload/download data, and interact with it from your remote compute targets. It is an abstraction over Azure Storage.\n",
    "\n"
   ]
  },
  {
   "cell_type": "code",
   "execution_count": 31,
   "metadata": {},
   "outputs": [
    {
     "name": "stdout",
     "output_type": "stream",
     "text": [
      "Uploading an estimated of 983 files\n",
      "Uploading imagessentiment/train_annotations.jsonl\n",
      "Uploaded imagessentiment/train_annotations.jsonl, 1 files out of an estimated total of 983\n",
      "Uploading imagessentiment/validation_annotations.jsonl\n",
      "Uploaded imagessentiment/validation_annotations.jsonl, 2 files out of an estimated total of 983\n",
      "Uploading imagessentiment/anger/S010_004_00000017.png\n",
      "Uploaded imagessentiment/anger/S010_004_00000017.png, 3 files out of an estimated total of 983\n",
      "Uploading imagessentiment/anger/S010_004_00000018.png\n",
      "Uploaded imagessentiment/anger/S010_004_00000018.png, 4 files out of an estimated total of 983\n",
      "Uploading imagessentiment/anger/S010_004_00000019.png\n",
      "Uploaded imagessentiment/anger/S010_004_00000019.png, 5 files out of an estimated total of 983\n",
      "Uploading imagessentiment/anger/S011_004_00000019.png\n",
      "Uploaded imagessentiment/anger/S011_004_00000019.png, 6 files out of an estimated total of 983\n",
      "Uploading imagessentiment/anger/S011_004_00000020.png\n",
      "Uploaded imagessentiment/anger/S011_004_00000020.png, 7 files out of an estimated total of 983\n",
      "Uploading imagessentiment/anger/S011_004_00000021.png\n",
      "Uploaded imagessentiment/anger/S011_004_00000021.png, 8 files out of an estimated total of 983\n",
      "Uploading imagessentiment/anger/S014_003_00000028.png\n",
      "Uploaded imagessentiment/anger/S014_003_00000028.png, 9 files out of an estimated total of 983\n",
      "Uploading imagessentiment/anger/S014_003_00000029.png\n",
      "Uploaded imagessentiment/anger/S014_003_00000029.png, 10 files out of an estimated total of 983\n",
      "Uploading imagessentiment/anger/S014_003_00000030.png\n",
      "Uploaded imagessentiment/anger/S014_003_00000030.png, 11 files out of an estimated total of 983\n",
      "Uploading imagessentiment/anger/S022_005_00000030.png\n",
      "Uploaded imagessentiment/anger/S022_005_00000030.png, 12 files out of an estimated total of 983\n",
      "Uploading imagessentiment/anger/S022_005_00000031.png\n",
      "Uploaded imagessentiment/anger/S022_005_00000031.png, 13 files out of an estimated total of 983\n",
      "Uploading imagessentiment/anger/S022_005_00000032.png\n",
      "Uploaded imagessentiment/anger/S022_005_00000032.png, 14 files out of an estimated total of 983\n",
      "Uploading imagessentiment/anger/S026_003_00000013.png\n",
      "Uploaded imagessentiment/anger/S026_003_00000013.png, 15 files out of an estimated total of 983\n",
      "Uploading imagessentiment/anger/S026_003_00000014.png\n",
      "Uploaded imagessentiment/anger/S026_003_00000014.png, 16 files out of an estimated total of 983\n",
      "Uploading imagessentiment/anger/S026_003_00000015.png\n",
      "Uploaded imagessentiment/anger/S026_003_00000015.png, 17 files out of an estimated total of 983\n",
      "Uploading imagessentiment/anger/S028_001_00000022.png\n",
      "Uploaded imagessentiment/anger/S028_001_00000022.png, 18 files out of an estimated total of 983\n",
      "Uploading imagessentiment/anger/S028_001_00000023.png\n",
      "Uploaded imagessentiment/anger/S028_001_00000023.png, 19 files out of an estimated total of 983\n",
      "Uploading imagessentiment/anger/S028_001_00000024.png\n",
      "Uploaded imagessentiment/anger/S028_001_00000024.png, 20 files out of an estimated total of 983\n",
      "Uploading imagessentiment/anger/S029_001_00000017.png\n",
      "Uploaded imagessentiment/anger/S029_001_00000017.png, 21 files out of an estimated total of 983\n",
      "Uploading imagessentiment/anger/S029_001_00000018.png\n",
      "Uploaded imagessentiment/anger/S029_001_00000018.png, 22 files out of an estimated total of 983\n",
      "Uploading imagessentiment/anger/S029_001_00000019.png\n",
      "Uploaded imagessentiment/anger/S029_001_00000019.png, 23 files out of an estimated total of 983\n",
      "Uploading imagessentiment/anger/S032_003_00000015.png\n",
      "Uploaded imagessentiment/anger/S032_003_00000015.png, 24 files out of an estimated total of 983\n",
      "Uploading imagessentiment/anger/S032_003_00000016.png\n",
      "Uploaded imagessentiment/anger/S032_003_00000016.png, 25 files out of an estimated total of 983\n",
      "Uploading imagessentiment/anger/S032_003_00000017.png\n",
      "Uploaded imagessentiment/anger/S032_003_00000017.png, 26 files out of an estimated total of 983\n",
      "Uploading imagessentiment/anger/S034_003_00000025.png\n",
      "Uploaded imagessentiment/anger/S034_003_00000025.png, 27 files out of an estimated total of 983\n",
      "Uploading imagessentiment/anger/S034_003_00000026.png\n",
      "Uploaded imagessentiment/anger/S034_003_00000026.png, 28 files out of an estimated total of 983\n",
      "Uploading imagessentiment/anger/S034_003_00000027.png\n",
      "Uploaded imagessentiment/anger/S034_003_00000027.png, 29 files out of an estimated total of 983\n",
      "Uploading imagessentiment/anger/S037_003_00000020.png\n",
      "Uploaded imagessentiment/anger/S037_003_00000020.png, 30 files out of an estimated total of 983\n",
      "Uploading imagessentiment/anger/S037_003_00000021.png\n",
      "Uploaded imagessentiment/anger/S037_003_00000021.png, 31 files out of an estimated total of 983\n",
      "Uploading imagessentiment/anger/S037_003_00000022.png\n",
      "Uploaded imagessentiment/anger/S037_003_00000022.png, 32 files out of an estimated total of 983\n",
      "Uploading imagessentiment/anger/S042_004_00000018.png\n",
      "Uploaded imagessentiment/anger/S042_004_00000018.png, 33 files out of an estimated total of 983\n",
      "Uploading imagessentiment/anger/S042_004_00000019.png\n",
      "Uploaded imagessentiment/anger/S042_004_00000019.png, 34 files out of an estimated total of 983\n",
      "Uploading imagessentiment/anger/S042_004_00000020.png\n",
      "Uploaded imagessentiment/anger/S042_004_00000020.png, 35 files out of an estimated total of 983\n",
      "Uploading imagessentiment/anger/S045_005_00000028.png\n",
      "Uploaded imagessentiment/anger/S045_005_00000028.png, 36 files out of an estimated total of 983\n",
      "Uploading imagessentiment/anger/S045_005_00000029.png\n",
      "Uploaded imagessentiment/anger/S045_005_00000029.png, 37 files out of an estimated total of 983\n",
      "Uploading imagessentiment/anger/S045_005_00000030.png\n",
      "Uploaded imagessentiment/anger/S045_005_00000030.png, 38 files out of an estimated total of 983\n",
      "Uploading imagessentiment/anger/S050_004_00000019.png\n",
      "Uploaded imagessentiment/anger/S050_004_00000019.png, 39 files out of an estimated total of 983\n",
      "Uploading imagessentiment/anger/S050_004_00000020.png\n",
      "Uploaded imagessentiment/anger/S050_004_00000020.png, 40 files out of an estimated total of 983\n",
      "Uploading imagessentiment/anger/S050_004_00000021.png\n",
      "Uploaded imagessentiment/anger/S050_004_00000021.png, 41 files out of an estimated total of 983\n",
      "Uploading imagessentiment/anger/S055_004_00000026.png\n",
      "Uploaded imagessentiment/anger/S055_004_00000026.png, 42 files out of an estimated total of 983\n",
      "Uploading imagessentiment/anger/S055_004_00000027.png\n",
      "Uploaded imagessentiment/anger/S055_004_00000027.png, 43 files out of an estimated total of 983\n",
      "Uploading imagessentiment/anger/S055_004_00000028.png\n",
      "Uploaded imagessentiment/anger/S055_004_00000028.png, 44 files out of an estimated total of 983\n",
      "Uploading imagessentiment/anger/S058_005_00000008.png\n",
      "Uploaded imagessentiment/anger/S058_005_00000008.png, 45 files out of an estimated total of 983\n",
      "Uploading imagessentiment/anger/S058_005_00000009.png\n",
      "Uploaded imagessentiment/anger/S058_005_00000009.png, 46 files out of an estimated total of 983\n",
      "Uploading imagessentiment/anger/S058_005_00000010.png\n",
      "Uploaded imagessentiment/anger/S058_005_00000010.png, 47 files out of an estimated total of 983\n",
      "Uploading imagessentiment/anger/S066_005_00000009.png\n",
      "Uploaded imagessentiment/anger/S066_005_00000009.png, 48 files out of an estimated total of 983\n",
      "Uploading imagessentiment/anger/S066_005_00000010.png\n",
      "Uploaded imagessentiment/anger/S066_005_00000010.png, 49 files out of an estimated total of 983\n",
      "Uploading imagessentiment/anger/S066_005_00000011.png\n",
      "Uploaded imagessentiment/anger/S066_005_00000011.png, 50 files out of an estimated total of 983\n",
      "Uploading imagessentiment/anger/S067_004_00000021.png\n",
      "Uploaded imagessentiment/anger/S067_004_00000021.png, 51 files out of an estimated total of 983\n",
      "Uploading imagessentiment/anger/S067_004_00000022.png\n",
      "Uploaded imagessentiment/anger/S067_004_00000022.png, 52 files out of an estimated total of 983\n",
      "Uploading imagessentiment/anger/S067_004_00000023.png\n",
      "Uploaded imagessentiment/anger/S067_004_00000023.png, 53 files out of an estimated total of 983\n",
      "Uploading imagessentiment/anger/S071_004_00000026.png\n",
      "Uploaded imagessentiment/anger/S071_004_00000026.png, 54 files out of an estimated total of 983\n",
      "Uploading imagessentiment/anger/S071_004_00000027.png\n",
      "Uploaded imagessentiment/anger/S071_004_00000027.png, 55 files out of an estimated total of 983\n",
      "Uploading imagessentiment/anger/S071_004_00000028.png\n",
      "Uploaded imagessentiment/anger/S071_004_00000028.png, 56 files out of an estimated total of 983\n",
      "Uploading imagessentiment/anger/S072_005_00000017.png\n",
      "Uploaded imagessentiment/anger/S072_005_00000017.png, 57 files out of an estimated total of 983\n",
      "Uploading imagessentiment/anger/S072_005_00000018.png\n",
      "Uploaded imagessentiment/anger/S072_005_00000018.png, 58 files out of an estimated total of 983\n",
      "Uploading imagessentiment/anger/S072_005_00000019.png\n",
      "Uploaded imagessentiment/anger/S072_005_00000019.png, 59 files out of an estimated total of 983\n",
      "Uploading imagessentiment/anger/S075_008_00000010.png\n",
      "Uploaded imagessentiment/anger/S075_008_00000010.png, 60 files out of an estimated total of 983\n",
      "Uploading imagessentiment/anger/S075_008_00000011.png\n",
      "Uploaded imagessentiment/anger/S075_008_00000011.png, 61 files out of an estimated total of 983\n",
      "Uploading imagessentiment/anger/S075_008_00000012.png\n",
      "Uploaded imagessentiment/anger/S075_008_00000012.png, 62 files out of an estimated total of 983\n",
      "Uploading imagessentiment/anger/S082_005_00000015.png\n",
      "Uploaded imagessentiment/anger/S082_005_00000015.png, 63 files out of an estimated total of 983\n",
      "Uploading imagessentiment/anger/S082_005_00000016.png\n",
      "Uploaded imagessentiment/anger/S082_005_00000016.png, 64 files out of an estimated total of 983\n",
      "Uploading imagessentiment/anger/S082_005_00000017.png\n",
      "Uploaded imagessentiment/anger/S082_005_00000017.png, 65 files out of an estimated total of 983\n",
      "Uploading imagessentiment/anger/S087_007_00000014.png\n",
      "Uploaded imagessentiment/anger/S087_007_00000014.png, 66 files out of an estimated total of 983\n",
      "Uploading imagessentiment/anger/S087_007_00000015.png\n",
      "Uploaded imagessentiment/anger/S087_007_00000015.png, 67 files out of an estimated total of 983\n",
      "Uploading imagessentiment/anger/S087_007_00000016.png\n",
      "Uploaded imagessentiment/anger/S087_007_00000016.png, 68 files out of an estimated total of 983\n",
      "Uploading imagessentiment/anger/S089_003_00000034.png\n",
      "Uploaded imagessentiment/anger/S089_003_00000034.png, 69 files out of an estimated total of 983\n",
      "Uploading imagessentiment/anger/S089_003_00000035.png\n",
      "Uploaded imagessentiment/anger/S089_003_00000035.png, 70 files out of an estimated total of 983\n",
      "Uploading imagessentiment/anger/S089_003_00000036.png\n",
      "Uploaded imagessentiment/anger/S089_003_00000036.png, 71 files out of an estimated total of 983\n",
      "Uploading imagessentiment/anger/S090_007_00000012.png\n",
      "Uploaded imagessentiment/anger/S090_007_00000012.png, 72 files out of an estimated total of 983\n",
      "Uploading imagessentiment/anger/S090_007_00000013.png\n",
      "Uploaded imagessentiment/anger/S090_007_00000013.png, 73 files out of an estimated total of 983\n",
      "Uploading imagessentiment/anger/S090_007_00000014.png\n",
      "Uploaded imagessentiment/anger/S090_007_00000014.png, 74 files out of an estimated total of 983\n",
      "Uploading imagessentiment/anger/S092_003_00000012.png\n",
      "Uploaded imagessentiment/anger/S092_003_00000012.png, 75 files out of an estimated total of 983\n",
      "Uploading imagessentiment/anger/S092_003_00000013.png\n",
      "Uploaded imagessentiment/anger/S092_003_00000013.png, 76 files out of an estimated total of 983\n",
      "Uploading imagessentiment/anger/S092_003_00000014.png\n",
      "Uploaded imagessentiment/anger/S092_003_00000014.png, 77 files out of an estimated total of 983\n",
      "Uploading imagessentiment/anger/S100_005_00000021.png\n",
      "Uploaded imagessentiment/anger/S100_005_00000021.png, 78 files out of an estimated total of 983\n",
      "Uploading imagessentiment/anger/S100_005_00000022.png\n",
      "Uploaded imagessentiment/anger/S100_005_00000022.png, 79 files out of an estimated total of 983\n",
      "Uploading imagessentiment/anger/S100_005_00000023.png\n",
      "Uploaded imagessentiment/anger/S100_005_00000023.png, 80 files out of an estimated total of 983\n",
      "Uploading imagessentiment/anger/S109_003_00000015.png\n",
      "Uploaded imagessentiment/anger/S109_003_00000015.png, 81 files out of an estimated total of 983\n",
      "Uploading imagessentiment/anger/S109_003_00000016.png\n",
      "Uploaded imagessentiment/anger/S109_003_00000016.png, 82 files out of an estimated total of 983\n",
      "Uploading imagessentiment/anger/S109_003_00000017.png\n",
      "Uploaded imagessentiment/anger/S109_003_00000017.png, 83 files out of an estimated total of 983\n",
      "Uploading imagessentiment/anger/S111_006_00000008.png\n",
      "Uploaded imagessentiment/anger/S111_006_00000008.png, 84 files out of an estimated total of 983\n",
      "Uploading imagessentiment/anger/S111_006_00000009.png\n",
      "Uploaded imagessentiment/anger/S111_006_00000009.png, 85 files out of an estimated total of 983\n",
      "Uploading imagessentiment/anger/S111_006_00000010.png\n",
      "Uploaded imagessentiment/anger/S111_006_00000010.png, 86 files out of an estimated total of 983\n",
      "Uploading imagessentiment/anger/S112_005_00000015.png\n",
      "Uploaded imagessentiment/anger/S112_005_00000015.png, 87 files out of an estimated total of 983\n",
      "Uploading imagessentiment/anger/S112_005_00000016.png\n",
      "Uploaded imagessentiment/anger/S112_005_00000016.png, 88 files out of an estimated total of 983\n",
      "Uploading imagessentiment/anger/S112_005_00000017.png\n",
      "Uploaded imagessentiment/anger/S112_005_00000017.png, 89 files out of an estimated total of 983\n",
      "Uploading imagessentiment/anger/S113_008_00000021.png\n",
      "Uploaded imagessentiment/anger/S113_008_00000021.png, 90 files out of an estimated total of 983\n",
      "Uploading imagessentiment/anger/S113_008_00000022.png\n",
      "Uploaded imagessentiment/anger/S113_008_00000022.png, 91 files out of an estimated total of 983\n",
      "Uploading imagessentiment/anger/S113_008_00000023.png\n",
      "Uploaded imagessentiment/anger/S113_008_00000023.png, 92 files out of an estimated total of 983\n",
      "Uploading imagessentiment/anger/S117_006_00000008.png\n",
      "Uploaded imagessentiment/anger/S117_006_00000008.png, 93 files out of an estimated total of 983\n",
      "Uploading imagessentiment/anger/S117_006_00000009.png\n",
      "Uploaded imagessentiment/anger/S117_006_00000009.png, 94 files out of an estimated total of 983\n",
      "Uploading imagessentiment/anger/S117_006_00000010.png\n",
      "Uploaded imagessentiment/anger/S117_006_00000010.png, 95 files out of an estimated total of 983\n",
      "Uploading imagessentiment/anger/S119_008_00000016.png\n",
      "Uploaded imagessentiment/anger/S119_008_00000016.png, 96 files out of an estimated total of 983\n",
      "Uploading imagessentiment/anger/S119_008_00000017.png\n",
      "Uploaded imagessentiment/anger/S119_008_00000017.png, 97 files out of an estimated total of 983\n",
      "Uploading imagessentiment/anger/S119_008_00000018.png\n",
      "Uploaded imagessentiment/anger/S119_008_00000018.png, 98 files out of an estimated total of 983\n",
      "Uploading imagessentiment/anger/S126_008_00000027.png\n",
      "Uploaded imagessentiment/anger/S126_008_00000027.png, 99 files out of an estimated total of 983\n",
      "Uploading imagessentiment/anger/S126_008_00000028.png\n",
      "Uploaded imagessentiment/anger/S126_008_00000028.png, 100 files out of an estimated total of 983\n",
      "Uploading imagessentiment/anger/S126_008_00000029.png\n",
      "Uploaded imagessentiment/anger/S126_008_00000029.png, 101 files out of an estimated total of 983\n",
      "Uploading imagessentiment/anger/S127_010_00000016.png\n",
      "Uploaded imagessentiment/anger/S127_010_00000016.png, 102 files out of an estimated total of 983\n",
      "Uploading imagessentiment/anger/S127_010_00000017.png\n",
      "Uploaded imagessentiment/anger/S127_010_00000017.png, 103 files out of an estimated total of 983\n",
      "Uploading imagessentiment/anger/S127_010_00000018.png\n",
      "Uploaded imagessentiment/anger/S127_010_00000018.png, 104 files out of an estimated total of 983\n",
      "Uploading imagessentiment/anger/S129_006_00000008.png\n",
      "Uploaded imagessentiment/anger/S129_006_00000008.png, 105 files out of an estimated total of 983\n",
      "Uploading imagessentiment/anger/S129_006_00000009.png\n",
      "Uploaded imagessentiment/anger/S129_006_00000009.png, 106 files out of an estimated total of 983\n",
      "Uploading imagessentiment/anger/S129_006_00000010.png\n",
      "Uploaded imagessentiment/anger/S129_006_00000010.png, 107 files out of an estimated total of 983\n",
      "Uploading imagessentiment/anger/S130_007_00000018.png\n",
      "Uploaded imagessentiment/anger/S130_007_00000018.png, 108 files out of an estimated total of 983\n",
      "Uploading imagessentiment/anger/S130_007_00000019.png\n",
      "Uploaded imagessentiment/anger/S130_007_00000019.png, 109 files out of an estimated total of 983\n",
      "Uploading imagessentiment/anger/S130_007_00000020.png\n",
      "Uploaded imagessentiment/anger/S130_007_00000020.png, 110 files out of an estimated total of 983\n",
      "Uploading imagessentiment/anger/S133_003_00000045.png\n",
      "Uploaded imagessentiment/anger/S133_003_00000045.png, 111 files out of an estimated total of 983\n",
      "Uploading imagessentiment/anger/S133_003_00000046.png\n",
      "Uploaded imagessentiment/anger/S133_003_00000046.png, 112 files out of an estimated total of 983\n",
      "Uploading imagessentiment/anger/S133_003_00000047.png\n",
      "Uploaded imagessentiment/anger/S133_003_00000047.png, 113 files out of an estimated total of 983\n",
      "Uploading imagessentiment/anger/S134_003_00000009.png\n",
      "Uploaded imagessentiment/anger/S134_003_00000009.png, 114 files out of an estimated total of 983\n",
      "Uploading imagessentiment/anger/S134_003_00000010.png\n",
      "Uploaded imagessentiment/anger/S134_003_00000010.png, 115 files out of an estimated total of 983\n",
      "Uploading imagessentiment/anger/S134_003_00000011.png\n",
      "Uploaded imagessentiment/anger/S134_003_00000011.png, 116 files out of an estimated total of 983\n",
      "Uploading imagessentiment/anger/S136_005_00000008.png\n",
      "Uploaded imagessentiment/anger/S136_005_00000008.png, 117 files out of an estimated total of 983\n",
      "Uploading imagessentiment/anger/S136_005_00000009.png\n",
      "Uploaded imagessentiment/anger/S136_005_00000009.png, 118 files out of an estimated total of 983\n",
      "Uploading imagessentiment/anger/S136_005_00000010.png\n",
      "Uploaded imagessentiment/anger/S136_005_00000010.png, 119 files out of an estimated total of 983\n",
      "Uploading imagessentiment/anger/S501_001_00000065.png\n",
      "Uploaded imagessentiment/anger/S501_001_00000065.png, 120 files out of an estimated total of 983\n",
      "Uploading imagessentiment/anger/S501_001_00000066.png\n",
      "Uploaded imagessentiment/anger/S501_001_00000066.png, 121 files out of an estimated total of 983\n",
      "Uploading imagessentiment/anger/S501_001_00000067.png\n",
      "Uploaded imagessentiment/anger/S501_001_00000067.png, 122 files out of an estimated total of 983\n",
      "Uploading imagessentiment/anger/S502_001_00000014.png\n",
      "Uploaded imagessentiment/anger/S502_001_00000014.png, 123 files out of an estimated total of 983\n",
      "Uploading imagessentiment/anger/S502_001_00000015.png\n",
      "Uploaded imagessentiment/anger/S502_001_00000015.png, 124 files out of an estimated total of 983\n",
      "Uploading imagessentiment/anger/S502_001_00000016.png\n",
      "Uploaded imagessentiment/anger/S502_001_00000016.png, 125 files out of an estimated total of 983\n",
      "Uploading imagessentiment/anger/S503_001_00000069.png\n",
      "Uploaded imagessentiment/anger/S503_001_00000069.png, 126 files out of an estimated total of 983\n",
      "Uploading imagessentiment/anger/S503_001_00000070.png\n",
      "Uploaded imagessentiment/anger/S503_001_00000070.png, 127 files out of an estimated total of 983\n",
      "Uploading imagessentiment/anger/S503_001_00000071.png\n",
      "Uploaded imagessentiment/anger/S503_001_00000071.png, 128 files out of an estimated total of 983\n",
      "Uploading imagessentiment/anger/S504_001_00000020.png\n",
      "Uploaded imagessentiment/anger/S504_001_00000020.png, 129 files out of an estimated total of 983\n",
      "Uploading imagessentiment/anger/S504_001_00000021.png\n",
      "Uploaded imagessentiment/anger/S504_001_00000021.png, 130 files out of an estimated total of 983\n",
      "Uploading imagessentiment/anger/S504_001_00000022.png\n",
      "Uploaded imagessentiment/anger/S504_001_00000022.png, 131 files out of an estimated total of 983\n",
      "Uploading imagessentiment/anger/S506_001_00000038.png\n",
      "Uploaded imagessentiment/anger/S506_001_00000038.png, 132 files out of an estimated total of 983\n",
      "Uploading imagessentiment/anger/S506_001_00000039.png\n",
      "Uploaded imagessentiment/anger/S506_001_00000039.png, 133 files out of an estimated total of 983\n",
      "Uploading imagessentiment/anger/S506_001_00000040.png\n",
      "Uploaded imagessentiment/anger/S506_001_00000040.png, 134 files out of an estimated total of 983\n",
      "Uploading imagessentiment/anger/S999_001_00000016.png\n",
      "Uploaded imagessentiment/anger/S999_001_00000016.png, 135 files out of an estimated total of 983\n",
      "Uploading imagessentiment/anger/S999_001_00000017.png\n",
      "Uploaded imagessentiment/anger/S999_001_00000017.png, 136 files out of an estimated total of 983\n",
      "Uploading imagessentiment/anger/S999_001_00000018.png\n",
      "Uploaded imagessentiment/anger/S999_001_00000018.png, 137 files out of an estimated total of 983\n",
      "Uploading imagessentiment/contempt/S138_008_00000007.png\n",
      "Uploaded imagessentiment/contempt/S138_008_00000007.png, 138 files out of an estimated total of 983\n",
      "Uploading imagessentiment/contempt/S138_008_00000008.png\n",
      "Uploaded imagessentiment/contempt/S138_008_00000008.png, 139 files out of an estimated total of 983\n",
      "Uploading imagessentiment/contempt/S138_008_00000009.png\n",
      "Uploaded imagessentiment/contempt/S138_008_00000009.png, 140 files out of an estimated total of 983\n",
      "Uploading imagessentiment/contempt/S139_002_00000011.png\n",
      "Uploaded imagessentiment/contempt/S139_002_00000011.png, 141 files out of an estimated total of 983\n",
      "Uploading imagessentiment/contempt/S139_002_00000012.png\n",
      "Uploaded imagessentiment/contempt/S139_002_00000012.png, 142 files out of an estimated total of 983\n",
      "Uploading imagessentiment/contempt/S139_002_00000013.png\n",
      "Uploaded imagessentiment/contempt/S139_002_00000013.png, 143 files out of an estimated total of 983\n",
      "Uploading imagessentiment/contempt/S147_002_00000011.png\n",
      "Uploaded imagessentiment/contempt/S147_002_00000011.png, 144 files out of an estimated total of 983\n",
      "Uploading imagessentiment/contempt/S147_002_00000012.png\n",
      "Uploaded imagessentiment/contempt/S147_002_00000012.png, 145 files out of an estimated total of 983\n",
      "Uploading imagessentiment/contempt/S147_002_00000013.png\n",
      "Uploaded imagessentiment/contempt/S147_002_00000013.png, 146 files out of an estimated total of 983\n",
      "Uploading imagessentiment/contempt/S148_002_00000013.png\n",
      "Uploaded imagessentiment/contempt/S148_002_00000013.png, 147 files out of an estimated total of 983\n",
      "Uploading imagessentiment/contempt/S148_002_00000014.png\n",
      "Uploaded imagessentiment/contempt/S148_002_00000014.png, 148 files out of an estimated total of 983\n",
      "Uploading imagessentiment/contempt/S148_002_00000015.png\n",
      "Uploaded imagessentiment/contempt/S148_002_00000015.png, 149 files out of an estimated total of 983\n",
      "Uploading imagessentiment/contempt/S149_002_00000011.png\n",
      "Uploaded imagessentiment/contempt/S149_002_00000011.png, 150 files out of an estimated total of 983\n",
      "Uploading imagessentiment/contempt/S149_002_00000012.png\n",
      "Uploaded imagessentiment/contempt/S149_002_00000012.png, 151 files out of an estimated total of 983\n",
      "Uploading imagessentiment/contempt/S149_002_00000013.png\n",
      "Uploaded imagessentiment/contempt/S149_002_00000013.png, 152 files out of an estimated total of 983\n",
      "Uploading imagessentiment/contempt/S151_002_00000027.png\n",
      "Uploaded imagessentiment/contempt/S151_002_00000027.png, 153 files out of an estimated total of 983\n",
      "Uploading imagessentiment/contempt/S151_002_00000028.png\n",
      "Uploaded imagessentiment/contempt/S151_002_00000028.png, 154 files out of an estimated total of 983\n",
      "Uploading imagessentiment/contempt/S151_002_00000029.png\n",
      "Uploaded imagessentiment/contempt/S151_002_00000029.png, 155 files out of an estimated total of 983\n",
      "Uploading imagessentiment/contempt/S154_002_00000011.png\n",
      "Uploaded imagessentiment/contempt/S154_002_00000011.png, 156 files out of an estimated total of 983\n",
      "Uploading imagessentiment/contempt/S154_002_00000012.png\n",
      "Uploaded imagessentiment/contempt/S154_002_00000012.png, 157 files out of an estimated total of 983\n",
      "Uploading imagessentiment/contempt/S154_002_00000013.png\n",
      "Uploaded imagessentiment/contempt/S154_002_00000013.png, 158 files out of an estimated total of 983\n",
      "Uploading imagessentiment/contempt/S155_002_00000010.png\n",
      "Uploaded imagessentiment/contempt/S155_002_00000010.png, 159 files out of an estimated total of 983\n",
      "Uploading imagessentiment/contempt/S155_002_00000011.png\n",
      "Uploaded imagessentiment/contempt/S155_002_00000011.png, 160 files out of an estimated total of 983\n",
      "Uploading imagessentiment/contempt/S155_002_00000012.png\n",
      "Uploaded imagessentiment/contempt/S155_002_00000012.png, 161 files out of an estimated total of 983\n",
      "Uploading imagessentiment/contempt/S156_002_00000019.png\n",
      "Uploaded imagessentiment/contempt/S156_002_00000019.png, 162 files out of an estimated total of 983\n",
      "Uploading imagessentiment/contempt/S156_002_00000020.png\n",
      "Uploaded imagessentiment/contempt/S156_002_00000020.png, 163 files out of an estimated total of 983\n",
      "Uploading imagessentiment/contempt/S156_002_00000021.png\n",
      "Uploaded imagessentiment/contempt/S156_002_00000021.png, 164 files out of an estimated total of 983\n",
      "Uploading imagessentiment/contempt/S157_002_00000009.png\n",
      "Uploaded imagessentiment/contempt/S157_002_00000009.png, 165 files out of an estimated total of 983\n",
      "Uploading imagessentiment/contempt/S157_002_00000010.png\n",
      "Uploaded imagessentiment/contempt/S157_002_00000010.png, 166 files out of an estimated total of 983\n",
      "Uploading imagessentiment/contempt/S157_002_00000011.png\n",
      "Uploaded imagessentiment/contempt/S157_002_00000011.png, 167 files out of an estimated total of 983\n",
      "Uploading imagessentiment/contempt/S158_002_00000009.png\n",
      "Uploaded imagessentiment/contempt/S158_002_00000009.png, 168 files out of an estimated total of 983\n",
      "Uploading imagessentiment/contempt/S158_002_00000010.png\n",
      "Uploaded imagessentiment/contempt/S158_002_00000010.png, 169 files out of an estimated total of 983\n",
      "Uploading imagessentiment/contempt/S158_002_00000011.png\n",
      "Uploaded imagessentiment/contempt/S158_002_00000011.png, 170 files out of an estimated total of 983\n",
      "Uploading imagessentiment/contempt/S160_006_00000008.png\n",
      "Uploaded imagessentiment/contempt/S160_006_00000008.png, 171 files out of an estimated total of 983\n",
      "Uploading imagessentiment/contempt/S160_006_00000009.png\n",
      "Uploaded imagessentiment/contempt/S160_006_00000009.png, 172 files out of an estimated total of 983\n",
      "Uploading imagessentiment/contempt/S160_006_00000010.png\n",
      "Uploaded imagessentiment/contempt/S160_006_00000010.png, 173 files out of an estimated total of 983\n",
      "Uploading imagessentiment/contempt/S502_002_00000007.png\n",
      "Uploaded imagessentiment/contempt/S502_002_00000007.png, 174 files out of an estimated total of 983\n",
      "Uploading imagessentiment/contempt/S502_002_00000008.png\n",
      "Uploaded imagessentiment/contempt/S502_002_00000008.png, 175 files out of an estimated total of 983\n",
      "Uploading imagessentiment/contempt/S502_002_00000009.png\n",
      "Uploaded imagessentiment/contempt/S502_002_00000009.png, 176 files out of an estimated total of 983\n",
      "Uploading imagessentiment/contempt/S503_002_00000006.png\n",
      "Uploaded imagessentiment/contempt/S503_002_00000006.png, 177 files out of an estimated total of 983\n",
      "Uploading imagessentiment/contempt/S503_002_00000007.png\n",
      "Uploaded imagessentiment/contempt/S503_002_00000007.png, 178 files out of an estimated total of 983\n",
      "Uploading imagessentiment/contempt/S503_002_00000008.png\n",
      "Uploaded imagessentiment/contempt/S503_002_00000008.png, 179 files out of an estimated total of 983\n",
      "Uploading imagessentiment/contempt/S504_002_00000007.png\n",
      "Uploaded imagessentiment/contempt/S504_002_00000007.png, 180 files out of an estimated total of 983\n",
      "Uploading imagessentiment/contempt/S504_002_00000008.png\n",
      "Uploaded imagessentiment/contempt/S504_002_00000008.png, 181 files out of an estimated total of 983\n",
      "Uploading imagessentiment/contempt/S504_002_00000009.png\n",
      "Uploaded imagessentiment/contempt/S504_002_00000009.png, 182 files out of an estimated total of 983\n",
      "Uploading imagessentiment/contempt/S505_002_00000019.png\n",
      "Uploaded imagessentiment/contempt/S505_002_00000019.png, 183 files out of an estimated total of 983\n",
      "Uploading imagessentiment/contempt/S505_002_00000020.png\n",
      "Uploaded imagessentiment/contempt/S505_002_00000020.png, 184 files out of an estimated total of 983\n",
      "Uploading imagessentiment/contempt/S505_002_00000021.png\n",
      "Uploaded imagessentiment/contempt/S505_002_00000021.png, 185 files out of an estimated total of 983\n",
      "Uploading imagessentiment/contempt/S506_002_00000007.png\n",
      "Uploaded imagessentiment/contempt/S506_002_00000007.png, 186 files out of an estimated total of 983\n",
      "Uploading imagessentiment/contempt/S506_002_00000008.png\n",
      "Uploaded imagessentiment/contempt/S506_002_00000008.png, 187 files out of an estimated total of 983\n",
      "Uploading imagessentiment/contempt/S506_002_00000009.png\n",
      "Uploaded imagessentiment/contempt/S506_002_00000009.png, 188 files out of an estimated total of 983\n",
      "Uploading imagessentiment/contempt/S895_002_00000005.png\n",
      "Uploaded imagessentiment/contempt/S895_002_00000005.png, 189 files out of an estimated total of 983\n",
      "Uploading imagessentiment/contempt/S895_002_00000006.png\n",
      "Uploaded imagessentiment/contempt/S895_002_00000006.png, 190 files out of an estimated total of 983\n",
      "Uploading imagessentiment/contempt/S895_002_00000007.png\n",
      "Uploaded imagessentiment/contempt/S895_002_00000007.png, 191 files out of an estimated total of 983\n",
      "Uploading imagessentiment/disgust/S005_001_00000009.png\n",
      "Uploaded imagessentiment/disgust/S005_001_00000009.png, 192 files out of an estimated total of 983\n",
      "Uploading imagessentiment/disgust/S005_001_00000010.png\n",
      "Uploaded imagessentiment/disgust/S005_001_00000010.png, 193 files out of an estimated total of 983\n",
      "Uploading imagessentiment/disgust/S005_001_00000011.png\n",
      "Uploaded imagessentiment/disgust/S005_001_00000011.png, 194 files out of an estimated total of 983\n",
      "Uploading imagessentiment/disgust/S011_005_00000018.png\n",
      "Uploaded imagessentiment/disgust/S011_005_00000018.png, 195 files out of an estimated total of 983\n",
      "Uploading imagessentiment/disgust/S011_005_00000019.png\n",
      "Uploaded imagessentiment/disgust/S011_005_00000019.png, 196 files out of an estimated total of 983\n",
      "Uploading imagessentiment/disgust/S011_005_00000020.png\n",
      "Uploaded imagessentiment/disgust/S011_005_00000020.png, 197 files out of an estimated total of 983\n",
      "Uploading imagessentiment/disgust/S022_006_00000015.png\n",
      "Uploaded imagessentiment/disgust/S022_006_00000015.png, 198 files out of an estimated total of 983\n",
      "Uploading imagessentiment/disgust/S022_006_00000016.png\n",
      "Uploaded imagessentiment/disgust/S022_006_00000016.png, 199 files out of an estimated total of 983\n",
      "Uploading imagessentiment/disgust/S022_006_00000017.png\n",
      "Uploaded imagessentiment/disgust/S022_006_00000017.png, 200 files out of an estimated total of 983\n",
      "Uploading imagessentiment/disgust/S032_005_00000014.png\n",
      "Uploaded imagessentiment/disgust/S032_005_00000014.png, 201 files out of an estimated total of 983\n",
      "Uploading imagessentiment/disgust/S032_005_00000015.png\n",
      "Uploaded imagessentiment/disgust/S032_005_00000015.png, 202 files out of an estimated total of 983\n",
      "Uploading imagessentiment/disgust/S032_005_00000016.png\n",
      "Uploaded imagessentiment/disgust/S032_005_00000016.png, 203 files out of an estimated total of 983\n",
      "Uploading imagessentiment/disgust/S035_005_00000017.png\n",
      "Uploaded imagessentiment/disgust/S035_005_00000017.png, 204 files out of an estimated total of 983\n",
      "Uploading imagessentiment/disgust/S035_005_00000018.png\n",
      "Uploaded imagessentiment/disgust/S035_005_00000018.png, 205 files out of an estimated total of 983\n",
      "Uploading imagessentiment/disgust/S035_005_00000019.png\n",
      "Uploaded imagessentiment/disgust/S035_005_00000019.png, 206 files out of an estimated total of 983\n",
      "Uploading imagessentiment/disgust/S044_006_00000017.png\n",
      "Uploaded imagessentiment/disgust/S044_006_00000017.png, 207 files out of an estimated total of 983\n",
      "Uploading imagessentiment/disgust/S044_006_00000018.png\n",
      "Uploaded imagessentiment/disgust/S044_006_00000018.png, 208 files out of an estimated total of 983\n",
      "Uploading imagessentiment/disgust/S044_006_00000019.png\n",
      "Uploaded imagessentiment/disgust/S044_006_00000019.png, 209 files out of an estimated total of 983\n",
      "Uploading imagessentiment/disgust/S045_004_00000013.png\n",
      "Uploaded imagessentiment/disgust/S045_004_00000013.png, 210 files out of an estimated total of 983\n",
      "Uploading imagessentiment/disgust/S045_004_00000014.png\n",
      "Uploaded imagessentiment/disgust/S045_004_00000014.png, 211 files out of an estimated total of 983\n",
      "Uploading imagessentiment/disgust/S045_004_00000015.png\n",
      "Uploaded imagessentiment/disgust/S045_004_00000015.png, 212 files out of an estimated total of 983\n",
      "Uploading imagessentiment/disgust/S046_004_00000015.png\n",
      "Uploaded imagessentiment/disgust/S046_004_00000015.png, 213 files out of an estimated total of 983\n",
      "Uploading imagessentiment/disgust/S046_004_00000016.png\n",
      "Uploaded imagessentiment/disgust/S046_004_00000016.png, 214 files out of an estimated total of 983\n",
      "Uploading imagessentiment/disgust/S046_004_00000017.png\n",
      "Uploaded imagessentiment/disgust/S046_004_00000017.png, 215 files out of an estimated total of 983\n",
      "Uploading imagessentiment/disgust/S051_003_00000016.png\n",
      "Uploaded imagessentiment/disgust/S051_003_00000016.png, 216 files out of an estimated total of 983\n",
      "Uploading imagessentiment/disgust/S051_003_00000017.png\n",
      "Uploaded imagessentiment/disgust/S051_003_00000017.png, 217 files out of an estimated total of 983\n",
      "Uploading imagessentiment/disgust/S051_003_00000018.png\n",
      "Uploaded imagessentiment/disgust/S051_003_00000018.png, 218 files out of an estimated total of 983\n",
      "Uploading imagessentiment/disgust/S052_006_00000011.png\n",
      "Uploaded imagessentiment/disgust/S052_006_00000011.png, 219 files out of an estimated total of 983\n",
      "Uploading imagessentiment/disgust/S052_006_00000012.png\n",
      "Uploaded imagessentiment/disgust/S052_006_00000012.png, 220 files out of an estimated total of 983\n",
      "Uploading imagessentiment/disgust/S052_006_00000013.png\n",
      "Uploaded imagessentiment/disgust/S052_006_00000013.png, 221 files out of an estimated total of 983\n",
      "Uploading imagessentiment/disgust/S054_004_00000022.png\n",
      "Uploaded imagessentiment/disgust/S054_004_00000022.png, 222 files out of an estimated total of 983\n",
      "Uploading imagessentiment/disgust/S054_004_00000023.png\n",
      "Uploaded imagessentiment/disgust/S054_004_00000023.png, 223 files out of an estimated total of 983\n",
      "Uploading imagessentiment/disgust/S054_004_00000024.png\n",
      "Uploaded imagessentiment/disgust/S054_004_00000024.png, 224 files out of an estimated total of 983\n",
      "Uploading imagessentiment/disgust/S055_003_00000007.png\n",
      "Uploaded imagessentiment/disgust/S055_003_00000007.png, 225 files out of an estimated total of 983\n",
      "Uploading imagessentiment/disgust/S055_003_00000008.png\n",
      "Uploaded imagessentiment/disgust/S055_003_00000008.png, 226 files out of an estimated total of 983\n",
      "Uploading imagessentiment/disgust/S055_003_00000009.png\n",
      "Uploaded imagessentiment/disgust/S055_003_00000009.png, 227 files out of an estimated total of 983\n",
      "Uploading imagessentiment/disgust/S056_002_00000008.png\n",
      "Uploaded imagessentiment/disgust/S056_002_00000008.png, 228 files out of an estimated total of 983\n",
      "Uploading imagessentiment/disgust/S056_002_00000009.png\n",
      "Uploaded imagessentiment/disgust/S056_002_00000009.png, 229 files out of an estimated total of 983\n",
      "Uploading imagessentiment/disgust/S056_002_00000010.png\n",
      "Uploaded imagessentiment/disgust/S056_002_00000010.png, 230 files out of an estimated total of 983\n",
      "Uploading imagessentiment/disgust/S057_003_00000013.png\n",
      "Uploaded imagessentiment/disgust/S057_003_00000013.png, 231 files out of an estimated total of 983\n",
      "Uploading imagessentiment/disgust/S057_003_00000014.png\n",
      "Uploaded imagessentiment/disgust/S057_003_00000014.png, 232 files out of an estimated total of 983\n",
      "Uploading imagessentiment/disgust/S057_003_00000015.png\n",
      "Uploaded imagessentiment/disgust/S057_003_00000015.png, 233 files out of an estimated total of 983\n",
      "Uploading imagessentiment/disgust/S058_006_00000016.png\n",
      "Uploaded imagessentiment/disgust/S058_006_00000016.png, 234 files out of an estimated total of 983\n",
      "Uploading imagessentiment/disgust/S058_006_00000017.png\n",
      "Uploaded imagessentiment/disgust/S058_006_00000017.png, 235 files out of an estimated total of 983\n",
      "Uploading imagessentiment/disgust/S058_006_00000018.png\n",
      "Uploaded imagessentiment/disgust/S058_006_00000018.png, 236 files out of an estimated total of 983\n",
      "Uploading imagessentiment/disgust/S060_005_00000019.png\n",
      "Uploaded imagessentiment/disgust/S060_005_00000019.png, 237 files out of an estimated total of 983\n",
      "Uploading imagessentiment/disgust/S060_005_00000020.png\n",
      "Uploaded imagessentiment/disgust/S060_005_00000020.png, 238 files out of an estimated total of 983\n",
      "Uploading imagessentiment/disgust/S060_005_00000021.png\n",
      "Uploaded imagessentiment/disgust/S060_005_00000021.png, 239 files out of an estimated total of 983\n",
      "Uploading imagessentiment/disgust/S061_004_00000020.png\n",
      "Uploaded imagessentiment/disgust/S061_004_00000020.png, 240 files out of an estimated total of 983\n",
      "Uploading imagessentiment/disgust/S061_004_00000021.png\n",
      "Uploaded imagessentiment/disgust/S061_004_00000021.png, 241 files out of an estimated total of 983\n",
      "Uploading imagessentiment/disgust/S061_004_00000022.png\n",
      "Uploaded imagessentiment/disgust/S061_004_00000022.png, 242 files out of an estimated total of 983\n",
      "Uploading imagessentiment/disgust/S062_005_00000027.png\n",
      "Uploaded imagessentiment/disgust/S062_005_00000027.png, 243 files out of an estimated total of 983\n",
      "Uploading imagessentiment/disgust/S062_005_00000028.png\n",
      "Uploaded imagessentiment/disgust/S062_005_00000028.png, 244 files out of an estimated total of 983\n",
      "Uploading imagessentiment/disgust/S062_005_00000029.png\n",
      "Uploaded imagessentiment/disgust/S062_005_00000029.png, 245 files out of an estimated total of 983\n",
      "Uploading imagessentiment/disgust/S065_005_00000006.png\n",
      "Uploaded imagessentiment/disgust/S065_005_00000006.png, 246 files out of an estimated total of 983\n",
      "Uploading imagessentiment/disgust/S065_005_00000007.png\n",
      "Uploaded imagessentiment/disgust/S065_005_00000007.png, 247 files out of an estimated total of 983\n",
      "Uploading imagessentiment/disgust/S065_005_00000008.png\n",
      "Uploaded imagessentiment/disgust/S065_005_00000008.png, 248 files out of an estimated total of 983\n",
      "Uploading imagessentiment/disgust/S067_006_00000009.png\n",
      "Uploaded imagessentiment/disgust/S067_006_00000009.png, 249 files out of an estimated total of 983\n",
      "Uploading imagessentiment/disgust/S067_006_00000010.png\n",
      "Uploaded imagessentiment/disgust/S067_006_00000010.png, 250 files out of an estimated total of 983\n",
      "Uploading imagessentiment/disgust/S067_006_00000011.png\n",
      "Uploaded imagessentiment/disgust/S067_006_00000011.png, 251 files out of an estimated total of 983\n",
      "Uploading imagessentiment/disgust/S068_005_00000019.png\n",
      "Uploaded imagessentiment/disgust/S068_005_00000019.png, 252 files out of an estimated total of 983\n",
      "Uploading imagessentiment/disgust/S068_005_00000020.png\n",
      "Uploaded imagessentiment/disgust/S068_005_00000020.png, 253 files out of an estimated total of 983\n",
      "Uploading imagessentiment/disgust/S068_005_00000021.png\n",
      "Uploaded imagessentiment/disgust/S068_005_00000021.png, 254 files out of an estimated total of 983\n",
      "Uploading imagessentiment/disgust/S069_003_00000009.png\n",
      "Uploaded imagessentiment/disgust/S069_003_00000009.png, 255 files out of an estimated total of 983\n",
      "Uploading imagessentiment/disgust/S069_003_00000010.png\n",
      "Uploaded imagessentiment/disgust/S069_003_00000010.png, 256 files out of an estimated total of 983\n",
      "Uploading imagessentiment/disgust/S069_003_00000011.png\n",
      "Uploaded imagessentiment/disgust/S069_003_00000011.png, 257 files out of an estimated total of 983\n",
      "Uploading imagessentiment/disgust/S070_005_00000014.png\n",
      "Uploaded imagessentiment/disgust/S070_005_00000014.png, 258 files out of an estimated total of 983\n",
      "Uploading imagessentiment/disgust/S070_005_00000015.png\n",
      "Uploaded imagessentiment/disgust/S070_005_00000015.png, 259 files out of an estimated total of 983\n",
      "Uploading imagessentiment/disgust/S070_005_00000016.png\n",
      "Uploaded imagessentiment/disgust/S070_005_00000016.png, 260 files out of an estimated total of 983\n",
      "Uploading imagessentiment/disgust/S071_006_00000012.png\n",
      "Uploaded imagessentiment/disgust/S071_006_00000012.png, 261 files out of an estimated total of 983\n",
      "Uploading imagessentiment/disgust/S071_006_00000013.png\n",
      "Uploaded imagessentiment/disgust/S071_006_00000013.png, 262 files out of an estimated total of 983\n",
      "Uploading imagessentiment/disgust/S071_006_00000014.png\n",
      "Uploaded imagessentiment/disgust/S071_006_00000014.png, 263 files out of an estimated total of 983\n",
      "Uploading imagessentiment/disgust/S073_006_00000012.png\n",
      "Uploaded imagessentiment/disgust/S073_006_00000012.png, 264 files out of an estimated total of 983\n",
      "Uploading imagessentiment/disgust/S073_006_00000013.png\n",
      "Uploaded imagessentiment/disgust/S073_006_00000013.png, 265 files out of an estimated total of 983\n",
      "Uploading imagessentiment/disgust/S073_006_00000014.png\n",
      "Uploaded imagessentiment/disgust/S073_006_00000014.png, 266 files out of an estimated total of 983\n",
      "Uploading imagessentiment/disgust/S074_004_00000016.png\n",
      "Uploaded imagessentiment/disgust/S074_004_00000016.png, 267 files out of an estimated total of 983\n",
      "Uploading imagessentiment/disgust/S074_004_00000017.png\n",
      "Uploaded imagessentiment/disgust/S074_004_00000017.png, 268 files out of an estimated total of 983\n",
      "Uploading imagessentiment/disgust/S074_004_00000018.png\n",
      "Uploaded imagessentiment/disgust/S074_004_00000018.png, 269 files out of an estimated total of 983\n",
      "Uploading imagessentiment/disgust/S075_005_00000010.png\n",
      "Uploaded imagessentiment/disgust/S075_005_00000010.png, 270 files out of an estimated total of 983\n",
      "Uploading imagessentiment/disgust/S075_005_00000011.png\n",
      "Uploaded imagessentiment/disgust/S075_005_00000011.png, 271 files out of an estimated total of 983\n",
      "Uploading imagessentiment/disgust/S075_005_00000012.png\n",
      "Uploaded imagessentiment/disgust/S075_005_00000012.png, 272 files out of an estimated total of 983\n",
      "Uploading imagessentiment/disgust/S076_005_00000010.png\n",
      "Uploaded imagessentiment/disgust/S076_005_00000010.png, 273 files out of an estimated total of 983\n",
      "Uploading imagessentiment/disgust/S076_005_00000011.png\n",
      "Uploaded imagessentiment/disgust/S076_005_00000011.png, 274 files out of an estimated total of 983\n",
      "Uploading imagessentiment/disgust/S076_005_00000012.png\n",
      "Uploaded imagessentiment/disgust/S076_005_00000012.png, 275 files out of an estimated total of 983\n",
      "Uploading imagessentiment/disgust/S077_006_00000012.png\n",
      "Uploaded imagessentiment/disgust/S077_006_00000012.png, 276 files out of an estimated total of 983\n",
      "Uploading imagessentiment/disgust/S077_006_00000013.png\n",
      "Uploaded imagessentiment/disgust/S077_006_00000013.png, 277 files out of an estimated total of 983\n",
      "Uploading imagessentiment/disgust/S077_006_00000014.png\n",
      "Uploaded imagessentiment/disgust/S077_006_00000014.png, 278 files out of an estimated total of 983\n",
      "Uploading imagessentiment/disgust/S078_007_00000011.png\n",
      "Uploaded imagessentiment/disgust/S078_007_00000011.png, 279 files out of an estimated total of 983\n",
      "Uploading imagessentiment/disgust/S078_007_00000012.png\n",
      "Uploaded imagessentiment/disgust/S078_007_00000012.png, 280 files out of an estimated total of 983\n",
      "Uploading imagessentiment/disgust/S078_007_00000013.png\n",
      "Uploaded imagessentiment/disgust/S078_007_00000013.png, 281 files out of an estimated total of 983\n",
      "Uploading imagessentiment/disgust/S079_002_00000010.png\n",
      "Uploaded imagessentiment/disgust/S079_002_00000010.png, 282 files out of an estimated total of 983\n",
      "Uploading imagessentiment/disgust/S079_002_00000011.png\n",
      "Uploaded imagessentiment/disgust/S079_002_00000011.png, 283 files out of an estimated total of 983\n",
      "Uploading imagessentiment/disgust/S079_002_00000012.png\n",
      "Uploaded imagessentiment/disgust/S079_002_00000012.png, 284 files out of an estimated total of 983\n",
      "Uploading imagessentiment/disgust/S080_008_00000007.png\n",
      "Uploaded imagessentiment/disgust/S080_008_00000007.png, 285 files out of an estimated total of 983\n",
      "Uploading imagessentiment/disgust/S080_008_00000008.png\n",
      "Uploaded imagessentiment/disgust/S080_008_00000008.png, 286 files out of an estimated total of 983\n",
      "Uploading imagessentiment/disgust/S080_008_00000009.png\n",
      "Uploaded imagessentiment/disgust/S080_008_00000009.png, 287 files out of an estimated total of 983\n",
      "Uploading imagessentiment/disgust/S081_008_00000009.png\n",
      "Uploaded imagessentiment/disgust/S081_008_00000009.png, 288 files out of an estimated total of 983\n",
      "Uploading imagessentiment/disgust/S081_008_00000010.png\n",
      "Uploaded imagessentiment/disgust/S081_008_00000010.png, 289 files out of an estimated total of 983\n",
      "Uploading imagessentiment/disgust/S081_008_00000011.png\n",
      "Uploaded imagessentiment/disgust/S081_008_00000011.png, 290 files out of an estimated total of 983\n",
      "Uploading imagessentiment/disgust/S082_007_00000008.png\n",
      "Uploaded imagessentiment/disgust/S082_007_00000008.png, 291 files out of an estimated total of 983\n",
      "Uploading imagessentiment/disgust/S082_007_00000009.png\n",
      "Uploaded imagessentiment/disgust/S082_007_00000009.png, 292 files out of an estimated total of 983\n",
      "Uploading imagessentiment/disgust/S082_007_00000010.png\n",
      "Uploaded imagessentiment/disgust/S082_007_00000010.png, 293 files out of an estimated total of 983\n",
      "Uploading imagessentiment/disgust/S085_004_00000015.png\n",
      "Uploaded imagessentiment/disgust/S085_004_00000015.png, 294 files out of an estimated total of 983\n",
      "Uploading imagessentiment/disgust/S085_004_00000016.png\n",
      "Uploaded imagessentiment/disgust/S085_004_00000016.png, 295 files out of an estimated total of 983\n",
      "Uploading imagessentiment/disgust/S085_004_00000017.png\n",
      "Uploaded imagessentiment/disgust/S085_004_00000017.png, 296 files out of an estimated total of 983\n",
      "Uploading imagessentiment/disgust/S087_004_00000010.png\n",
      "Uploaded imagessentiment/disgust/S087_004_00000010.png, 297 files out of an estimated total of 983\n",
      "Uploading imagessentiment/disgust/S087_004_00000011.png\n",
      "Uploaded imagessentiment/disgust/S087_004_00000011.png, 298 files out of an estimated total of 983\n",
      "Uploading imagessentiment/disgust/S087_004_00000012.png\n",
      "Uploaded imagessentiment/disgust/S087_004_00000012.png, 299 files out of an estimated total of 983\n",
      "Uploading imagessentiment/disgust/S088_004_00000018.png\n",
      "Uploaded imagessentiment/disgust/S088_004_00000018.png, 300 files out of an estimated total of 983\n",
      "Uploading imagessentiment/disgust/S088_004_00000019.png\n",
      "Uploaded imagessentiment/disgust/S088_004_00000019.png, 301 files out of an estimated total of 983\n",
      "Uploading imagessentiment/disgust/S088_004_00000020.png\n",
      "Uploaded imagessentiment/disgust/S088_004_00000020.png, 302 files out of an estimated total of 983\n",
      "Uploading imagessentiment/disgust/S090_006_00000009.png\n",
      "Uploaded imagessentiment/disgust/S090_006_00000009.png, 303 files out of an estimated total of 983\n",
      "Uploading imagessentiment/disgust/S090_006_00000010.png\n",
      "Uploaded imagessentiment/disgust/S090_006_00000010.png, 304 files out of an estimated total of 983\n",
      "Uploading imagessentiment/disgust/S090_006_00000011.png\n",
      "Uploaded imagessentiment/disgust/S090_006_00000011.png, 305 files out of an estimated total of 983\n",
      "Uploading imagessentiment/disgust/S095_006_00000011.png\n",
      "Uploaded imagessentiment/disgust/S095_006_00000011.png, 306 files out of an estimated total of 983\n",
      "Uploading imagessentiment/disgust/S095_006_00000012.png\n",
      "Uploaded imagessentiment/disgust/S095_006_00000012.png, 307 files out of an estimated total of 983\n",
      "Uploading imagessentiment/disgust/S095_006_00000013.png\n",
      "Uploaded imagessentiment/disgust/S095_006_00000013.png, 308 files out of an estimated total of 983\n",
      "Uploading imagessentiment/disgust/S096_003_00000010.png\n",
      "Uploaded imagessentiment/disgust/S096_003_00000010.png, 309 files out of an estimated total of 983\n",
      "Uploading imagessentiment/disgust/S096_003_00000011.png\n",
      "Uploaded imagessentiment/disgust/S096_003_00000011.png, 310 files out of an estimated total of 983\n",
      "Uploading imagessentiment/disgust/S096_003_00000012.png\n",
      "Uploaded imagessentiment/disgust/S096_003_00000012.png, 311 files out of an estimated total of 983\n",
      "Uploading imagessentiment/disgust/S097_004_00000028.png\n",
      "Uploaded imagessentiment/disgust/S097_004_00000028.png, 312 files out of an estimated total of 983\n",
      "Uploading imagessentiment/disgust/S097_004_00000029.png\n",
      "Uploaded imagessentiment/disgust/S097_004_00000029.png, 313 files out of an estimated total of 983\n",
      "Uploading imagessentiment/disgust/S097_004_00000030.png\n",
      "Uploaded imagessentiment/disgust/S097_004_00000030.png, 314 files out of an estimated total of 983\n",
      "Uploading imagessentiment/disgust/S098_003_00000011.png\n",
      "Uploaded imagessentiment/disgust/S098_003_00000011.png, 315 files out of an estimated total of 983\n",
      "Uploading imagessentiment/disgust/S098_003_00000012.png\n",
      "Uploaded imagessentiment/disgust/S098_003_00000012.png, 316 files out of an estimated total of 983\n",
      "Uploading imagessentiment/disgust/S098_003_00000013.png\n",
      "Uploaded imagessentiment/disgust/S098_003_00000013.png, 317 files out of an estimated total of 983\n",
      "Uploading imagessentiment/disgust/S099_007_00000010.png\n",
      "Uploaded imagessentiment/disgust/S099_007_00000010.png, 318 files out of an estimated total of 983\n",
      "Uploading imagessentiment/disgust/S099_007_00000011.png\n",
      "Uploaded imagessentiment/disgust/S099_007_00000011.png, 319 files out of an estimated total of 983\n",
      "Uploading imagessentiment/disgust/S099_007_00000012.png\n",
      "Uploaded imagessentiment/disgust/S099_007_00000012.png, 320 files out of an estimated total of 983\n",
      "Uploading imagessentiment/disgust/S102_009_00000013.png\n",
      "Uploaded imagessentiment/disgust/S102_009_00000013.png, 321 files out of an estimated total of 983\n",
      "Uploading imagessentiment/disgust/S102_009_00000014.png\n",
      "Uploaded imagessentiment/disgust/S102_009_00000014.png, 322 files out of an estimated total of 983\n",
      "Uploading imagessentiment/disgust/S102_009_00000015.png\n",
      "Uploaded imagessentiment/disgust/S102_009_00000015.png, 323 files out of an estimated total of 983\n",
      "Uploading imagessentiment/disgust/S105_008_00000008.png\n",
      "Uploaded imagessentiment/disgust/S105_008_00000008.png, 324 files out of an estimated total of 983\n",
      "Uploading imagessentiment/disgust/S105_008_00000009.png\n",
      "Uploaded imagessentiment/disgust/S105_008_00000009.png, 325 files out of an estimated total of 983\n",
      "Uploading imagessentiment/disgust/S105_008_00000010.png\n",
      "Uploaded imagessentiment/disgust/S105_008_00000010.png, 326 files out of an estimated total of 983\n",
      "Uploading imagessentiment/disgust/S106_004_00000006.png\n",
      "Uploaded imagessentiment/disgust/S106_004_00000006.png, 327 files out of an estimated total of 983\n",
      "Uploading imagessentiment/disgust/S106_004_00000007.png\n",
      "Uploaded imagessentiment/disgust/S106_004_00000007.png, 328 files out of an estimated total of 983\n",
      "Uploading imagessentiment/disgust/S106_004_00000008.png\n",
      "Uploaded imagessentiment/disgust/S106_004_00000008.png, 329 files out of an estimated total of 983\n",
      "Uploading imagessentiment/disgust/S107_005_00000009.png\n",
      "Uploaded imagessentiment/disgust/S107_005_00000009.png, 330 files out of an estimated total of 983\n",
      "Uploading imagessentiment/disgust/S107_005_00000010.png\n",
      "Uploaded imagessentiment/disgust/S107_005_00000010.png, 331 files out of an estimated total of 983\n",
      "Uploading imagessentiment/disgust/S107_005_00000011.png\n",
      "Uploaded imagessentiment/disgust/S107_005_00000011.png, 332 files out of an estimated total of 983\n",
      "Uploading imagessentiment/disgust/S108_006_00000018.png\n",
      "Uploaded imagessentiment/disgust/S108_006_00000018.png, 333 files out of an estimated total of 983\n",
      "Uploading imagessentiment/disgust/S108_006_00000019.png\n",
      "Uploaded imagessentiment/disgust/S108_006_00000019.png, 334 files out of an estimated total of 983\n",
      "Uploading imagessentiment/disgust/S108_006_00000020.png\n",
      "Uploaded imagessentiment/disgust/S108_006_00000020.png, 335 files out of an estimated total of 983\n",
      "Uploading imagessentiment/disgust/S109_005_00000012.png\n",
      "Uploaded imagessentiment/disgust/S109_005_00000012.png, 336 files out of an estimated total of 983\n",
      "Uploading imagessentiment/disgust/S109_005_00000013.png\n",
      "Uploaded imagessentiment/disgust/S109_005_00000013.png, 337 files out of an estimated total of 983\n",
      "Uploading imagessentiment/disgust/S109_005_00000014.png\n",
      "Uploaded imagessentiment/disgust/S109_005_00000014.png, 338 files out of an estimated total of 983\n",
      "Uploading imagessentiment/disgust/S111_007_00000012.png\n",
      "Uploaded imagessentiment/disgust/S111_007_00000012.png, 339 files out of an estimated total of 983\n",
      "Uploading imagessentiment/disgust/S111_007_00000013.png\n",
      "Uploaded imagessentiment/disgust/S111_007_00000013.png, 340 files out of an estimated total of 983\n",
      "Uploading imagessentiment/disgust/S111_007_00000014.png\n",
      "Uploaded imagessentiment/disgust/S111_007_00000014.png, 341 files out of an estimated total of 983\n",
      "Uploading imagessentiment/disgust/S116_006_00000005.png\n",
      "Uploaded imagessentiment/disgust/S116_006_00000005.png, 342 files out of an estimated total of 983\n",
      "Uploading imagessentiment/disgust/S116_006_00000006.png\n",
      "Uploaded imagessentiment/disgust/S116_006_00000006.png, 343 files out of an estimated total of 983\n",
      "Uploading imagessentiment/disgust/S116_006_00000007.png\n",
      "Uploaded imagessentiment/disgust/S116_006_00000007.png, 344 files out of an estimated total of 983\n",
      "Uploading imagessentiment/disgust/S124_006_00000009.png\n",
      "Uploaded imagessentiment/disgust/S124_006_00000009.png, 345 files out of an estimated total of 983\n",
      "Uploading imagessentiment/disgust/S124_006_00000010.png\n",
      "Uploaded imagessentiment/disgust/S124_006_00000010.png, 346 files out of an estimated total of 983\n",
      "Uploading imagessentiment/disgust/S124_006_00000011.png\n",
      "Uploaded imagessentiment/disgust/S124_006_00000011.png, 347 files out of an estimated total of 983\n",
      "Uploading imagessentiment/disgust/S125_008_00000008.png\n",
      "Uploaded imagessentiment/disgust/S125_008_00000008.png, 348 files out of an estimated total of 983\n",
      "Uploading imagessentiment/disgust/S125_008_00000009.png\n",
      "Uploaded imagessentiment/disgust/S125_008_00000009.png, 349 files out of an estimated total of 983\n",
      "Uploading imagessentiment/disgust/S125_008_00000010.png\n",
      "Uploaded imagessentiment/disgust/S125_008_00000010.png, 350 files out of an estimated total of 983\n",
      "Uploading imagessentiment/disgust/S128_004_00000011.png\n",
      "Uploaded imagessentiment/disgust/S128_004_00000011.png, 351 files out of an estimated total of 983\n",
      "Uploading imagessentiment/disgust/S128_004_00000012.png\n",
      "Uploaded imagessentiment/disgust/S128_004_00000012.png, 352 files out of an estimated total of 983\n",
      "Uploading imagessentiment/disgust/S128_004_00000013.png\n",
      "Uploaded imagessentiment/disgust/S128_004_00000013.png, 353 files out of an estimated total of 983\n",
      "Uploading imagessentiment/disgust/S129_011_00000016.png\n",
      "Uploaded imagessentiment/disgust/S129_011_00000016.png, 354 files out of an estimated total of 983\n",
      "Uploading imagessentiment/disgust/S129_011_00000017.png\n",
      "Uploaded imagessentiment/disgust/S129_011_00000017.png, 355 files out of an estimated total of 983\n",
      "Uploading imagessentiment/disgust/S129_011_00000018.png\n",
      "Uploaded imagessentiment/disgust/S129_011_00000018.png, 356 files out of an estimated total of 983\n",
      "Uploading imagessentiment/disgust/S130_012_00000009.png\n",
      "Uploaded imagessentiment/disgust/S130_012_00000009.png, 357 files out of an estimated total of 983\n",
      "Uploading imagessentiment/disgust/S130_012_00000010.png\n",
      "Uploaded imagessentiment/disgust/S130_012_00000010.png, 358 files out of an estimated total of 983\n",
      "Uploading imagessentiment/disgust/S130_012_00000011.png\n",
      "Uploaded imagessentiment/disgust/S130_012_00000011.png, 359 files out of an estimated total of 983\n",
      "Uploading imagessentiment/disgust/S131_010_00000016.png\n",
      "Uploaded imagessentiment/disgust/S131_010_00000016.png, 360 files out of an estimated total of 983\n",
      "Uploading imagessentiment/disgust/S131_010_00000017.png\n",
      "Uploaded imagessentiment/disgust/S131_010_00000017.png, 361 files out of an estimated total of 983\n",
      "Uploading imagessentiment/disgust/S131_010_00000018.png\n",
      "Uploaded imagessentiment/disgust/S131_010_00000018.png, 362 files out of an estimated total of 983\n",
      "Uploading imagessentiment/disgust/S132_005_00000014.png\n",
      "Uploaded imagessentiment/disgust/S132_005_00000014.png, 363 files out of an estimated total of 983\n",
      "Uploading imagessentiment/disgust/S132_005_00000015.png\n",
      "Uploaded imagessentiment/disgust/S132_005_00000015.png, 364 files out of an estimated total of 983\n",
      "Uploading imagessentiment/disgust/S132_005_00000016.png\n",
      "Uploaded imagessentiment/disgust/S132_005_00000016.png, 365 files out of an estimated total of 983\n",
      "Uploading imagessentiment/disgust/S134_008_00000011.png\n",
      "Uploaded imagessentiment/disgust/S134_008_00000011.png, 366 files out of an estimated total of 983\n",
      "Uploading imagessentiment/disgust/S134_008_00000012.png\n",
      "Uploaded imagessentiment/disgust/S134_008_00000012.png, 367 files out of an estimated total of 983\n",
      "Uploading imagessentiment/disgust/S134_008_00000013.png\n",
      "Uploaded imagessentiment/disgust/S134_008_00000013.png, 368 files out of an estimated total of 983\n",
      "Uploading imagessentiment/fear/S011_003_00000012.png\n",
      "Uploaded imagessentiment/fear/S011_003_00000012.png, 369 files out of an estimated total of 983\n",
      "Uploading imagessentiment/fear/S011_003_00000013.png\n",
      "Uploaded imagessentiment/fear/S011_003_00000013.png, 370 files out of an estimated total of 983\n",
      "Uploading imagessentiment/fear/S011_003_00000014.png\n",
      "Uploaded imagessentiment/fear/S011_003_00000014.png, 371 files out of an estimated total of 983\n",
      "Uploading imagessentiment/fear/S032_004_00000012.png\n",
      "Uploaded imagessentiment/fear/S032_004_00000012.png, 372 files out of an estimated total of 983\n",
      "Uploading imagessentiment/fear/S032_004_00000013.png\n",
      "Uploaded imagessentiment/fear/S032_004_00000013.png, 373 files out of an estimated total of 983\n",
      "Uploading imagessentiment/fear/S032_004_00000014.png\n",
      "Uploaded imagessentiment/fear/S032_004_00000014.png, 374 files out of an estimated total of 983\n",
      "Uploading imagessentiment/fear/S046_003_00000014.png\n",
      "Uploaded imagessentiment/fear/S046_003_00000014.png, 375 files out of an estimated total of 983\n",
      "Uploading imagessentiment/fear/S046_003_00000015.png\n",
      "Uploaded imagessentiment/fear/S046_003_00000015.png, 376 files out of an estimated total of 983\n",
      "Uploading imagessentiment/fear/S046_003_00000016.png\n",
      "Uploaded imagessentiment/fear/S046_003_00000016.png, 377 files out of an estimated total of 983\n",
      "Uploading imagessentiment/fear/S050_001_00000015.png\n",
      "Uploaded imagessentiment/fear/S050_001_00000015.png, 378 files out of an estimated total of 983\n",
      "Uploading imagessentiment/fear/S050_001_00000016.png\n",
      "Uploaded imagessentiment/fear/S050_001_00000016.png, 379 files out of an estimated total of 983\n",
      "Uploading imagessentiment/fear/S050_001_00000017.png\n",
      "Uploaded imagessentiment/fear/S050_001_00000017.png, 380 files out of an estimated total of 983\n",
      "Uploading imagessentiment/fear/S054_002_00000013.png\n",
      "Uploaded imagessentiment/fear/S054_002_00000013.png, 381 files out of an estimated total of 983\n",
      "Uploading imagessentiment/fear/S054_002_00000014.png\n",
      "Uploaded imagessentiment/fear/S054_002_00000014.png, 382 files out of an estimated total of 983\n",
      "Uploading imagessentiment/fear/S054_002_00000015.png\n",
      "Uploaded imagessentiment/fear/S054_002_00000015.png, 383 files out of an estimated total of 983\n",
      "Uploading imagessentiment/fear/S055_006_00000006.png\n",
      "Uploaded imagessentiment/fear/S055_006_00000006.png, 384 files out of an estimated total of 983\n",
      "Uploading imagessentiment/fear/S055_006_00000007.png\n",
      "Uploaded imagessentiment/fear/S055_006_00000007.png, 385 files out of an estimated total of 983\n",
      "Uploading imagessentiment/fear/S055_006_00000008.png\n",
      "Uploaded imagessentiment/fear/S055_006_00000008.png, 386 files out of an estimated total of 983\n",
      "Uploading imagessentiment/fear/S059_002_00000015.png\n",
      "Uploaded imagessentiment/fear/S059_002_00000015.png, 387 files out of an estimated total of 983\n",
      "Uploading imagessentiment/fear/S059_002_00000016.png\n",
      "Uploaded imagessentiment/fear/S059_002_00000016.png, 388 files out of an estimated total of 983\n",
      "Uploading imagessentiment/fear/S059_002_00000017.png\n",
      "Uploaded imagessentiment/fear/S059_002_00000017.png, 389 files out of an estimated total of 983\n",
      "Uploading imagessentiment/fear/S062_001_00000015.png\n",
      "Uploaded imagessentiment/fear/S062_001_00000015.png, 390 files out of an estimated total of 983\n",
      "Uploading imagessentiment/fear/S062_001_00000016.png\n",
      "Uploaded imagessentiment/fear/S062_001_00000016.png, 391 files out of an estimated total of 983\n",
      "Uploading imagessentiment/fear/S062_001_00000017.png\n",
      "Uploaded imagessentiment/fear/S062_001_00000017.png, 392 files out of an estimated total of 983\n",
      "Uploading imagessentiment/fear/S065_002_00000020.png\n",
      "Uploaded imagessentiment/fear/S065_002_00000020.png, 393 files out of an estimated total of 983\n",
      "Uploading imagessentiment/fear/S065_002_00000021.png\n",
      "Uploaded imagessentiment/fear/S065_002_00000021.png, 394 files out of an estimated total of 983\n",
      "Uploading imagessentiment/fear/S065_002_00000022.png\n",
      "Uploaded imagessentiment/fear/S065_002_00000022.png, 395 files out of an estimated total of 983\n",
      "Uploading imagessentiment/fear/S068_004_00000008.png\n",
      "Uploaded imagessentiment/fear/S068_004_00000008.png, 396 files out of an estimated total of 983\n",
      "Uploading imagessentiment/fear/S068_004_00000009.png\n",
      "Uploaded imagessentiment/fear/S068_004_00000009.png, 397 files out of an estimated total of 983\n",
      "Uploading imagessentiment/fear/S068_004_00000010.png\n",
      "Uploaded imagessentiment/fear/S068_004_00000010.png, 398 files out of an estimated total of 983\n",
      "Uploading imagessentiment/fear/S074_001_00000018.png\n",
      "Uploaded imagessentiment/fear/S074_001_00000018.png, 399 files out of an estimated total of 983\n",
      "Uploading imagessentiment/fear/S074_001_00000019.png\n",
      "Uploaded imagessentiment/fear/S074_001_00000019.png, 400 files out of an estimated total of 983\n",
      "Uploading imagessentiment/fear/S074_001_00000020.png\n",
      "Uploaded imagessentiment/fear/S074_001_00000020.png, 401 files out of an estimated total of 983\n",
      "Uploading imagessentiment/fear/S084_002_00000021.png\n",
      "Uploaded imagessentiment/fear/S084_002_00000021.png, 402 files out of an estimated total of 983\n",
      "Uploading imagessentiment/fear/S084_002_00000022.png\n",
      "Uploaded imagessentiment/fear/S084_002_00000022.png, 403 files out of an estimated total of 983\n",
      "Uploading imagessentiment/fear/S084_002_00000023.png\n",
      "Uploaded imagessentiment/fear/S084_002_00000023.png, 404 files out of an estimated total of 983\n",
      "Uploading imagessentiment/fear/S091_001_00000013.png\n",
      "Uploaded imagessentiment/fear/S091_001_00000013.png, 405 files out of an estimated total of 983\n",
      "Uploading imagessentiment/fear/S091_001_00000014.png\n",
      "Uploaded imagessentiment/fear/S091_001_00000014.png, 406 files out of an estimated total of 983\n",
      "Uploading imagessentiment/fear/S091_001_00000015.png\n",
      "Uploaded imagessentiment/fear/S091_001_00000015.png, 407 files out of an estimated total of 983\n",
      "Uploading imagessentiment/fear/S102_003_00000014.png\n",
      "Uploaded imagessentiment/fear/S102_003_00000014.png, 408 files out of an estimated total of 983\n",
      "Uploading imagessentiment/fear/S102_003_00000015.png\n",
      "Uploaded imagessentiment/fear/S102_003_00000015.png, 409 files out of an estimated total of 983\n",
      "Uploading imagessentiment/fear/S102_003_00000016.png\n",
      "Uploaded imagessentiment/fear/S102_003_00000016.png, 410 files out of an estimated total of 983\n",
      "Uploading imagessentiment/fear/S117_003_00000012.png\n",
      "Uploaded imagessentiment/fear/S117_003_00000012.png, 411 files out of an estimated total of 983\n",
      "Uploading imagessentiment/fear/S117_003_00000013.png\n",
      "Uploaded imagessentiment/fear/S117_003_00000013.png, 412 files out of an estimated total of 983\n",
      "Uploading imagessentiment/fear/S117_003_00000014.png\n",
      "Uploaded imagessentiment/fear/S117_003_00000014.png, 413 files out of an estimated total of 983\n",
      "Uploading imagessentiment/fear/S119_003_00000022.png\n",
      "Uploaded imagessentiment/fear/S119_003_00000022.png, 414 files out of an estimated total of 983\n",
      "Uploading imagessentiment/fear/S119_003_00000023.png\n",
      "Uploaded imagessentiment/fear/S119_003_00000023.png, 415 files out of an estimated total of 983\n",
      "Uploading imagessentiment/fear/S119_003_00000024.png\n",
      "Uploaded imagessentiment/fear/S119_003_00000024.png, 416 files out of an estimated total of 983\n",
      "Uploading imagessentiment/fear/S124_003_00000009.png\n",
      "Uploaded imagessentiment/fear/S124_003_00000009.png, 417 files out of an estimated total of 983\n",
      "Uploading imagessentiment/fear/S124_003_00000010.png\n",
      "Uploaded imagessentiment/fear/S124_003_00000010.png, 418 files out of an estimated total of 983\n",
      "Uploading imagessentiment/fear/S124_003_00000011.png\n",
      "Uploaded imagessentiment/fear/S124_003_00000011.png, 419 files out of an estimated total of 983\n",
      "Uploading imagessentiment/fear/S125_006_00000020.png\n",
      "Uploaded imagessentiment/fear/S125_006_00000020.png, 420 files out of an estimated total of 983\n",
      "Uploading imagessentiment/fear/S125_006_00000021.png\n",
      "Uploaded imagessentiment/fear/S125_006_00000021.png, 421 files out of an estimated total of 983\n",
      "Uploading imagessentiment/fear/S125_006_00000022.png\n",
      "Uploaded imagessentiment/fear/S125_006_00000022.png, 422 files out of an estimated total of 983\n",
      "Uploading imagessentiment/fear/S132_003_00000021.png\n",
      "Uploaded imagessentiment/fear/S132_003_00000021.png, 423 files out of an estimated total of 983\n",
      "Uploading imagessentiment/fear/S132_003_00000022.png\n",
      "Uploaded imagessentiment/fear/S132_003_00000022.png, 424 files out of an estimated total of 983\n",
      "Uploading imagessentiment/fear/S132_003_00000023.png\n",
      "Uploaded imagessentiment/fear/S132_003_00000023.png, 425 files out of an estimated total of 983\n",
      "Uploading imagessentiment/fear/S138_001_00000010.png\n",
      "Uploaded imagessentiment/fear/S138_001_00000010.png, 426 files out of an estimated total of 983\n",
      "Uploading imagessentiment/fear/S138_001_00000011.png\n",
      "Uploaded imagessentiment/fear/S138_001_00000011.png, 427 files out of an estimated total of 983\n",
      "Uploading imagessentiment/fear/S138_001_00000012.png\n",
      "Uploaded imagessentiment/fear/S138_001_00000012.png, 428 files out of an estimated total of 983\n",
      "Uploading imagessentiment/fear/S501_004_00000054.png\n",
      "Uploaded imagessentiment/fear/S501_004_00000054.png, 429 files out of an estimated total of 983\n",
      "Uploading imagessentiment/fear/S501_004_00000055.png\n",
      "Uploaded imagessentiment/fear/S501_004_00000055.png, 430 files out of an estimated total of 983\n",
      "Uploading imagessentiment/fear/S501_004_00000056.png\n",
      "Uploaded imagessentiment/fear/S501_004_00000056.png, 431 files out of an estimated total of 983\n",
      "Uploading imagessentiment/fear/S502_004_00000050.png\n",
      "Uploaded imagessentiment/fear/S502_004_00000050.png, 432 files out of an estimated total of 983\n",
      "Uploading imagessentiment/fear/S502_004_00000051.png\n",
      "Uploaded imagessentiment/fear/S502_004_00000051.png, 433 files out of an estimated total of 983\n",
      "Uploading imagessentiment/fear/S502_004_00000052.png\n",
      "Uploaded imagessentiment/fear/S502_004_00000052.png, 434 files out of an estimated total of 983\n",
      "Uploading imagessentiment/fear/S504_004_00000013.png\n",
      "Uploaded imagessentiment/fear/S504_004_00000013.png, 435 files out of an estimated total of 983\n",
      "Uploading imagessentiment/fear/S504_004_00000014.png\n",
      "Uploaded imagessentiment/fear/S504_004_00000014.png, 436 files out of an estimated total of 983\n",
      "Uploading imagessentiment/fear/S504_004_00000015.png\n",
      "Uploaded imagessentiment/fear/S504_004_00000015.png, 437 files out of an estimated total of 983\n",
      "Uploading imagessentiment/fear/S506_004_00000036.png\n",
      "Uploaded imagessentiment/fear/S506_004_00000036.png, 438 files out of an estimated total of 983\n",
      "Uploading imagessentiment/fear/S506_004_00000037.png\n",
      "Uploaded imagessentiment/fear/S506_004_00000037.png, 439 files out of an estimated total of 983\n",
      "Uploading imagessentiment/fear/S506_004_00000038.png\n",
      "Uploaded imagessentiment/fear/S506_004_00000038.png, 440 files out of an estimated total of 983\n",
      "Uploading imagessentiment/fear/S999_003_00000053.png\n",
      "Uploaded imagessentiment/fear/S999_003_00000053.png, 441 files out of an estimated total of 983\n",
      "Uploading imagessentiment/fear/S999_003_00000054.png\n",
      "Uploaded imagessentiment/fear/S999_003_00000054.png, 442 files out of an estimated total of 983\n",
      "Uploading imagessentiment/fear/S999_003_00000055.png\n",
      "Uploaded imagessentiment/fear/S999_003_00000055.png, 443 files out of an estimated total of 983\n",
      "Uploading imagessentiment/happy/S010_006_00000013.png\n",
      "Uploaded imagessentiment/happy/S010_006_00000013.png, 444 files out of an estimated total of 983\n",
      "Uploading imagessentiment/happy/S010_006_00000014.png\n",
      "Uploaded imagessentiment/happy/S010_006_00000014.png, 445 files out of an estimated total of 983\n",
      "Uploading imagessentiment/happy/S010_006_00000015.png\n",
      "Uploaded imagessentiment/happy/S010_006_00000015.png, 446 files out of an estimated total of 983\n",
      "Uploading imagessentiment/happy/S011_006_00000011.png\n",
      "Uploaded imagessentiment/happy/S011_006_00000011.png, 447 files out of an estimated total of 983\n",
      "Uploading imagessentiment/happy/S011_006_00000012.png\n",
      "Uploaded imagessentiment/happy/S011_006_00000012.png, 448 files out of an estimated total of 983\n",
      "Uploading imagessentiment/happy/S011_006_00000013.png\n",
      "Uploaded imagessentiment/happy/S011_006_00000013.png, 449 files out of an estimated total of 983\n",
      "Uploading imagessentiment/happy/S014_005_00000015.png\n",
      "Uploaded imagessentiment/happy/S014_005_00000015.png, 450 files out of an estimated total of 983\n",
      "Uploading imagessentiment/happy/S014_005_00000016.png\n",
      "Uploaded imagessentiment/happy/S014_005_00000016.png, 451 files out of an estimated total of 983\n",
      "Uploading imagessentiment/happy/S014_005_00000017.png\n",
      "Uploaded imagessentiment/happy/S014_005_00000017.png, 452 files out of an estimated total of 983\n",
      "Uploading imagessentiment/happy/S026_006_00000011.png\n",
      "Uploaded imagessentiment/happy/S026_006_00000011.png, 453 files out of an estimated total of 983\n",
      "Uploading imagessentiment/happy/S026_006_00000012.png\n",
      "Uploaded imagessentiment/happy/S026_006_00000012.png, 454 files out of an estimated total of 983\n",
      "Uploading imagessentiment/happy/S026_006_00000013.png\n",
      "Uploaded imagessentiment/happy/S026_006_00000013.png, 455 files out of an estimated total of 983\n",
      "Uploading imagessentiment/happy/S032_006_00000014.png\n",
      "Uploaded imagessentiment/happy/S032_006_00000014.png, 456 files out of an estimated total of 983\n",
      "Uploading imagessentiment/happy/S032_006_00000015.png\n",
      "Uploaded imagessentiment/happy/S032_006_00000015.png, 457 files out of an estimated total of 983\n",
      "Uploading imagessentiment/happy/S032_006_00000016.png\n",
      "Uploaded imagessentiment/happy/S032_006_00000016.png, 458 files out of an estimated total of 983\n",
      "Uploading imagessentiment/happy/S034_005_00000008.png\n",
      "Uploaded imagessentiment/happy/S034_005_00000008.png, 459 files out of an estimated total of 983\n",
      "Uploading imagessentiment/happy/S034_005_00000009.png\n",
      "Uploaded imagessentiment/happy/S034_005_00000009.png, 460 files out of an estimated total of 983\n",
      "Uploading imagessentiment/happy/S034_005_00000010.png\n",
      "Uploaded imagessentiment/happy/S034_005_00000010.png, 461 files out of an estimated total of 983\n",
      "Uploading imagessentiment/happy/S035_006_00000016.png\n",
      "Uploaded imagessentiment/happy/S035_006_00000016.png, 462 files out of an estimated total of 983\n",
      "Uploading imagessentiment/happy/S035_006_00000017.png\n",
      "Uploaded imagessentiment/happy/S035_006_00000017.png, 463 files out of an estimated total of 983\n",
      "Uploading imagessentiment/happy/S035_006_00000018.png\n",
      "Uploaded imagessentiment/happy/S035_006_00000018.png, 464 files out of an estimated total of 983\n",
      "Uploading imagessentiment/happy/S037_006_00000019.png\n",
      "Uploaded imagessentiment/happy/S037_006_00000019.png, 465 files out of an estimated total of 983\n",
      "Uploading imagessentiment/happy/S037_006_00000020.png\n",
      "Uploaded imagessentiment/happy/S037_006_00000020.png, 466 files out of an estimated total of 983\n",
      "Uploading imagessentiment/happy/S037_006_00000021.png\n",
      "Uploaded imagessentiment/happy/S037_006_00000021.png, 467 files out of an estimated total of 983\n",
      "Uploading imagessentiment/happy/S042_006_00000015.png\n",
      "Uploaded imagessentiment/happy/S042_006_00000015.png, 468 files out of an estimated total of 983\n",
      "Uploading imagessentiment/happy/S042_006_00000016.png\n",
      "Uploaded imagessentiment/happy/S042_006_00000016.png, 469 files out of an estimated total of 983\n",
      "Uploading imagessentiment/happy/S042_006_00000017.png\n",
      "Uploaded imagessentiment/happy/S042_006_00000017.png, 470 files out of an estimated total of 983\n",
      "Uploading imagessentiment/happy/S044_003_00000012.png\n",
      "Uploaded imagessentiment/happy/S044_003_00000012.png, 471 files out of an estimated total of 983\n",
      "Uploading imagessentiment/happy/S044_003_00000013.png\n",
      "Uploaded imagessentiment/happy/S044_003_00000013.png, 472 files out of an estimated total of 983\n",
      "Uploading imagessentiment/happy/S044_003_00000014.png\n",
      "Uploaded imagessentiment/happy/S044_003_00000014.png, 473 files out of an estimated total of 983\n",
      "Uploading imagessentiment/happy/S050_006_00000021.png\n",
      "Uploaded imagessentiment/happy/S050_006_00000021.png, 474 files out of an estimated total of 983\n",
      "Uploading imagessentiment/happy/S050_006_00000022.png\n",
      "Uploaded imagessentiment/happy/S050_006_00000022.png, 475 files out of an estimated total of 983\n",
      "Uploading imagessentiment/happy/S050_006_00000023.png\n",
      "Uploaded imagessentiment/happy/S050_006_00000023.png, 476 files out of an estimated total of 983\n",
      "Uploading imagessentiment/happy/S052_004_00000031.png\n",
      "Uploaded imagessentiment/happy/S052_004_00000031.png, 477 files out of an estimated total of 983\n",
      "Uploading imagessentiment/happy/S052_004_00000032.png\n",
      "Uploaded imagessentiment/happy/S052_004_00000032.png, 478 files out of an estimated total of 983\n",
      "Uploading imagessentiment/happy/S052_004_00000033.png\n",
      "Uploaded imagessentiment/happy/S052_004_00000033.png, 479 files out of an estimated total of 983\n",
      "Uploading imagessentiment/happy/S053_004_00000022.png\n",
      "Uploaded imagessentiment/happy/S053_004_00000022.png, 480 files out of an estimated total of 983\n",
      "Uploading imagessentiment/happy/S053_004_00000023.png\n",
      "Uploaded imagessentiment/happy/S053_004_00000023.png, 481 files out of an estimated total of 983\n",
      "Uploading imagessentiment/happy/S053_004_00000024.png\n",
      "Uploaded imagessentiment/happy/S053_004_00000024.png, 482 files out of an estimated total of 983\n",
      "Uploading imagessentiment/happy/S055_005_00000043.png\n",
      "Uploaded imagessentiment/happy/S055_005_00000043.png, 483 files out of an estimated total of 983\n",
      "Uploading imagessentiment/happy/S055_005_00000044.png\n",
      "Uploaded imagessentiment/happy/S055_005_00000044.png, 484 files out of an estimated total of 983\n",
      "Uploading imagessentiment/happy/S055_005_00000045.png\n",
      "Uploaded imagessentiment/happy/S055_005_00000045.png, 485 files out of an estimated total of 983\n",
      "Uploading imagessentiment/happy/S056_004_00000018.png\n",
      "Uploaded imagessentiment/happy/S056_004_00000018.png, 486 files out of an estimated total of 983\n",
      "Uploading imagessentiment/happy/S056_004_00000019.png\n",
      "Uploaded imagessentiment/happy/S056_004_00000019.png, 487 files out of an estimated total of 983\n",
      "Uploading imagessentiment/happy/S056_004_00000020.png\n",
      "Uploaded imagessentiment/happy/S056_004_00000020.png, 488 files out of an estimated total of 983\n",
      "Uploading imagessentiment/happy/S057_006_00000031.png\n",
      "Uploaded imagessentiment/happy/S057_006_00000031.png, 489 files out of an estimated total of 983\n",
      "Uploading imagessentiment/happy/S057_006_00000032.png\n",
      "Uploaded imagessentiment/happy/S057_006_00000032.png, 490 files out of an estimated total of 983\n",
      "Uploading imagessentiment/happy/S057_006_00000033.png\n",
      "Uploaded imagessentiment/happy/S057_006_00000033.png, 491 files out of an estimated total of 983\n",
      "Uploading imagessentiment/happy/S060_002_00000024.png\n",
      "Uploaded imagessentiment/happy/S060_002_00000024.png, 492 files out of an estimated total of 983\n",
      "Uploading imagessentiment/happy/S060_002_00000025.png\n",
      "Uploaded imagessentiment/happy/S060_002_00000025.png, 493 files out of an estimated total of 983\n",
      "Uploading imagessentiment/happy/S060_002_00000026.png\n",
      "Uploaded imagessentiment/happy/S060_002_00000026.png, 494 files out of an estimated total of 983\n",
      "Uploading imagessentiment/happy/S061_002_00000013.png\n",
      "Uploaded imagessentiment/happy/S061_002_00000013.png, 495 files out of an estimated total of 983\n",
      "Uploading imagessentiment/happy/S061_002_00000014.png\n",
      "Uploaded imagessentiment/happy/S061_002_00000014.png, 496 files out of an estimated total of 983\n",
      "Uploading imagessentiment/happy/S061_002_00000015.png\n",
      "Uploaded imagessentiment/happy/S061_002_00000015.png, 497 files out of an estimated total of 983\n",
      "Uploading imagessentiment/happy/S062_004_00000022.png\n",
      "Uploaded imagessentiment/happy/S062_004_00000022.png, 498 files out of an estimated total of 983\n",
      "Uploading imagessentiment/happy/S062_004_00000023.png\n",
      "Uploaded imagessentiment/happy/S062_004_00000023.png, 499 files out of an estimated total of 983\n",
      "Uploading imagessentiment/happy/S062_004_00000024.png\n",
      "Uploaded imagessentiment/happy/S062_004_00000024.png, 500 files out of an estimated total of 983\n",
      "Uploading imagessentiment/happy/S063_002_00000021.png\n",
      "Uploaded imagessentiment/happy/S063_002_00000021.png, 501 files out of an estimated total of 983\n",
      "Uploading imagessentiment/happy/S063_002_00000022.png\n",
      "Uploaded imagessentiment/happy/S063_002_00000022.png, 502 files out of an estimated total of 983\n",
      "Uploading imagessentiment/happy/S063_002_00000023.png\n",
      "Uploaded imagessentiment/happy/S063_002_00000023.png, 503 files out of an estimated total of 983\n",
      "Uploading imagessentiment/happy/S064_003_00000023.png\n",
      "Uploaded imagessentiment/happy/S064_003_00000023.png, 504 files out of an estimated total of 983\n",
      "Uploading imagessentiment/happy/S064_003_00000024.png\n",
      "Uploaded imagessentiment/happy/S064_003_00000024.png, 505 files out of an estimated total of 983\n",
      "Uploading imagessentiment/happy/S064_003_00000025.png\n",
      "Uploaded imagessentiment/happy/S064_003_00000025.png, 506 files out of an estimated total of 983\n",
      "Uploading imagessentiment/happy/S065_004_00000026.png\n",
      "Uploaded imagessentiment/happy/S065_004_00000026.png, 507 files out of an estimated total of 983\n",
      "Uploading imagessentiment/happy/S065_004_00000027.png\n",
      "Uploaded imagessentiment/happy/S065_004_00000027.png, 508 files out of an estimated total of 983\n",
      "Uploading imagessentiment/happy/S065_004_00000028.png\n",
      "Uploaded imagessentiment/happy/S065_004_00000028.png, 509 files out of an estimated total of 983\n",
      "Uploading imagessentiment/happy/S066_003_00000010.png\n",
      "Uploaded imagessentiment/happy/S066_003_00000010.png, 510 files out of an estimated total of 983\n",
      "Uploading imagessentiment/happy/S066_003_00000011.png\n",
      "Uploaded imagessentiment/happy/S066_003_00000011.png, 511 files out of an estimated total of 983\n",
      "Uploading imagessentiment/happy/S066_003_00000012.png\n",
      "Uploaded imagessentiment/happy/S066_003_00000012.png, 512 files out of an estimated total of 983\n",
      "Uploading imagessentiment/happy/S067_005_00000020.png\n",
      "Uploaded imagessentiment/happy/S067_005_00000020.png, 513 files out of an estimated total of 983\n",
      "Uploading imagessentiment/happy/S067_005_00000021.png\n",
      "Uploaded imagessentiment/happy/S067_005_00000021.png, 514 files out of an estimated total of 983\n",
      "Uploading imagessentiment/happy/S067_005_00000022.png\n",
      "Uploaded imagessentiment/happy/S067_005_00000022.png, 515 files out of an estimated total of 983\n",
      "Uploading imagessentiment/happy/S068_002_00000013.png\n",
      "Uploaded imagessentiment/happy/S068_002_00000013.png, 516 files out of an estimated total of 983\n",
      "Uploading imagessentiment/happy/S068_002_00000014.png\n",
      "Uploaded imagessentiment/happy/S068_002_00000014.png, 517 files out of an estimated total of 983\n",
      "Uploading imagessentiment/happy/S068_002_00000015.png\n",
      "Uploaded imagessentiment/happy/S068_002_00000015.png, 518 files out of an estimated total of 983\n",
      "Uploading imagessentiment/happy/S069_004_00000015.png\n",
      "Uploaded imagessentiment/happy/S069_004_00000015.png, 519 files out of an estimated total of 983\n",
      "Uploading imagessentiment/happy/S069_004_00000016.png\n",
      "Uploaded imagessentiment/happy/S069_004_00000016.png, 520 files out of an estimated total of 983\n",
      "Uploading imagessentiment/happy/S069_004_00000017.png\n",
      "Uploaded imagessentiment/happy/S069_004_00000017.png, 521 files out of an estimated total of 983\n",
      "Uploading imagessentiment/happy/S070_003_00000015.png\n",
      "Uploaded imagessentiment/happy/S070_003_00000015.png, 522 files out of an estimated total of 983\n",
      "Uploading imagessentiment/happy/S070_003_00000016.png\n",
      "Uploaded imagessentiment/happy/S070_003_00000016.png, 523 files out of an estimated total of 983\n",
      "Uploading imagessentiment/happy/S070_003_00000017.png\n",
      "Uploaded imagessentiment/happy/S070_003_00000017.png, 524 files out of an estimated total of 983\n",
      "Uploading imagessentiment/happy/S071_005_00000019.png\n",
      "Uploaded imagessentiment/happy/S071_005_00000019.png, 525 files out of an estimated total of 983\n",
      "Uploading imagessentiment/happy/S071_005_00000020.png\n",
      "Uploaded imagessentiment/happy/S071_005_00000020.png, 526 files out of an estimated total of 983\n",
      "Uploading imagessentiment/happy/S071_005_00000021.png\n",
      "Uploaded imagessentiment/happy/S071_005_00000021.png, 527 files out of an estimated total of 983\n",
      "Uploading imagessentiment/happy/S072_006_00000020.png\n",
      "Uploaded imagessentiment/happy/S072_006_00000020.png, 528 files out of an estimated total of 983\n",
      "Uploading imagessentiment/happy/S072_006_00000021.png\n",
      "Uploaded imagessentiment/happy/S072_006_00000021.png, 529 files out of an estimated total of 983\n",
      "Uploading imagessentiment/happy/S072_006_00000022.png\n",
      "Uploaded imagessentiment/happy/S072_006_00000022.png, 530 files out of an estimated total of 983\n",
      "Uploading imagessentiment/happy/S074_005_00000041.png\n",
      "Uploaded imagessentiment/happy/S074_005_00000041.png, 531 files out of an estimated total of 983\n",
      "Uploading imagessentiment/happy/S074_005_00000042.png\n",
      "Uploaded imagessentiment/happy/S074_005_00000042.png, 532 files out of an estimated total of 983\n",
      "Uploading imagessentiment/happy/S074_005_00000043.png\n",
      "Uploaded imagessentiment/happy/S074_005_00000043.png, 533 files out of an estimated total of 983\n",
      "Uploading imagessentiment/happy/S075_006_00000023.png\n",
      "Uploaded imagessentiment/happy/S075_006_00000023.png, 534 files out of an estimated total of 983\n",
      "Uploading imagessentiment/happy/S075_006_00000024.png\n",
      "Uploaded imagessentiment/happy/S075_006_00000024.png, 535 files out of an estimated total of 983\n",
      "Uploading imagessentiment/happy/S075_006_00000025.png\n",
      "Uploaded imagessentiment/happy/S075_006_00000025.png, 536 files out of an estimated total of 983\n",
      "Uploading imagessentiment/happy/S076_006_00000017.png\n",
      "Uploaded imagessentiment/happy/S076_006_00000017.png, 537 files out of an estimated total of 983\n",
      "Uploading imagessentiment/happy/S076_006_00000018.png\n",
      "Uploaded imagessentiment/happy/S076_006_00000018.png, 538 files out of an estimated total of 983\n",
      "Uploading imagessentiment/happy/S076_006_00000019.png\n",
      "Uploaded imagessentiment/happy/S076_006_00000019.png, 539 files out of an estimated total of 983\n",
      "Uploading imagessentiment/happy/S078_004_00000025.png\n",
      "Uploaded imagessentiment/happy/S078_004_00000025.png, 540 files out of an estimated total of 983\n",
      "Uploading imagessentiment/happy/S078_004_00000026.png\n",
      "Uploaded imagessentiment/happy/S078_004_00000026.png, 541 files out of an estimated total of 983\n",
      "Uploading imagessentiment/happy/S078_004_00000027.png\n",
      "Uploaded imagessentiment/happy/S078_004_00000027.png, 542 files out of an estimated total of 983\n",
      "Uploading imagessentiment/happy/S079_004_00000024.png\n",
      "Uploaded imagessentiment/happy/S079_004_00000024.png, 543 files out of an estimated total of 983\n",
      "Uploading imagessentiment/happy/S079_004_00000025.png\n",
      "Uploaded imagessentiment/happy/S079_004_00000025.png, 544 files out of an estimated total of 983\n",
      "Uploading imagessentiment/happy/S079_004_00000026.png\n",
      "Uploaded imagessentiment/happy/S079_004_00000026.png, 545 files out of an estimated total of 983\n",
      "Uploading imagessentiment/happy/S083_003_00000017.png\n",
      "Uploaded imagessentiment/happy/S083_003_00000017.png, 546 files out of an estimated total of 983\n",
      "Uploading imagessentiment/happy/S083_003_00000018.png\n",
      "Uploaded imagessentiment/happy/S083_003_00000018.png, 547 files out of an estimated total of 983\n",
      "Uploading imagessentiment/happy/S083_003_00000019.png\n",
      "Uploaded imagessentiment/happy/S083_003_00000019.png, 548 files out of an estimated total of 983\n",
      "Uploading imagessentiment/happy/S085_002_00000012.png\n",
      "Uploaded imagessentiment/happy/S085_002_00000012.png, 549 files out of an estimated total of 983\n",
      "Uploading imagessentiment/happy/S085_002_00000013.png\n",
      "Uploaded imagessentiment/happy/S085_002_00000013.png, 550 files out of an estimated total of 983\n",
      "Uploading imagessentiment/happy/S085_002_00000014.png\n",
      "Uploaded imagessentiment/happy/S085_002_00000014.png, 551 files out of an estimated total of 983\n",
      "Uploading imagessentiment/happy/S086_002_00000013.png\n",
      "Uploaded imagessentiment/happy/S086_002_00000013.png, 552 files out of an estimated total of 983\n",
      "Uploading imagessentiment/happy/S086_002_00000014.png\n",
      "Uploaded imagessentiment/happy/S086_002_00000014.png, 553 files out of an estimated total of 983\n",
      "Uploading imagessentiment/happy/S086_002_00000015.png\n",
      "Uploaded imagessentiment/happy/S086_002_00000015.png, 554 files out of an estimated total of 983\n",
      "Uploading imagessentiment/happy/S087_005_00000010.png\n",
      "Uploaded imagessentiment/happy/S087_005_00000010.png, 555 files out of an estimated total of 983\n",
      "Uploading imagessentiment/happy/S087_005_00000011.png\n",
      "Uploaded imagessentiment/happy/S087_005_00000011.png, 556 files out of an estimated total of 983\n",
      "Uploading imagessentiment/happy/S087_005_00000012.png\n",
      "Uploaded imagessentiment/happy/S087_005_00000012.png, 557 files out of an estimated total of 983\n",
      "Uploading imagessentiment/happy/S089_002_00000019.png\n",
      "Uploaded imagessentiment/happy/S089_002_00000019.png, 558 files out of an estimated total of 983\n",
      "Uploading imagessentiment/happy/S089_002_00000020.png\n",
      "Uploaded imagessentiment/happy/S089_002_00000020.png, 559 files out of an estimated total of 983\n",
      "Uploading imagessentiment/happy/S089_002_00000021.png\n",
      "Uploaded imagessentiment/happy/S089_002_00000021.png, 560 files out of an estimated total of 983\n",
      "Uploading imagessentiment/happy/S091_003_00000019.png\n",
      "Uploaded imagessentiment/happy/S091_003_00000019.png, 561 files out of an estimated total of 983\n",
      "Uploading imagessentiment/happy/S091_003_00000020.png\n",
      "Uploaded imagessentiment/happy/S091_003_00000020.png, 562 files out of an estimated total of 983\n",
      "Uploading imagessentiment/happy/S091_003_00000021.png\n",
      "Uploaded imagessentiment/happy/S091_003_00000021.png, 563 files out of an estimated total of 983\n",
      "Uploading imagessentiment/happy/S092_004_00000022.png\n",
      "Uploaded imagessentiment/happy/S092_004_00000022.png, 564 files out of an estimated total of 983\n",
      "Uploading imagessentiment/happy/S092_004_00000023.png\n",
      "Uploaded imagessentiment/happy/S092_004_00000023.png, 565 files out of an estimated total of 983\n",
      "Uploading imagessentiment/happy/S092_004_00000024.png\n",
      "Uploaded imagessentiment/happy/S092_004_00000024.png, 566 files out of an estimated total of 983\n",
      "Uploading imagessentiment/happy/S093_004_00000014.png\n",
      "Uploaded imagessentiment/happy/S093_004_00000014.png, 567 files out of an estimated total of 983\n",
      "Uploading imagessentiment/happy/S093_004_00000015.png\n",
      "Uploaded imagessentiment/happy/S093_004_00000015.png, 568 files out of an estimated total of 983\n",
      "Uploading imagessentiment/happy/S093_004_00000016.png\n",
      "Uploaded imagessentiment/happy/S093_004_00000016.png, 569 files out of an estimated total of 983\n",
      "Uploading imagessentiment/happy/S094_004_00000010.png\n",
      "Uploaded imagessentiment/happy/S094_004_00000010.png, 570 files out of an estimated total of 983\n",
      "Uploading imagessentiment/happy/S094_004_00000011.png\n",
      "Uploaded imagessentiment/happy/S094_004_00000011.png, 571 files out of an estimated total of 983\n",
      "Uploading imagessentiment/happy/S094_004_00000012.png\n",
      "Uploaded imagessentiment/happy/S094_004_00000012.png, 572 files out of an estimated total of 983\n",
      "Uploading imagessentiment/happy/S095_007_00000019.png\n",
      "Uploaded imagessentiment/happy/S095_007_00000019.png, 573 files out of an estimated total of 983\n",
      "Uploading imagessentiment/happy/S095_007_00000020.png\n",
      "Uploaded imagessentiment/happy/S095_007_00000020.png, 574 files out of an estimated total of 983\n",
      "Uploading imagessentiment/happy/S095_007_00000021.png\n",
      "Uploaded imagessentiment/happy/S095_007_00000021.png, 575 files out of an estimated total of 983\n",
      "Uploading imagessentiment/happy/S096_004_00000009.png\n",
      "Uploaded imagessentiment/happy/S096_004_00000009.png, 576 files out of an estimated total of 983\n",
      "Uploading imagessentiment/happy/S096_004_00000010.png\n",
      "Uploaded imagessentiment/happy/S096_004_00000010.png, 577 files out of an estimated total of 983\n",
      "Uploading imagessentiment/happy/S096_004_00000011.png\n",
      "Uploaded imagessentiment/happy/S096_004_00000011.png, 578 files out of an estimated total of 983\n",
      "Uploading imagessentiment/happy/S097_006_00000017.png\n",
      "Uploaded imagessentiment/happy/S097_006_00000017.png, 579 files out of an estimated total of 983\n",
      "Uploading imagessentiment/happy/S097_006_00000018.png\n",
      "Uploaded imagessentiment/happy/S097_006_00000018.png, 580 files out of an estimated total of 983\n",
      "Uploading imagessentiment/happy/S097_006_00000019.png\n",
      "Uploaded imagessentiment/happy/S097_006_00000019.png, 581 files out of an estimated total of 983\n",
      "Uploading imagessentiment/happy/S098_004_00000013.png\n",
      "Uploaded imagessentiment/happy/S098_004_00000013.png, 582 files out of an estimated total of 983\n",
      "Uploading imagessentiment/happy/S098_004_00000014.png\n",
      "Uploaded imagessentiment/happy/S098_004_00000014.png, 583 files out of an estimated total of 983\n",
      "Uploading imagessentiment/happy/S098_004_00000015.png\n",
      "Uploaded imagessentiment/happy/S098_004_00000015.png, 584 files out of an estimated total of 983\n",
      "Uploading imagessentiment/happy/S099_004_00000013.png\n",
      "Uploaded imagessentiment/happy/S099_004_00000013.png, 585 files out of an estimated total of 983\n",
      "Uploading imagessentiment/happy/S099_004_00000014.png\n",
      "Uploaded imagessentiment/happy/S099_004_00000014.png, 586 files out of an estimated total of 983\n",
      "Uploading imagessentiment/happy/S099_004_00000015.png\n",
      "Uploaded imagessentiment/happy/S099_004_00000015.png, 587 files out of an estimated total of 983\n",
      "Uploading imagessentiment/happy/S100_006_00000014.png\n",
      "Uploaded imagessentiment/happy/S100_006_00000014.png, 588 files out of an estimated total of 983\n",
      "Uploading imagessentiment/happy/S100_006_00000015.png\n",
      "Uploaded imagessentiment/happy/S100_006_00000015.png, 589 files out of an estimated total of 983\n",
      "Uploading imagessentiment/happy/S100_006_00000016.png\n",
      "Uploaded imagessentiment/happy/S100_006_00000016.png, 590 files out of an estimated total of 983\n",
      "Uploading imagessentiment/happy/S106_006_00000009.png\n",
      "Uploaded imagessentiment/happy/S106_006_00000009.png, 591 files out of an estimated total of 983\n",
      "Uploading imagessentiment/happy/S106_006_00000010.png\n",
      "Uploaded imagessentiment/happy/S106_006_00000010.png, 592 files out of an estimated total of 983\n",
      "Uploading imagessentiment/happy/S106_006_00000011.png\n",
      "Uploaded imagessentiment/happy/S106_006_00000011.png, 593 files out of an estimated total of 983\n",
      "Uploading imagessentiment/happy/S108_008_00000011.png\n",
      "Uploaded imagessentiment/happy/S108_008_00000011.png, 594 files out of an estimated total of 983\n",
      "Uploading imagessentiment/happy/S108_008_00000012.png\n",
      "Uploaded imagessentiment/happy/S108_008_00000012.png, 595 files out of an estimated total of 983\n",
      "Uploading imagessentiment/happy/S108_008_00000013.png\n",
      "Uploaded imagessentiment/happy/S108_008_00000013.png, 596 files out of an estimated total of 983\n",
      "Uploading imagessentiment/happy/S109_006_00000013.png\n",
      "Uploaded imagessentiment/happy/S109_006_00000013.png, 597 files out of an estimated total of 983\n",
      "Uploading imagessentiment/happy/S109_006_00000014.png\n",
      "Uploaded imagessentiment/happy/S109_006_00000014.png, 598 files out of an estimated total of 983\n",
      "Uploading imagessentiment/happy/S109_006_00000015.png\n",
      "Uploaded imagessentiment/happy/S109_006_00000015.png, 599 files out of an estimated total of 983\n",
      "Uploading imagessentiment/happy/S114_006_00000021.png\n",
      "Uploaded imagessentiment/happy/S114_006_00000021.png, 600 files out of an estimated total of 983\n",
      "Uploading imagessentiment/happy/S114_006_00000022.png\n",
      "Uploaded imagessentiment/happy/S114_006_00000022.png, 601 files out of an estimated total of 983\n",
      "Uploading imagessentiment/happy/S114_006_00000023.png\n",
      "Uploaded imagessentiment/happy/S114_006_00000023.png, 602 files out of an estimated total of 983\n",
      "Uploading imagessentiment/happy/S115_008_00000015.png\n",
      "Uploaded imagessentiment/happy/S115_008_00000015.png, 603 files out of an estimated total of 983\n",
      "Uploading imagessentiment/happy/S115_008_00000016.png\n",
      "Uploaded imagessentiment/happy/S115_008_00000016.png, 604 files out of an estimated total of 983\n",
      "Uploading imagessentiment/happy/S115_008_00000017.png\n",
      "Uploaded imagessentiment/happy/S115_008_00000017.png, 605 files out of an estimated total of 983\n",
      "Uploading imagessentiment/happy/S116_007_00000015.png\n",
      "Uploaded imagessentiment/happy/S116_007_00000015.png, 606 files out of an estimated total of 983\n",
      "Uploading imagessentiment/happy/S116_007_00000016.png\n",
      "Uploaded imagessentiment/happy/S116_007_00000016.png, 607 files out of an estimated total of 983\n",
      "Uploading imagessentiment/happy/S116_007_00000017.png\n",
      "Uploaded imagessentiment/happy/S116_007_00000017.png, 608 files out of an estimated total of 983\n",
      "Uploading imagessentiment/happy/S124_007_00000022.png\n",
      "Uploaded imagessentiment/happy/S124_007_00000022.png, 609 files out of an estimated total of 983\n",
      "Uploading imagessentiment/happy/S124_007_00000023.png\n",
      "Uploaded imagessentiment/happy/S124_007_00000023.png, 610 files out of an estimated total of 983\n",
      "Uploading imagessentiment/happy/S124_007_00000024.png\n",
      "Uploaded imagessentiment/happy/S124_007_00000024.png, 611 files out of an estimated total of 983\n",
      "Uploading imagessentiment/happy/S125_005_00000011.png\n",
      "Uploaded imagessentiment/happy/S125_005_00000011.png, 612 files out of an estimated total of 983\n",
      "Uploading imagessentiment/happy/S125_005_00000012.png\n",
      "Uploaded imagessentiment/happy/S125_005_00000012.png, 613 files out of an estimated total of 983\n",
      "Uploading imagessentiment/happy/S125_005_00000013.png\n",
      "Uploaded imagessentiment/happy/S125_005_00000013.png, 614 files out of an estimated total of 983\n",
      "Uploading imagessentiment/happy/S127_004_00000014.png\n",
      "Uploaded imagessentiment/happy/S127_004_00000014.png, 615 files out of an estimated total of 983\n",
      "Uploading imagessentiment/happy/S127_004_00000015.png\n",
      "Uploaded imagessentiment/happy/S127_004_00000015.png, 616 files out of an estimated total of 983\n",
      "Uploading imagessentiment/happy/S127_004_00000016.png\n",
      "Uploaded imagessentiment/happy/S127_004_00000016.png, 617 files out of an estimated total of 983\n",
      "Uploading imagessentiment/happy/S128_011_00000014.png\n",
      "Uploaded imagessentiment/happy/S128_011_00000014.png, 618 files out of an estimated total of 983\n",
      "Uploading imagessentiment/happy/S128_011_00000015.png\n",
      "Uploaded imagessentiment/happy/S128_011_00000015.png, 619 files out of an estimated total of 983\n",
      "Uploading imagessentiment/happy/S128_011_00000016.png\n",
      "Uploaded imagessentiment/happy/S128_011_00000016.png, 620 files out of an estimated total of 983\n",
      "Uploading imagessentiment/happy/S129_012_00000009.png\n",
      "Uploaded imagessentiment/happy/S129_012_00000009.png, 621 files out of an estimated total of 983\n",
      "Uploading imagessentiment/happy/S129_012_00000010.png\n",
      "Uploaded imagessentiment/happy/S129_012_00000010.png, 622 files out of an estimated total of 983\n",
      "Uploading imagessentiment/happy/S129_012_00000011.png\n",
      "Uploaded imagessentiment/happy/S129_012_00000011.png, 623 files out of an estimated total of 983\n",
      "Uploading imagessentiment/happy/S130_013_00000013.png\n",
      "Uploaded imagessentiment/happy/S130_013_00000013.png, 624 files out of an estimated total of 983\n",
      "Uploading imagessentiment/happy/S130_013_00000014.png\n",
      "Uploaded imagessentiment/happy/S130_013_00000014.png, 625 files out of an estimated total of 983\n",
      "Uploading imagessentiment/happy/S130_013_00000015.png\n",
      "Uploaded imagessentiment/happy/S130_013_00000015.png, 626 files out of an estimated total of 983\n",
      "Uploading imagessentiment/happy/S131_006_00000020.png\n",
      "Uploaded imagessentiment/happy/S131_006_00000020.png, 627 files out of an estimated total of 983\n",
      "Uploading imagessentiment/happy/S131_006_00000021.png\n",
      "Uploaded imagessentiment/happy/S131_006_00000021.png, 628 files out of an estimated total of 983\n",
      "Uploading imagessentiment/happy/S131_006_00000022.png\n",
      "Uploaded imagessentiment/happy/S131_006_00000022.png, 629 files out of an estimated total of 983\n",
      "Uploading imagessentiment/happy/S132_006_00000021.png\n",
      "Uploaded imagessentiment/happy/S132_006_00000021.png, 630 files out of an estimated total of 983\n",
      "Uploading imagessentiment/happy/S132_006_00000022.png\n",
      "Uploaded imagessentiment/happy/S132_006_00000022.png, 631 files out of an estimated total of 983\n",
      "Uploading imagessentiment/happy/S132_006_00000023.png\n",
      "Uploaded imagessentiment/happy/S132_006_00000023.png, 632 files out of an estimated total of 983\n",
      "Uploading imagessentiment/happy/S133_010_00000012.png\n",
      "Uploaded imagessentiment/happy/S133_010_00000012.png, 633 files out of an estimated total of 983\n",
      "Uploading imagessentiment/happy/S133_010_00000013.png\n",
      "Uploaded imagessentiment/happy/S133_010_00000013.png, 634 files out of an estimated total of 983\n",
      "Uploading imagessentiment/happy/S133_010_00000014.png\n",
      "Uploaded imagessentiment/happy/S133_010_00000014.png, 635 files out of an estimated total of 983\n",
      "Uploading imagessentiment/happy/S134_004_00000013.png\n",
      "Uploaded imagessentiment/happy/S134_004_00000013.png, 636 files out of an estimated total of 983\n",
      "Uploading imagessentiment/happy/S134_004_00000014.png\n",
      "Uploaded imagessentiment/happy/S134_004_00000014.png, 637 files out of an estimated total of 983\n",
      "Uploading imagessentiment/happy/S134_004_00000015.png\n",
      "Uploaded imagessentiment/happy/S134_004_00000015.png, 638 files out of an estimated total of 983\n",
      "Uploading imagessentiment/happy/S135_012_00000018.png\n",
      "Uploaded imagessentiment/happy/S135_012_00000018.png, 639 files out of an estimated total of 983\n",
      "Uploading imagessentiment/happy/S135_012_00000019.png\n",
      "Uploaded imagessentiment/happy/S135_012_00000019.png, 640 files out of an estimated total of 983\n",
      "Uploading imagessentiment/happy/S135_012_00000020.png\n",
      "Uploaded imagessentiment/happy/S135_012_00000020.png, 641 files out of an estimated total of 983\n",
      "Uploading imagessentiment/happy/S136_006_00000018.png\n",
      "Uploaded imagessentiment/happy/S136_006_00000018.png, 642 files out of an estimated total of 983\n",
      "Uploading imagessentiment/happy/S136_006_00000019.png\n",
      "Uploaded imagessentiment/happy/S136_006_00000019.png, 643 files out of an estimated total of 983\n",
      "Uploading imagessentiment/happy/S136_006_00000020.png\n",
      "Uploaded imagessentiment/happy/S136_006_00000020.png, 644 files out of an estimated total of 983\n",
      "Uploading imagessentiment/happy/S137_011_00000018.png\n",
      "Uploaded imagessentiment/happy/S137_011_00000018.png, 645 files out of an estimated total of 983\n",
      "Uploading imagessentiment/happy/S137_011_00000019.png\n",
      "Uploaded imagessentiment/happy/S137_011_00000019.png, 646 files out of an estimated total of 983\n",
      "Uploading imagessentiment/happy/S137_011_00000020.png\n",
      "Uploaded imagessentiment/happy/S137_011_00000020.png, 647 files out of an estimated total of 983\n",
      "Uploading imagessentiment/happy/S138_005_00000014.png\n",
      "Uploaded imagessentiment/happy/S138_005_00000014.png, 648 files out of an estimated total of 983\n",
      "Uploading imagessentiment/happy/S138_005_00000015.png\n",
      "Uploaded imagessentiment/happy/S138_005_00000015.png, 649 files out of an estimated total of 983\n",
      "Uploading imagessentiment/happy/S138_005_00000016.png\n",
      "Uploaded imagessentiment/happy/S138_005_00000016.png, 650 files out of an estimated total of 983\n",
      "Uploading imagessentiment/sadness/S011_002_00000020.png\n",
      "Uploaded imagessentiment/sadness/S011_002_00000020.png, 651 files out of an estimated total of 983\n",
      "Uploading imagessentiment/sadness/S011_002_00000021.png\n",
      "Uploaded imagessentiment/sadness/S011_002_00000021.png, 652 files out of an estimated total of 983\n",
      "Uploading imagessentiment/sadness/S011_002_00000022.png\n",
      "Uploaded imagessentiment/sadness/S011_002_00000022.png, 653 files out of an estimated total of 983\n",
      "Uploading imagessentiment/sadness/S014_002_00000014.png\n",
      "Uploaded imagessentiment/sadness/S014_002_00000014.png, 654 files out of an estimated total of 983\n",
      "Uploading imagessentiment/sadness/S014_002_00000015.png\n",
      "Uploaded imagessentiment/sadness/S014_002_00000015.png, 655 files out of an estimated total of 983\n",
      "Uploading imagessentiment/sadness/S014_002_00000016.png\n",
      "Uploaded imagessentiment/sadness/S014_002_00000016.png, 656 files out of an estimated total of 983\n",
      "Uploading imagessentiment/sadness/S026_002_00000014.png\n",
      "Uploaded imagessentiment/sadness/S026_002_00000014.png, 657 files out of an estimated total of 983\n",
      "Uploading imagessentiment/sadness/S026_002_00000015.png\n",
      "Uploaded imagessentiment/sadness/S026_002_00000015.png, 658 files out of an estimated total of 983\n",
      "Uploading imagessentiment/sadness/S026_002_00000016.png\n",
      "Uploaded imagessentiment/sadness/S026_002_00000016.png, 659 files out of an estimated total of 983\n",
      "Uploading imagessentiment/sadness/S042_002_00000014.png\n",
      "Uploaded imagessentiment/sadness/S042_002_00000014.png, 660 files out of an estimated total of 983\n",
      "Uploading imagessentiment/sadness/S042_002_00000015.png\n",
      "Uploaded imagessentiment/sadness/S042_002_00000015.png, 661 files out of an estimated total of 983\n",
      "Uploading imagessentiment/sadness/S042_002_00000016.png\n",
      "Uploaded imagessentiment/sadness/S042_002_00000016.png, 662 files out of an estimated total of 983\n",
      "Uploading imagessentiment/sadness/S046_001_00000023.png\n",
      "Uploaded imagessentiment/sadness/S046_001_00000023.png, 663 files out of an estimated total of 983\n",
      "Uploading imagessentiment/sadness/S046_001_00000024.png\n",
      "Uploaded imagessentiment/sadness/S046_001_00000024.png, 664 files out of an estimated total of 983\n",
      "Uploading imagessentiment/sadness/S046_001_00000025.png\n",
      "Uploaded imagessentiment/sadness/S046_001_00000025.png, 665 files out of an estimated total of 983\n",
      "Uploading imagessentiment/sadness/S064_004_00000012.png\n",
      "Uploaded imagessentiment/sadness/S064_004_00000012.png, 666 files out of an estimated total of 983\n",
      "Uploading imagessentiment/sadness/S064_004_00000013.png\n",
      "Uploaded imagessentiment/sadness/S064_004_00000013.png, 667 files out of an estimated total of 983\n",
      "Uploading imagessentiment/sadness/S064_004_00000014.png\n",
      "Uploaded imagessentiment/sadness/S064_004_00000014.png, 668 files out of an estimated total of 983\n",
      "Uploading imagessentiment/sadness/S066_004_00000008.png\n",
      "Uploaded imagessentiment/sadness/S066_004_00000008.png, 669 files out of an estimated total of 983\n",
      "Uploading imagessentiment/sadness/S066_004_00000009.png\n",
      "Uploaded imagessentiment/sadness/S066_004_00000009.png, 670 files out of an estimated total of 983\n",
      "Uploading imagessentiment/sadness/S066_004_00000010.png\n",
      "Uploaded imagessentiment/sadness/S066_004_00000010.png, 671 files out of an estimated total of 983\n",
      "Uploading imagessentiment/sadness/S071_002_00000018.png\n",
      "Uploaded imagessentiment/sadness/S071_002_00000018.png, 672 files out of an estimated total of 983\n",
      "Uploading imagessentiment/sadness/S071_002_00000019.png\n",
      "Uploaded imagessentiment/sadness/S071_002_00000019.png, 673 files out of an estimated total of 983\n",
      "Uploading imagessentiment/sadness/S071_002_00000020.png\n",
      "Uploaded imagessentiment/sadness/S071_002_00000020.png, 674 files out of an estimated total of 983\n",
      "Uploading imagessentiment/sadness/S080_005_00000011.png\n",
      "Uploaded imagessentiment/sadness/S080_005_00000011.png, 675 files out of an estimated total of 983\n",
      "Uploading imagessentiment/sadness/S080_005_00000012.png\n",
      "Uploaded imagessentiment/sadness/S080_005_00000012.png, 676 files out of an estimated total of 983\n",
      "Uploading imagessentiment/sadness/S080_005_00000013.png\n",
      "Uploaded imagessentiment/sadness/S080_005_00000013.png, 677 files out of an estimated total of 983\n",
      "Uploading imagessentiment/sadness/S081_002_00000022.png\n",
      "Uploaded imagessentiment/sadness/S081_002_00000022.png, 678 files out of an estimated total of 983\n",
      "Uploading imagessentiment/sadness/S081_002_00000023.png\n",
      "Uploaded imagessentiment/sadness/S081_002_00000023.png, 679 files out of an estimated total of 983\n",
      "Uploading imagessentiment/sadness/S081_002_00000024.png\n",
      "Uploaded imagessentiment/sadness/S081_002_00000024.png, 680 files out of an estimated total of 983\n",
      "Uploading imagessentiment/sadness/S093_001_00000018.png\n",
      "Uploaded imagessentiment/sadness/S093_001_00000018.png, 681 files out of an estimated total of 983\n",
      "Uploading imagessentiment/sadness/S093_001_00000019.png\n",
      "Uploaded imagessentiment/sadness/S093_001_00000019.png, 682 files out of an estimated total of 983\n",
      "Uploading imagessentiment/sadness/S093_001_00000020.png\n",
      "Uploaded imagessentiment/sadness/S093_001_00000020.png, 683 files out of an estimated total of 983\n",
      "Uploading imagessentiment/sadness/S095_010_00000012.png\n",
      "Uploaded imagessentiment/sadness/S095_010_00000012.png, 684 files out of an estimated total of 983\n",
      "Uploading imagessentiment/sadness/S095_010_00000013.png\n",
      "Uploaded imagessentiment/sadness/S095_010_00000013.png, 685 files out of an estimated total of 983\n",
      "Uploading imagessentiment/sadness/S095_010_00000014.png\n",
      "Uploaded imagessentiment/sadness/S095_010_00000014.png, 686 files out of an estimated total of 983\n",
      "Uploading imagessentiment/sadness/S106_002_00000014.png\n",
      "Uploaded imagessentiment/sadness/S106_002_00000014.png, 687 files out of an estimated total of 983\n",
      "Uploading imagessentiment/sadness/S106_002_00000015.png\n",
      "Uploaded imagessentiment/sadness/S106_002_00000015.png, 688 files out of an estimated total of 983\n",
      "Uploading imagessentiment/sadness/S106_002_00000016.png\n",
      "Uploaded imagessentiment/sadness/S106_002_00000016.png, 689 files out of an estimated total of 983\n",
      "Uploading imagessentiment/sadness/S108_005_00000020.png\n",
      "Uploaded imagessentiment/sadness/S108_005_00000020.png, 690 files out of an estimated total of 983\n",
      "Uploading imagessentiment/sadness/S108_005_00000021.png\n",
      "Uploaded imagessentiment/sadness/S108_005_00000021.png, 691 files out of an estimated total of 983\n",
      "Uploading imagessentiment/sadness/S108_005_00000022.png\n",
      "Uploaded imagessentiment/sadness/S108_005_00000022.png, 692 files out of an estimated total of 983\n",
      "Uploading imagessentiment/sadness/S113_003_00000013.png\n",
      "Uploaded imagessentiment/sadness/S113_003_00000013.png, 693 files out of an estimated total of 983\n",
      "Uploading imagessentiment/sadness/S113_003_00000014.png\n",
      "Uploaded imagessentiment/sadness/S113_003_00000014.png, 694 files out of an estimated total of 983\n",
      "Uploading imagessentiment/sadness/S113_003_00000015.png\n",
      "Uploaded imagessentiment/sadness/S113_003_00000015.png, 695 files out of an estimated total of 983\n",
      "Uploading imagessentiment/sadness/S115_004_00000015.png\n",
      "Uploaded imagessentiment/sadness/S115_004_00000015.png, 696 files out of an estimated total of 983\n",
      "Uploading imagessentiment/sadness/S115_004_00000016.png\n",
      "Uploaded imagessentiment/sadness/S115_004_00000016.png, 697 files out of an estimated total of 983\n",
      "Uploading imagessentiment/sadness/S115_004_00000017.png\n",
      "Uploaded imagessentiment/sadness/S115_004_00000017.png, 698 files out of an estimated total of 983\n",
      "Uploading imagessentiment/sadness/S125_001_00000012.png\n",
      "Uploaded imagessentiment/sadness/S125_001_00000012.png, 699 files out of an estimated total of 983\n",
      "Uploading imagessentiment/sadness/S125_001_00000013.png\n",
      "Uploaded imagessentiment/sadness/S125_001_00000013.png, 700 files out of an estimated total of 983\n",
      "Uploading imagessentiment/sadness/S125_001_00000014.png\n",
      "Uploaded imagessentiment/sadness/S125_001_00000014.png, 701 files out of an estimated total of 983\n",
      "Uploading imagessentiment/sadness/S130_009_00000017.png\n",
      "Uploaded imagessentiment/sadness/S130_009_00000017.png, 702 files out of an estimated total of 983\n",
      "Uploading imagessentiment/sadness/S130_009_00000018.png\n",
      "Uploaded imagessentiment/sadness/S130_009_00000018.png, 703 files out of an estimated total of 983\n",
      "Uploading imagessentiment/sadness/S130_009_00000019.png\n",
      "Uploaded imagessentiment/sadness/S130_009_00000019.png, 704 files out of an estimated total of 983\n",
      "Uploading imagessentiment/sadness/S131_003_00000022.png\n",
      "Uploaded imagessentiment/sadness/S131_003_00000022.png, 705 files out of an estimated total of 983\n",
      "Uploading imagessentiment/sadness/S131_003_00000023.png\n",
      "Uploaded imagessentiment/sadness/S131_003_00000023.png, 706 files out of an estimated total of 983\n",
      "Uploading imagessentiment/sadness/S131_003_00000024.png\n",
      "Uploaded imagessentiment/sadness/S131_003_00000024.png, 707 files out of an estimated total of 983\n",
      "Uploading imagessentiment/sadness/S132_002_00000016.png\n",
      "Uploaded imagessentiment/sadness/S132_002_00000016.png, 708 files out of an estimated total of 983\n",
      "Uploading imagessentiment/sadness/S132_002_00000017.png\n",
      "Uploaded imagessentiment/sadness/S132_002_00000017.png, 709 files out of an estimated total of 983\n",
      "Uploading imagessentiment/sadness/S132_002_00000018.png\n",
      "Uploaded imagessentiment/sadness/S132_002_00000018.png, 710 files out of an estimated total of 983\n",
      "Uploading imagessentiment/sadness/S136_003_00000012.png\n",
      "Uploaded imagessentiment/sadness/S136_003_00000012.png, 711 files out of an estimated total of 983\n",
      "Uploading imagessentiment/sadness/S136_003_00000013.png\n",
      "Uploaded imagessentiment/sadness/S136_003_00000013.png, 712 files out of an estimated total of 983\n",
      "Uploading imagessentiment/sadness/S136_003_00000014.png\n",
      "Uploaded imagessentiment/sadness/S136_003_00000014.png, 713 files out of an estimated total of 983\n",
      "Uploading imagessentiment/sadness/S137_005_00000025.png\n",
      "Uploaded imagessentiment/sadness/S137_005_00000025.png, 714 files out of an estimated total of 983\n",
      "Uploading imagessentiment/sadness/S137_005_00000026.png\n",
      "Uploaded imagessentiment/sadness/S137_005_00000026.png, 715 files out of an estimated total of 983\n",
      "Uploading imagessentiment/sadness/S137_005_00000027.png\n",
      "Uploaded imagessentiment/sadness/S137_005_00000027.png, 716 files out of an estimated total of 983\n",
      "Uploading imagessentiment/sadness/S138_007_00000009.png\n",
      "Uploaded imagessentiment/sadness/S138_007_00000009.png, 717 files out of an estimated total of 983\n",
      "Uploading imagessentiment/sadness/S138_007_00000010.png\n",
      "Uploaded imagessentiment/sadness/S138_007_00000010.png, 718 files out of an estimated total of 983\n",
      "Uploading imagessentiment/sadness/S138_007_00000011.png\n",
      "Uploaded imagessentiment/sadness/S138_007_00000011.png, 719 files out of an estimated total of 983\n",
      "Uploading imagessentiment/sadness/S501_006_00000039.png\n",
      "Uploaded imagessentiment/sadness/S501_006_00000039.png, 720 files out of an estimated total of 983\n",
      "Uploading imagessentiment/sadness/S501_006_00000040.png\n",
      "Uploaded imagessentiment/sadness/S501_006_00000040.png, 721 files out of an estimated total of 983\n",
      "Uploading imagessentiment/sadness/S501_006_00000041.png\n",
      "Uploaded imagessentiment/sadness/S501_006_00000041.png, 722 files out of an estimated total of 983\n",
      "Uploading imagessentiment/sadness/S503_006_00000018.png\n",
      "Uploaded imagessentiment/sadness/S503_006_00000018.png, 723 files out of an estimated total of 983\n",
      "Uploading imagessentiment/sadness/S503_006_00000019.png\n",
      "Uploaded imagessentiment/sadness/S503_006_00000019.png, 724 files out of an estimated total of 983\n",
      "Uploading imagessentiment/sadness/S503_006_00000020.png\n",
      "Uploaded imagessentiment/sadness/S503_006_00000020.png, 725 files out of an estimated total of 983\n",
      "Uploading imagessentiment/sadness/S504_006_00000016.png\n",
      "Uploaded imagessentiment/sadness/S504_006_00000016.png, 726 files out of an estimated total of 983\n",
      "Uploading imagessentiment/sadness/S504_006_00000017.png\n",
      "Uploaded imagessentiment/sadness/S504_006_00000017.png, 727 files out of an estimated total of 983\n",
      "Uploading imagessentiment/sadness/S504_006_00000018.png\n",
      "Uploaded imagessentiment/sadness/S504_006_00000018.png, 728 files out of an estimated total of 983\n",
      "Uploading imagessentiment/sadness/S505_006_00000017.png\n",
      "Uploaded imagessentiment/sadness/S505_006_00000017.png, 729 files out of an estimated total of 983\n",
      "Uploading imagessentiment/sadness/S505_006_00000018.png\n",
      "Uploaded imagessentiment/sadness/S505_006_00000018.png, 730 files out of an estimated total of 983\n",
      "Uploading imagessentiment/sadness/S505_006_00000019.png\n",
      "Uploaded imagessentiment/sadness/S505_006_00000019.png, 731 files out of an estimated total of 983\n",
      "Uploading imagessentiment/sadness/S506_006_00000040.png\n",
      "Uploaded imagessentiment/sadness/S506_006_00000040.png, 732 files out of an estimated total of 983\n",
      "Uploading imagessentiment/sadness/S506_006_00000041.png\n",
      "Uploaded imagessentiment/sadness/S506_006_00000041.png, 733 files out of an estimated total of 983\n",
      "Uploading imagessentiment/sadness/S506_006_00000042.png\n",
      "Uploaded imagessentiment/sadness/S506_006_00000042.png, 734 files out of an estimated total of 983\n",
      "Uploading imagessentiment/surprise/S010_002_00000012.png\n",
      "Uploaded imagessentiment/surprise/S010_002_00000012.png, 735 files out of an estimated total of 983\n",
      "Uploading imagessentiment/surprise/S010_002_00000013.png\n",
      "Uploaded imagessentiment/surprise/S010_002_00000013.png, 736 files out of an estimated total of 983\n",
      "Uploading imagessentiment/surprise/S010_002_00000014.png\n",
      "Uploaded imagessentiment/surprise/S010_002_00000014.png, 737 files out of an estimated total of 983\n",
      "Uploading imagessentiment/surprise/S011_001_00000014.png\n",
      "Uploaded imagessentiment/surprise/S011_001_00000014.png, 738 files out of an estimated total of 983\n",
      "Uploading imagessentiment/surprise/S011_001_00000015.png\n",
      "Uploaded imagessentiment/surprise/S011_001_00000015.png, 739 files out of an estimated total of 983\n",
      "Uploading imagessentiment/surprise/S011_001_00000016.png\n",
      "Uploaded imagessentiment/surprise/S011_001_00000016.png, 740 files out of an estimated total of 983\n",
      "Uploading imagessentiment/surprise/S014_001_00000027.png\n",
      "Uploaded imagessentiment/surprise/S014_001_00000027.png, 741 files out of an estimated total of 983\n",
      "Uploading imagessentiment/surprise/S014_001_00000028.png\n",
      "Uploaded imagessentiment/surprise/S014_001_00000028.png, 742 files out of an estimated total of 983\n",
      "Uploading imagessentiment/surprise/S014_001_00000029.png\n",
      "Uploaded imagessentiment/surprise/S014_001_00000029.png, 743 files out of an estimated total of 983\n",
      "Uploading imagessentiment/surprise/S022_001_00000028.png\n",
      "Uploaded imagessentiment/surprise/S022_001_00000028.png, 744 files out of an estimated total of 983\n",
      "Uploading imagessentiment/surprise/S022_001_00000029.png\n",
      "Uploaded imagessentiment/surprise/S022_001_00000029.png, 745 files out of an estimated total of 983\n",
      "Uploading imagessentiment/surprise/S022_001_00000030.png\n",
      "Uploaded imagessentiment/surprise/S022_001_00000030.png, 746 files out of an estimated total of 983\n",
      "Uploading imagessentiment/surprise/S026_001_00000013.png\n",
      "Uploaded imagessentiment/surprise/S026_001_00000013.png, 747 files out of an estimated total of 983\n",
      "Uploading imagessentiment/surprise/S026_001_00000014.png\n",
      "Uploaded imagessentiment/surprise/S026_001_00000014.png, 748 files out of an estimated total of 983\n",
      "Uploading imagessentiment/surprise/S026_001_00000015.png\n",
      "Uploaded imagessentiment/surprise/S026_001_00000015.png, 749 files out of an estimated total of 983\n",
      "Uploading imagessentiment/surprise/S032_001_00000020.png\n",
      "Uploaded imagessentiment/surprise/S032_001_00000020.png, 750 files out of an estimated total of 983\n",
      "Uploading imagessentiment/surprise/S032_001_00000021.png\n",
      "Uploaded imagessentiment/surprise/S032_001_00000021.png, 751 files out of an estimated total of 983\n",
      "Uploading imagessentiment/surprise/S032_001_00000022.png\n",
      "Uploaded imagessentiment/surprise/S032_001_00000022.png, 752 files out of an estimated total of 983\n",
      "Uploading imagessentiment/surprise/S034_001_00000027.png\n",
      "Uploaded imagessentiment/surprise/S034_001_00000027.png, 753 files out of an estimated total of 983\n",
      "Uploading imagessentiment/surprise/S034_001_00000028.png\n",
      "Uploaded imagessentiment/surprise/S034_001_00000028.png, 754 files out of an estimated total of 983\n",
      "Uploading imagessentiment/surprise/S034_001_00000029.png\n",
      "Uploaded imagessentiment/surprise/S034_001_00000029.png, 755 files out of an estimated total of 983\n",
      "Uploading imagessentiment/surprise/S035_001_00000013.png\n",
      "Uploaded imagessentiment/surprise/S035_001_00000013.png, 756 files out of an estimated total of 983\n",
      "Uploading imagessentiment/surprise/S035_001_00000014.png\n",
      "Uploaded imagessentiment/surprise/S035_001_00000014.png, 757 files out of an estimated total of 983\n",
      "Uploading imagessentiment/surprise/S035_001_00000015.png\n",
      "Uploaded imagessentiment/surprise/S035_001_00000015.png, 758 files out of an estimated total of 983\n",
      "Uploading imagessentiment/surprise/S037_001_00000018.png\n",
      "Uploaded imagessentiment/surprise/S037_001_00000018.png, 759 files out of an estimated total of 983\n",
      "Uploading imagessentiment/surprise/S037_001_00000019.png\n",
      "Uploaded imagessentiment/surprise/S037_001_00000019.png, 760 files out of an estimated total of 983\n",
      "Uploading imagessentiment/surprise/S037_001_00000020.png\n",
      "Uploaded imagessentiment/surprise/S037_001_00000020.png, 761 files out of an estimated total of 983\n",
      "Uploading imagessentiment/surprise/S042_001_00000017.png\n",
      "Uploaded imagessentiment/surprise/S042_001_00000017.png, 762 files out of an estimated total of 983\n",
      "Uploading imagessentiment/surprise/S042_001_00000018.png\n",
      "Uploaded imagessentiment/surprise/S042_001_00000018.png, 763 files out of an estimated total of 983\n",
      "Uploading imagessentiment/surprise/S042_001_00000019.png\n",
      "Uploaded imagessentiment/surprise/S042_001_00000019.png, 764 files out of an estimated total of 983\n",
      "Uploading imagessentiment/surprise/S044_001_00000022.png\n",
      "Uploaded imagessentiment/surprise/S044_001_00000022.png, 765 files out of an estimated total of 983\n",
      "Uploading imagessentiment/surprise/S044_001_00000023.png\n",
      "Uploaded imagessentiment/surprise/S044_001_00000023.png, 766 files out of an estimated total of 983\n",
      "Uploading imagessentiment/surprise/S044_001_00000024.png\n",
      "Uploaded imagessentiment/surprise/S044_001_00000024.png, 767 files out of an estimated total of 983\n",
      "Uploading imagessentiment/surprise/S046_002_00000004.png\n",
      "Uploaded imagessentiment/surprise/S046_002_00000004.png, 768 files out of an estimated total of 983\n",
      "Uploading imagessentiment/surprise/S046_002_00000005.png\n",
      "Uploaded imagessentiment/surprise/S046_002_00000005.png, 769 files out of an estimated total of 983\n",
      "Uploading imagessentiment/surprise/S046_002_00000006.png\n",
      "Uploaded imagessentiment/surprise/S046_002_00000006.png, 770 files out of an estimated total of 983\n",
      "Uploading imagessentiment/surprise/S050_002_00000016.png\n",
      "Uploaded imagessentiment/surprise/S050_002_00000016.png, 771 files out of an estimated total of 983\n",
      "Uploading imagessentiment/surprise/S050_002_00000017.png\n",
      "Uploaded imagessentiment/surprise/S050_002_00000017.png, 772 files out of an estimated total of 983\n",
      "Uploading imagessentiment/surprise/S050_002_00000018.png\n",
      "Uploaded imagessentiment/surprise/S050_002_00000018.png, 773 files out of an estimated total of 983\n",
      "Uploading imagessentiment/surprise/S051_002_00000017.png\n",
      "Uploaded imagessentiment/surprise/S051_002_00000017.png, 774 files out of an estimated total of 983\n",
      "Uploading imagessentiment/surprise/S051_002_00000018.png\n",
      "Uploaded imagessentiment/surprise/S051_002_00000018.png, 775 files out of an estimated total of 983\n",
      "Uploading imagessentiment/surprise/S051_002_00000019.png\n",
      "Uploaded imagessentiment/surprise/S051_002_00000019.png, 776 files out of an estimated total of 983\n",
      "Uploading imagessentiment/surprise/S052_001_00000013.png\n",
      "Uploaded imagessentiment/surprise/S052_001_00000013.png, 777 files out of an estimated total of 983\n",
      "Uploading imagessentiment/surprise/S052_001_00000014.png\n",
      "Uploaded imagessentiment/surprise/S052_001_00000014.png, 778 files out of an estimated total of 983\n",
      "Uploading imagessentiment/surprise/S052_001_00000015.png\n",
      "Uploaded imagessentiment/surprise/S052_001_00000015.png, 779 files out of an estimated total of 983\n",
      "Uploading imagessentiment/surprise/S053_001_00000021.png\n",
      "Uploaded imagessentiment/surprise/S053_001_00000021.png, 780 files out of an estimated total of 983\n",
      "Uploading imagessentiment/surprise/S053_001_00000022.png\n",
      "Uploaded imagessentiment/surprise/S053_001_00000022.png, 781 files out of an estimated total of 983\n",
      "Uploading imagessentiment/surprise/S053_001_00000023.png\n",
      "Uploaded imagessentiment/surprise/S053_001_00000023.png, 782 files out of an estimated total of 983\n",
      "Uploading imagessentiment/surprise/S054_003_00000005.png\n",
      "Uploaded imagessentiment/surprise/S054_003_00000005.png, 783 files out of an estimated total of 983\n",
      "Uploading imagessentiment/surprise/S054_003_00000006.png\n",
      "Uploaded imagessentiment/surprise/S054_003_00000006.png, 784 files out of an estimated total of 983\n",
      "Uploading imagessentiment/surprise/S054_003_00000007.png\n",
      "Uploaded imagessentiment/surprise/S054_003_00000007.png, 785 files out of an estimated total of 983\n",
      "Uploading imagessentiment/surprise/S055_001_00000010.png\n",
      "Uploaded imagessentiment/surprise/S055_001_00000010.png, 786 files out of an estimated total of 983\n",
      "Uploading imagessentiment/surprise/S055_001_00000011.png\n",
      "Uploaded imagessentiment/surprise/S055_001_00000011.png, 787 files out of an estimated total of 983\n",
      "Uploading imagessentiment/surprise/S055_001_00000012.png\n",
      "Uploaded imagessentiment/surprise/S055_001_00000012.png, 788 files out of an estimated total of 983\n",
      "Uploading imagessentiment/surprise/S056_003_00000008.png\n",
      "Uploaded imagessentiment/surprise/S056_003_00000008.png, 789 files out of an estimated total of 983\n",
      "Uploading imagessentiment/surprise/S056_003_00000009.png\n",
      "Uploaded imagessentiment/surprise/S056_003_00000009.png, 790 files out of an estimated total of 983\n",
      "Uploading imagessentiment/surprise/S056_003_00000010.png\n",
      "Uploaded imagessentiment/surprise/S056_003_00000010.png, 791 files out of an estimated total of 983\n",
      "Uploading imagessentiment/surprise/S057_001_00000017.png\n",
      "Uploaded imagessentiment/surprise/S057_001_00000017.png, 792 files out of an estimated total of 983\n",
      "Uploading imagessentiment/surprise/S057_001_00000018.png\n",
      "Uploaded imagessentiment/surprise/S057_001_00000018.png, 793 files out of an estimated total of 983\n",
      "Uploading imagessentiment/surprise/S057_001_00000019.png\n",
      "Uploaded imagessentiment/surprise/S057_001_00000019.png, 794 files out of an estimated total of 983\n",
      "Uploading imagessentiment/surprise/S058_001_00000018.png\n",
      "Uploaded imagessentiment/surprise/S058_001_00000018.png, 795 files out of an estimated total of 983\n",
      "Uploading imagessentiment/surprise/S058_001_00000019.png\n",
      "Uploaded imagessentiment/surprise/S058_001_00000019.png, 796 files out of an estimated total of 983\n",
      "Uploading imagessentiment/surprise/S058_001_00000020.png\n",
      "Uploaded imagessentiment/surprise/S058_001_00000020.png, 797 files out of an estimated total of 983\n",
      "Uploading imagessentiment/surprise/S059_001_00000016.png\n",
      "Uploaded imagessentiment/surprise/S059_001_00000016.png, 798 files out of an estimated total of 983\n",
      "Uploading imagessentiment/surprise/S059_001_00000017.png\n",
      "Uploaded imagessentiment/surprise/S059_001_00000017.png, 799 files out of an estimated total of 983\n",
      "Uploading imagessentiment/surprise/S059_001_00000018.png\n",
      "Uploaded imagessentiment/surprise/S059_001_00000018.png, 800 files out of an estimated total of 983\n",
      "Uploading imagessentiment/surprise/S060_003_00000016.png\n",
      "Uploaded imagessentiment/surprise/S060_003_00000016.png, 801 files out of an estimated total of 983\n",
      "Uploading imagessentiment/surprise/S060_003_00000017.png\n",
      "Uploaded imagessentiment/surprise/S060_003_00000017.png, 802 files out of an estimated total of 983\n",
      "Uploading imagessentiment/surprise/S060_003_00000018.png\n",
      "Uploaded imagessentiment/surprise/S060_003_00000018.png, 803 files out of an estimated total of 983\n",
      "Uploading imagessentiment/surprise/S061_001_00000010.png\n",
      "Uploaded imagessentiment/surprise/S061_001_00000010.png, 804 files out of an estimated total of 983\n",
      "Uploading imagessentiment/surprise/S061_001_00000011.png\n",
      "Uploaded imagessentiment/surprise/S061_001_00000011.png, 805 files out of an estimated total of 983\n",
      "Uploading imagessentiment/surprise/S061_001_00000012.png\n",
      "Uploaded imagessentiment/surprise/S061_001_00000012.png, 806 files out of an estimated total of 983\n",
      "Uploading imagessentiment/surprise/S062_002_00000014.png\n",
      "Uploaded imagessentiment/surprise/S062_002_00000014.png, 807 files out of an estimated total of 983\n",
      "Uploading imagessentiment/surprise/S062_002_00000015.png\n",
      "Uploaded imagessentiment/surprise/S062_002_00000015.png, 808 files out of an estimated total of 983\n",
      "Uploading imagessentiment/surprise/S062_002_00000016.png\n",
      "Uploaded imagessentiment/surprise/S062_002_00000016.png, 809 files out of an estimated total of 983\n",
      "Uploading imagessentiment/surprise/S063_001_00000011.png\n",
      "Uploaded imagessentiment/surprise/S063_001_00000011.png, 810 files out of an estimated total of 983\n",
      "Uploading imagessentiment/surprise/S063_001_00000012.png\n",
      "Uploaded imagessentiment/surprise/S063_001_00000012.png, 811 files out of an estimated total of 983\n",
      "Uploading imagessentiment/surprise/S063_001_00000013.png\n",
      "Uploaded imagessentiment/surprise/S063_001_00000013.png, 812 files out of an estimated total of 983\n",
      "Uploading imagessentiment/surprise/S064_001_00000010.png\n",
      "Uploaded imagessentiment/surprise/S064_001_00000010.png, 813 files out of an estimated total of 983\n",
      "Uploading imagessentiment/surprise/S064_001_00000011.png\n",
      "Uploaded imagessentiment/surprise/S064_001_00000011.png, 814 files out of an estimated total of 983\n",
      "Uploading imagessentiment/surprise/S064_001_00000012.png\n",
      "Uploaded imagessentiment/surprise/S064_001_00000012.png, 815 files out of an estimated total of 983\n",
      "Uploading imagessentiment/surprise/S065_003_00000020.png\n",
      "Uploaded imagessentiment/surprise/S065_003_00000020.png, 816 files out of an estimated total of 983\n",
      "Uploading imagessentiment/surprise/S065_003_00000021.png\n",
      "Uploaded imagessentiment/surprise/S065_003_00000021.png, 817 files out of an estimated total of 983\n",
      "Uploading imagessentiment/surprise/S065_003_00000022.png\n",
      "Uploaded imagessentiment/surprise/S065_003_00000022.png, 818 files out of an estimated total of 983\n",
      "Uploading imagessentiment/surprise/S066_002_00000020.png\n",
      "Uploaded imagessentiment/surprise/S066_002_00000020.png, 819 files out of an estimated total of 983\n",
      "Uploading imagessentiment/surprise/S066_002_00000021.png\n",
      "Uploaded imagessentiment/surprise/S066_002_00000021.png, 820 files out of an estimated total of 983\n",
      "Uploading imagessentiment/surprise/S066_002_00000022.png\n",
      "Uploaded imagessentiment/surprise/S066_002_00000022.png, 821 files out of an estimated total of 983\n",
      "Uploading imagessentiment/surprise/S067_002_00000012.png\n",
      "Uploaded imagessentiment/surprise/S067_002_00000012.png, 822 files out of an estimated total of 983\n",
      "Uploading imagessentiment/surprise/S067_002_00000013.png\n",
      "Uploaded imagessentiment/surprise/S067_002_00000013.png, 823 files out of an estimated total of 983\n",
      "Uploading imagessentiment/surprise/S067_002_00000014.png\n",
      "Uploaded imagessentiment/surprise/S067_002_00000014.png, 824 files out of an estimated total of 983\n",
      "Uploading imagessentiment/surprise/S068_003_00000012.png\n",
      "Uploaded imagessentiment/surprise/S068_003_00000012.png, 825 files out of an estimated total of 983\n",
      "Uploading imagessentiment/surprise/S068_003_00000013.png\n",
      "Uploaded imagessentiment/surprise/S068_003_00000013.png, 826 files out of an estimated total of 983\n",
      "Uploading imagessentiment/surprise/S068_003_00000014.png\n",
      "Uploaded imagessentiment/surprise/S068_003_00000014.png, 827 files out of an estimated total of 983\n",
      "Uploading imagessentiment/surprise/S069_002_00000012.png\n",
      "Uploaded imagessentiment/surprise/S069_002_00000012.png, 828 files out of an estimated total of 983\n",
      "Uploading imagessentiment/surprise/S069_002_00000013.png\n",
      "Uploaded imagessentiment/surprise/S069_002_00000013.png, 829 files out of an estimated total of 983\n",
      "Uploading imagessentiment/surprise/S069_002_00000014.png\n",
      "Uploaded imagessentiment/surprise/S069_002_00000014.png, 830 files out of an estimated total of 983\n",
      "Uploading imagessentiment/surprise/S070_002_00000014.png\n",
      "Uploaded imagessentiment/surprise/S070_002_00000014.png, 831 files out of an estimated total of 983\n",
      "Uploading imagessentiment/surprise/S070_002_00000015.png\n",
      "Uploaded imagessentiment/surprise/S070_002_00000015.png, 832 files out of an estimated total of 983\n",
      "Uploading imagessentiment/surprise/S070_002_00000016.png\n",
      "Uploaded imagessentiment/surprise/S070_002_00000016.png, 833 files out of an estimated total of 983\n",
      "Uploading imagessentiment/surprise/S071_001_00000011.png\n",
      "Uploaded imagessentiment/surprise/S071_001_00000011.png, 834 files out of an estimated total of 983\n",
      "Uploading imagessentiment/surprise/S071_001_00000012.png\n",
      "Uploaded imagessentiment/surprise/S071_001_00000012.png, 835 files out of an estimated total of 983\n",
      "Uploading imagessentiment/surprise/S071_001_00000013.png\n",
      "Uploaded imagessentiment/surprise/S071_001_00000013.png, 836 files out of an estimated total of 983\n",
      "Uploading imagessentiment/surprise/S073_001_00000011.png\n",
      "Uploaded imagessentiment/surprise/S073_001_00000011.png, 837 files out of an estimated total of 983\n",
      "Uploading imagessentiment/surprise/S073_001_00000012.png\n",
      "Uploaded imagessentiment/surprise/S073_001_00000012.png, 838 files out of an estimated total of 983\n",
      "Uploading imagessentiment/surprise/S073_001_00000013.png\n",
      "Uploaded imagessentiment/surprise/S073_001_00000013.png, 839 files out of an estimated total of 983\n",
      "Uploading imagessentiment/surprise/S074_002_00000014.png\n",
      "Uploaded imagessentiment/surprise/S074_002_00000014.png, 840 files out of an estimated total of 983\n",
      "Uploading imagessentiment/surprise/S074_002_00000015.png\n",
      "Uploaded imagessentiment/surprise/S074_002_00000015.png, 841 files out of an estimated total of 983\n",
      "Uploading imagessentiment/surprise/S074_002_00000016.png\n",
      "Uploaded imagessentiment/surprise/S074_002_00000016.png, 842 files out of an estimated total of 983\n",
      "Uploading imagessentiment/surprise/S075_002_00000012.png\n",
      "Uploaded imagessentiment/surprise/S075_002_00000012.png, 843 files out of an estimated total of 983\n",
      "Uploading imagessentiment/surprise/S075_002_00000013.png\n",
      "Uploaded imagessentiment/surprise/S075_002_00000013.png, 844 files out of an estimated total of 983\n",
      "Uploading imagessentiment/surprise/S075_002_00000014.png\n",
      "Uploaded imagessentiment/surprise/S075_002_00000014.png, 845 files out of an estimated total of 983\n",
      "Uploading imagessentiment/surprise/S076_001_00000015.png\n",
      "Uploaded imagessentiment/surprise/S076_001_00000015.png, 846 files out of an estimated total of 983\n",
      "Uploading imagessentiment/surprise/S076_001_00000016.png\n",
      "Uploaded imagessentiment/surprise/S076_001_00000016.png, 847 files out of an estimated total of 983\n",
      "Uploading imagessentiment/surprise/S076_001_00000017.png\n",
      "Uploaded imagessentiment/surprise/S076_001_00000017.png, 848 files out of an estimated total of 983\n",
      "Uploading imagessentiment/surprise/S077_001_00000026.png\n",
      "Uploaded imagessentiment/surprise/S077_001_00000026.png, 849 files out of an estimated total of 983\n",
      "Uploading imagessentiment/surprise/S077_001_00000027.png\n",
      "Uploaded imagessentiment/surprise/S077_001_00000027.png, 850 files out of an estimated total of 983\n",
      "Uploading imagessentiment/surprise/S077_001_00000028.png\n",
      "Uploaded imagessentiment/surprise/S077_001_00000028.png, 851 files out of an estimated total of 983\n",
      "Uploading imagessentiment/surprise/S078_001_00000031.png\n",
      "Uploaded imagessentiment/surprise/S078_001_00000031.png, 852 files out of an estimated total of 983\n",
      "Uploading imagessentiment/surprise/S078_001_00000032.png\n",
      "Uploaded imagessentiment/surprise/S078_001_00000032.png, 853 files out of an estimated total of 983\n",
      "Uploading imagessentiment/surprise/S078_001_00000033.png\n",
      "Uploaded imagessentiment/surprise/S078_001_00000033.png, 854 files out of an estimated total of 983\n",
      "Uploading imagessentiment/surprise/S079_001_00000010.png\n",
      "Uploaded imagessentiment/surprise/S079_001_00000010.png, 855 files out of an estimated total of 983\n",
      "Uploading imagessentiment/surprise/S079_001_00000011.png\n",
      "Uploaded imagessentiment/surprise/S079_001_00000011.png, 856 files out of an estimated total of 983\n",
      "Uploading imagessentiment/surprise/S079_001_00000012.png\n",
      "Uploaded imagessentiment/surprise/S079_001_00000012.png, 857 files out of an estimated total of 983\n",
      "Uploading imagessentiment/surprise/S080_001_00000016.png\n",
      "Uploaded imagessentiment/surprise/S080_001_00000016.png, 858 files out of an estimated total of 983\n",
      "Uploading imagessentiment/surprise/S080_001_00000017.png\n",
      "Uploaded imagessentiment/surprise/S080_001_00000017.png, 859 files out of an estimated total of 983\n",
      "Uploading imagessentiment/surprise/S080_001_00000018.png\n",
      "Uploaded imagessentiment/surprise/S080_001_00000018.png, 860 files out of an estimated total of 983\n",
      "Uploading imagessentiment/surprise/S081_001_00000017.png\n",
      "Uploaded imagessentiment/surprise/S081_001_00000017.png, 861 files out of an estimated total of 983\n",
      "Uploading imagessentiment/surprise/S081_001_00000018.png\n",
      "Uploaded imagessentiment/surprise/S081_001_00000018.png, 862 files out of an estimated total of 983\n",
      "Uploading imagessentiment/surprise/S081_001_00000019.png\n",
      "Uploaded imagessentiment/surprise/S081_001_00000019.png, 863 files out of an estimated total of 983\n",
      "Uploading imagessentiment/surprise/S082_001_00000013.png\n",
      "Uploaded imagessentiment/surprise/S082_001_00000013.png, 864 files out of an estimated total of 983\n",
      "Uploading imagessentiment/surprise/S082_001_00000014.png\n",
      "Uploaded imagessentiment/surprise/S082_001_00000014.png, 865 files out of an estimated total of 983\n",
      "Uploading imagessentiment/surprise/S082_001_00000015.png\n",
      "Uploaded imagessentiment/surprise/S082_001_00000015.png, 866 files out of an estimated total of 983\n",
      "Uploading imagessentiment/surprise/S084_001_00000008.png\n",
      "Uploaded imagessentiment/surprise/S084_001_00000008.png, 867 files out of an estimated total of 983\n",
      "Uploading imagessentiment/surprise/S084_001_00000009.png\n",
      "Uploaded imagessentiment/surprise/S084_001_00000009.png, 868 files out of an estimated total of 983\n",
      "Uploading imagessentiment/surprise/S084_001_00000010.png\n",
      "Uploaded imagessentiment/surprise/S084_001_00000010.png, 869 files out of an estimated total of 983\n",
      "Uploading imagessentiment/surprise/S085_003_00000011.png\n",
      "Uploaded imagessentiment/surprise/S085_003_00000011.png, 870 files out of an estimated total of 983\n",
      "Uploading imagessentiment/surprise/S085_003_00000012.png\n",
      "Uploaded imagessentiment/surprise/S085_003_00000012.png, 871 files out of an estimated total of 983\n",
      "Uploading imagessentiment/surprise/S085_003_00000013.png\n",
      "Uploaded imagessentiment/surprise/S085_003_00000013.png, 872 files out of an estimated total of 983\n",
      "Uploading imagessentiment/surprise/S086_001_00000017.png\n",
      "Uploaded imagessentiment/surprise/S086_001_00000017.png, 873 files out of an estimated total of 983\n",
      "Uploading imagessentiment/surprise/S086_001_00000018.png\n",
      "Uploaded imagessentiment/surprise/S086_001_00000018.png, 874 files out of an estimated total of 983\n",
      "Uploading imagessentiment/surprise/S086_001_00000019.png\n",
      "Uploaded imagessentiment/surprise/S086_001_00000019.png, 875 files out of an estimated total of 983\n",
      "Uploading imagessentiment/surprise/S087_001_00000009.png\n",
      "Uploaded imagessentiment/surprise/S087_001_00000009.png, 876 files out of an estimated total of 983\n",
      "Uploading imagessentiment/surprise/S087_001_00000010.png\n",
      "Uploaded imagessentiment/surprise/S087_001_00000010.png, 877 files out of an estimated total of 983\n",
      "Uploading imagessentiment/surprise/S087_001_00000011.png\n",
      "Uploaded imagessentiment/surprise/S087_001_00000011.png, 878 files out of an estimated total of 983\n",
      "Uploading imagessentiment/surprise/S088_001_00000015.png\n",
      "Uploaded imagessentiment/surprise/S088_001_00000015.png, 879 files out of an estimated total of 983\n",
      "Uploading imagessentiment/surprise/S088_001_00000016.png\n",
      "Uploaded imagessentiment/surprise/S088_001_00000016.png, 880 files out of an estimated total of 983\n",
      "Uploading imagessentiment/surprise/S088_001_00000017.png\n",
      "Uploaded imagessentiment/surprise/S088_001_00000017.png, 881 files out of an estimated total of 983\n",
      "Uploading imagessentiment/surprise/S089_001_00000014.png\n",
      "Uploaded imagessentiment/surprise/S089_001_00000014.png, 882 files out of an estimated total of 983\n",
      "Uploading imagessentiment/surprise/S089_001_00000015.png\n",
      "Uploaded imagessentiment/surprise/S089_001_00000015.png, 883 files out of an estimated total of 983\n",
      "Uploading imagessentiment/surprise/S089_001_00000016.png\n",
      "Uploaded imagessentiment/surprise/S089_001_00000016.png, 884 files out of an estimated total of 983\n",
      "Uploading imagessentiment/surprise/S090_002_00000009.png\n",
      "Uploaded imagessentiment/surprise/S090_002_00000009.png, 885 files out of an estimated total of 983\n",
      "Uploading imagessentiment/surprise/S090_002_00000010.png\n",
      "Uploaded imagessentiment/surprise/S090_002_00000010.png, 886 files out of an estimated total of 983\n",
      "Uploading imagessentiment/surprise/S092_001_00000015.png\n",
      "Uploaded imagessentiment/surprise/S092_001_00000015.png, 887 files out of an estimated total of 983\n",
      "Uploading imagessentiment/surprise/S092_001_00000016.png\n",
      "Uploaded imagessentiment/surprise/S092_001_00000016.png, 888 files out of an estimated total of 983\n",
      "Uploading imagessentiment/surprise/S092_001_00000017.png\n",
      "Uploaded imagessentiment/surprise/S092_001_00000017.png, 889 files out of an estimated total of 983\n",
      "Uploading imagessentiment/surprise/S094_001_00000008.png\n",
      "Uploaded imagessentiment/surprise/S094_001_00000008.png, 890 files out of an estimated total of 983\n",
      "Uploading imagessentiment/surprise/S094_001_00000009.png\n",
      "Uploaded imagessentiment/surprise/S094_001_00000009.png, 891 files out of an estimated total of 983\n",
      "Uploading imagessentiment/surprise/S094_001_00000010.png\n",
      "Uploaded imagessentiment/surprise/S094_001_00000010.png, 892 files out of an estimated total of 983\n",
      "Uploading imagessentiment/surprise/S095_001_00000014.png\n",
      "Uploaded imagessentiment/surprise/S095_001_00000014.png, 893 files out of an estimated total of 983\n",
      "Uploading imagessentiment/surprise/S095_001_00000015.png\n",
      "Uploaded imagessentiment/surprise/S095_001_00000015.png, 894 files out of an estimated total of 983\n",
      "Uploading imagessentiment/surprise/S095_001_00000016.png\n",
      "Uploaded imagessentiment/surprise/S095_001_00000016.png, 895 files out of an estimated total of 983\n",
      "Uploading imagessentiment/surprise/S096_001_00000005.png\n",
      "Uploaded imagessentiment/surprise/S096_001_00000005.png, 896 files out of an estimated total of 983\n",
      "Uploading imagessentiment/surprise/S096_001_00000006.png\n",
      "Uploaded imagessentiment/surprise/S096_001_00000006.png, 897 files out of an estimated total of 983\n",
      "Uploading imagessentiment/surprise/S096_001_00000007.png\n",
      "Uploaded imagessentiment/surprise/S096_001_00000007.png, 898 files out of an estimated total of 983\n",
      "Uploading imagessentiment/surprise/S097_001_00000019.png\n",
      "Uploaded imagessentiment/surprise/S097_001_00000019.png, 899 files out of an estimated total of 983\n",
      "Uploading imagessentiment/surprise/S097_001_00000020.png\n",
      "Uploaded imagessentiment/surprise/S097_001_00000020.png, 900 files out of an estimated total of 983\n",
      "Uploading imagessentiment/surprise/S097_001_00000021.png\n",
      "Uploaded imagessentiment/surprise/S097_001_00000021.png, 901 files out of an estimated total of 983\n",
      "Uploading imagessentiment/surprise/S099_001_00000014.png\n",
      "Uploaded imagessentiment/surprise/S099_001_00000014.png, 902 files out of an estimated total of 983\n",
      "Uploading imagessentiment/surprise/S100_002_00000014.png\n",
      "Uploaded imagessentiment/surprise/S100_002_00000014.png, 903 files out of an estimated total of 983\n",
      "Uploading imagessentiment/surprise/S100_002_00000015.png\n",
      "Uploaded imagessentiment/surprise/S100_002_00000015.png, 904 files out of an estimated total of 983\n",
      "Uploading imagessentiment/surprise/S101_002_00000017.png\n",
      "Uploaded imagessentiment/surprise/S101_002_00000017.png, 905 files out of an estimated total of 983\n",
      "Uploading imagessentiment/surprise/S101_002_00000018.png\n",
      "Uploaded imagessentiment/surprise/S101_002_00000018.png, 906 files out of an estimated total of 983\n",
      "Uploading imagessentiment/surprise/S101_002_00000019.png\n",
      "Uploaded imagessentiment/surprise/S101_002_00000019.png, 907 files out of an estimated total of 983\n",
      "Uploading imagessentiment/surprise/S102_002_00000016.png\n",
      "Uploaded imagessentiment/surprise/S102_002_00000016.png, 908 files out of an estimated total of 983\n",
      "Uploading imagessentiment/surprise/S102_002_00000017.png\n",
      "Uploaded imagessentiment/surprise/S102_002_00000017.png, 909 files out of an estimated total of 983\n",
      "Uploading imagessentiment/surprise/S107_001_00000008.png\n",
      "Uploaded imagessentiment/surprise/S107_001_00000008.png, 910 files out of an estimated total of 983\n",
      "Uploading imagessentiment/surprise/S107_001_00000010.png\n",
      "Uploaded imagessentiment/surprise/S107_001_00000010.png, 911 files out of an estimated total of 983\n",
      "Uploading imagessentiment/surprise/S090_002_00000011.png\n",
      "Uploaded imagessentiment/surprise/S090_002_00000011.png, 912 files out of an estimated total of 983\n",
      "Uploading imagessentiment/surprise/S099_001_00000012.png\n",
      "Uploaded imagessentiment/surprise/S099_001_00000012.png, 913 files out of an estimated total of 983\n",
      "Uploading imagessentiment/surprise/S099_001_00000013.png\n",
      "Uploaded imagessentiment/surprise/S099_001_00000013.png, 914 files out of an estimated total of 983\n",
      "Uploading imagessentiment/surprise/S100_002_00000013.png\n",
      "Uploaded imagessentiment/surprise/S100_002_00000013.png, 915 files out of an estimated total of 983\n",
      "Uploading imagessentiment/surprise/S102_002_00000018.png\n",
      "Uploaded imagessentiment/surprise/S102_002_00000018.png, 916 files out of an estimated total of 983\n",
      "Uploading imagessentiment/surprise/S107_001_00000009.png\n",
      "Uploaded imagessentiment/surprise/S107_001_00000009.png, 917 files out of an estimated total of 983\n",
      "Uploading imagessentiment/surprise/S110_001_00000011.png\n",
      "Uploaded imagessentiment/surprise/S110_001_00000011.png, 918 files out of an estimated total of 983\n",
      "Uploading imagessentiment/surprise/S110_001_00000012.png\n",
      "Uploaded imagessentiment/surprise/S110_001_00000012.png, 919 files out of an estimated total of 983\n",
      "Uploading imagessentiment/surprise/S110_001_00000013.png\n",
      "Uploaded imagessentiment/surprise/S110_001_00000013.png, 920 files out of an estimated total of 983\n",
      "Uploading imagessentiment/surprise/S111_001_00000012.png\n",
      "Uploaded imagessentiment/surprise/S111_001_00000012.png, 921 files out of an estimated total of 983\n",
      "Uploading imagessentiment/surprise/S111_001_00000013.png\n",
      "Uploaded imagessentiment/surprise/S111_001_00000013.png, 922 files out of an estimated total of 983\n",
      "Uploading imagessentiment/surprise/S111_001_00000014.png\n",
      "Uploaded imagessentiment/surprise/S111_001_00000014.png, 923 files out of an estimated total of 983\n",
      "Uploading imagessentiment/surprise/S113_001_00000010.png\n",
      "Uploaded imagessentiment/surprise/S113_001_00000010.png, 924 files out of an estimated total of 983\n",
      "Uploading imagessentiment/surprise/S113_001_00000011.png\n",
      "Uploaded imagessentiment/surprise/S113_001_00000011.png, 925 files out of an estimated total of 983\n",
      "Uploading imagessentiment/surprise/S113_001_00000012.png\n",
      "Uploaded imagessentiment/surprise/S113_001_00000012.png, 926 files out of an estimated total of 983\n",
      "Uploading imagessentiment/surprise/S114_001_00000016.png\n",
      "Uploaded imagessentiment/surprise/S114_001_00000016.png, 927 files out of an estimated total of 983\n",
      "Uploading imagessentiment/surprise/S114_001_00000017.png\n",
      "Uploaded imagessentiment/surprise/S114_001_00000017.png, 928 files out of an estimated total of 983\n",
      "Uploading imagessentiment/surprise/S114_001_00000018.png\n",
      "Uploaded imagessentiment/surprise/S114_001_00000018.png, 929 files out of an estimated total of 983\n",
      "Uploading imagessentiment/surprise/S115_001_00000006.png\n",
      "Uploaded imagessentiment/surprise/S115_001_00000006.png, 930 files out of an estimated total of 983\n",
      "Uploading imagessentiment/surprise/S115_001_00000007.png\n",
      "Uploaded imagessentiment/surprise/S115_001_00000007.png, 931 files out of an estimated total of 983\n",
      "Uploading imagessentiment/surprise/S115_001_00000008.png\n",
      "Uploaded imagessentiment/surprise/S115_001_00000008.png, 932 files out of an estimated total of 983\n",
      "Uploading imagessentiment/surprise/S116_001_00000012.png\n",
      "Uploaded imagessentiment/surprise/S116_001_00000012.png, 933 files out of an estimated total of 983\n",
      "Uploading imagessentiment/surprise/S116_001_00000013.png\n",
      "Uploaded imagessentiment/surprise/S116_001_00000013.png, 934 files out of an estimated total of 983\n",
      "Uploading imagessentiment/surprise/S116_001_00000014.png\n",
      "Uploaded imagessentiment/surprise/S116_001_00000014.png, 935 files out of an estimated total of 983\n",
      "Uploading imagessentiment/surprise/S117_001_00000012.png\n",
      "Uploaded imagessentiment/surprise/S117_001_00000012.png, 936 files out of an estimated total of 983\n",
      "Uploading imagessentiment/surprise/S117_001_00000014.png\n",
      "Uploaded imagessentiment/surprise/S117_001_00000014.png, 937 files out of an estimated total of 983\n",
      "Uploading imagessentiment/surprise/S119_001_00000009.png\n",
      "Uploaded imagessentiment/surprise/S119_001_00000009.png, 938 files out of an estimated total of 983\n",
      "Uploading imagessentiment/surprise/S119_001_00000010.png\n",
      "Uploaded imagessentiment/surprise/S119_001_00000010.png, 939 files out of an estimated total of 983\n",
      "Uploading imagessentiment/surprise/S119_001_00000011.png\n",
      "Uploaded imagessentiment/surprise/S119_001_00000011.png, 940 files out of an estimated total of 983\n",
      "Uploading imagessentiment/surprise/S122_001_00000010.png\n",
      "Uploaded imagessentiment/surprise/S122_001_00000010.png, 941 files out of an estimated total of 983\n",
      "Uploading imagessentiment/surprise/S122_001_00000011.png\n",
      "Uploaded imagessentiment/surprise/S122_001_00000011.png, 942 files out of an estimated total of 983\n",
      "Uploading imagessentiment/surprise/S122_001_00000012.png\n",
      "Uploaded imagessentiment/surprise/S122_001_00000012.png, 943 files out of an estimated total of 983\n",
      "Uploading imagessentiment/surprise/S124_001_00000012.png\n",
      "Uploaded imagessentiment/surprise/S124_001_00000012.png, 944 files out of an estimated total of 983\n",
      "Uploading imagessentiment/surprise/S124_001_00000013.png\n",
      "Uploaded imagessentiment/surprise/S124_001_00000013.png, 945 files out of an estimated total of 983\n",
      "Uploading imagessentiment/surprise/S124_001_00000014.png\n",
      "Uploaded imagessentiment/surprise/S124_001_00000014.png, 946 files out of an estimated total of 983\n",
      "Uploading imagessentiment/surprise/S125_007_00000007.png\n",
      "Uploaded imagessentiment/surprise/S125_007_00000007.png, 947 files out of an estimated total of 983\n",
      "Uploading imagessentiment/surprise/S125_007_00000008.png\n",
      "Uploaded imagessentiment/surprise/S125_007_00000008.png, 948 files out of an estimated total of 983\n",
      "Uploading imagessentiment/surprise/S125_007_00000009.png\n",
      "Uploaded imagessentiment/surprise/S125_007_00000009.png, 949 files out of an estimated total of 983\n",
      "Uploading imagessentiment/surprise/S126_004_00000010.png\n",
      "Uploaded imagessentiment/surprise/S126_004_00000010.png, 950 files out of an estimated total of 983\n",
      "Uploading imagessentiment/surprise/S126_004_00000011.png\n",
      "Uploaded imagessentiment/surprise/S126_004_00000011.png, 951 files out of an estimated total of 983\n",
      "Uploading imagessentiment/surprise/S127_001_00000015.png\n",
      "Uploaded imagessentiment/surprise/S127_001_00000015.png, 952 files out of an estimated total of 983\n",
      "Uploading imagessentiment/surprise/S127_001_00000016.png\n",
      "Uploaded imagessentiment/surprise/S127_001_00000016.png, 953 files out of an estimated total of 983\n",
      "Uploading imagessentiment/surprise/S127_001_00000017.png\n",
      "Uploaded imagessentiment/surprise/S127_001_00000017.png, 954 files out of an estimated total of 983\n",
      "Uploading imagessentiment/surprise/S129_002_00000009.png\n",
      "Uploaded imagessentiment/surprise/S129_002_00000009.png, 955 files out of an estimated total of 983\n",
      "Uploading imagessentiment/surprise/S129_002_00000010.png\n",
      "Uploaded imagessentiment/surprise/S129_002_00000010.png, 956 files out of an estimated total of 983\n",
      "Uploading imagessentiment/surprise/S129_002_00000011.png\n",
      "Uploaded imagessentiment/surprise/S129_002_00000011.png, 957 files out of an estimated total of 983\n",
      "Uploading imagessentiment/surprise/S130_001_00000016.png\n",
      "Uploaded imagessentiment/surprise/S130_001_00000016.png, 958 files out of an estimated total of 983\n",
      "Uploading imagessentiment/surprise/S130_001_00000017.png\n",
      "Uploaded imagessentiment/surprise/S130_001_00000017.png, 959 files out of an estimated total of 983\n",
      "Uploading imagessentiment/surprise/S130_001_00000018.png\n",
      "Uploaded imagessentiment/surprise/S130_001_00000018.png, 960 files out of an estimated total of 983\n",
      "Uploading imagessentiment/surprise/S131_001_00000014.png\n",
      "Uploaded imagessentiment/surprise/S131_001_00000014.png, 961 files out of an estimated total of 983\n",
      "Uploading imagessentiment/surprise/S131_001_00000016.png\n",
      "Uploaded imagessentiment/surprise/S131_001_00000016.png, 962 files out of an estimated total of 983\n",
      "Uploading imagessentiment/surprise/S132_008_00000008.png\n",
      "Uploaded imagessentiment/surprise/S132_008_00000008.png, 963 files out of an estimated total of 983\n",
      "Uploading imagessentiment/surprise/S132_008_00000009.png\n",
      "Uploaded imagessentiment/surprise/S132_008_00000009.png, 964 files out of an estimated total of 983\n",
      "Uploading imagessentiment/surprise/S135_001_00000037.png\n",
      "Uploaded imagessentiment/surprise/S135_001_00000037.png, 965 files out of an estimated total of 983\n",
      "Uploading imagessentiment/surprise/S135_001_00000038.png\n",
      "Uploaded imagessentiment/surprise/S135_001_00000038.png, 966 files out of an estimated total of 983\n",
      "Uploading imagessentiment/surprise/S135_001_00000039.png\n",
      "Uploaded imagessentiment/surprise/S135_001_00000039.png, 967 files out of an estimated total of 983\n",
      "Uploading imagessentiment/surprise/S136_001_00000017.png\n",
      "Uploaded imagessentiment/surprise/S136_001_00000017.png, 968 files out of an estimated total of 983\n",
      "Uploading imagessentiment/surprise/S136_001_00000018.png\n",
      "Uploaded imagessentiment/surprise/S136_001_00000018.png, 969 files out of an estimated total of 983\n",
      "Uploading imagessentiment/surprise/S117_001_00000013.png\n",
      "Uploaded imagessentiment/surprise/S117_001_00000013.png, 970 files out of an estimated total of 983\n",
      "Uploading imagessentiment/surprise/S126_004_00000012.png\n",
      "Uploaded imagessentiment/surprise/S126_004_00000012.png, 971 files out of an estimated total of 983\n",
      "Uploading imagessentiment/surprise/S131_001_00000015.png\n",
      "Uploaded imagessentiment/surprise/S131_001_00000015.png, 972 files out of an estimated total of 983\n",
      "Uploading imagessentiment/surprise/S132_008_00000010.png\n",
      "Uploaded imagessentiment/surprise/S132_008_00000010.png, 973 files out of an estimated total of 983\n",
      "Uploading imagessentiment/surprise/S133_009_00000004.png\n",
      "Uploaded imagessentiment/surprise/S133_009_00000004.png, 974 files out of an estimated total of 983\n",
      "Uploading imagessentiment/surprise/S133_009_00000005.png\n",
      "Uploaded imagessentiment/surprise/S133_009_00000005.png, 975 files out of an estimated total of 983\n",
      "Uploading imagessentiment/surprise/S133_009_00000006.png\n",
      "Uploaded imagessentiment/surprise/S133_009_00000006.png, 976 files out of an estimated total of 983\n",
      "Uploading imagessentiment/surprise/S136_001_00000019.png\n",
      "Uploaded imagessentiment/surprise/S136_001_00000019.png, 977 files out of an estimated total of 983\n",
      "Uploading imagessentiment/surprise/S137_001_00000012.png\n",
      "Uploaded imagessentiment/surprise/S137_001_00000012.png, 978 files out of an estimated total of 983\n",
      "Uploading imagessentiment/surprise/S137_001_00000013.png\n",
      "Uploaded imagessentiment/surprise/S137_001_00000013.png, 979 files out of an estimated total of 983\n",
      "Uploading imagessentiment/surprise/S137_001_00000014.png\n",
      "Uploaded imagessentiment/surprise/S137_001_00000014.png, 980 files out of an estimated total of 983\n",
      "Uploading imagessentiment/surprise/S138_004_00000011.png\n",
      "Uploaded imagessentiment/surprise/S138_004_00000011.png, 981 files out of an estimated total of 983\n",
      "Uploading imagessentiment/surprise/S138_004_00000012.png\n",
      "Uploaded imagessentiment/surprise/S138_004_00000012.png, 982 files out of an estimated total of 983\n",
      "Uploading imagessentiment/surprise/S138_004_00000013.png\n",
      "Uploaded imagessentiment/surprise/S138_004_00000013.png, 983 files out of an estimated total of 983\n",
      "Uploaded 983 files\n"
     ]
    },
    {
     "data": {
      "text/plain": [
       "$AZUREML_DATAREFERENCE_6135cde18cc7497aab8ce7586b06eed4"
      ]
     },
     "execution_count": 31,
     "metadata": {},
     "output_type": "execute_result"
    }
   ],
   "source": [
    "# Retrieving default datastore that got automatically created when we setup a workspace\n",
    "ds = ws.get_default_datastore()\n",
    "ds.upload(src_dir='imagessentiment/', target_path='imagessentiment/')"
   ]
  },
  {
   "cell_type": "code",
   "execution_count": 32,
   "metadata": {},
   "outputs": [
    {
     "data": {
      "text/plain": [
       "{\n",
       "  \"name\": \"workspaceblobstore\",\n",
       "  \"container_name\": \"azureml-blobstore-35b5972d-bf00-4fce-9a9c-e87051db5dc3\",\n",
       "  \"account_name\": \"automlvision2130847930\",\n",
       "  \"protocol\": \"https\",\n",
       "  \"endpoint\": \"core.windows.net\"\n",
       "}"
      ]
     },
     "execution_count": 32,
     "metadata": {},
     "output_type": "execute_result"
    }
   ],
   "source": [
    "ds"
   ]
  },
  {
   "cell_type": "markdown",
   "metadata": {},
   "source": [
    "Finally, we need to create an Azure ML [Dataset](https://docs.microsoft.com/en-us/azure/machine-learning/concept-azure-machine-learning-architecture#datasets-and-datastores) from the data we uploaded to the Datastore. We create one dataset for training and one for validation."
   ]
  },
  {
   "cell_type": "code",
   "execution_count": 33,
   "metadata": {},
   "outputs": [
    {
     "name": "stdout",
     "output_type": "stream",
     "text": [
      "Found the training dataset sentimentimagesTrainingDataset\n",
      "\n",
      "Training dataset name:sentimentimagesTrainingDataset\n",
      "Validation dataset name:sentimentimagesValidationDataset\n"
     ]
    }
   ],
   "source": [
    "from azureml.contrib.dataset.labeled_dataset import _LabeledDatasetFactory, LabeledDatasetTask\n",
    "from azureml.core import Dataset\n",
    "\n",
    "training_dataset_name = 'sentimentimagesTrainingDataset'\n",
    "if training_dataset_name in ws.datasets:\n",
    "    training_dataset = ws.datasets.get(training_dataset_name)\n",
    "    print('Found the training dataset', training_dataset_name)\n",
    "else:\n",
    "    # create training dataset\n",
    "    training_dataset = _LabeledDatasetFactory.from_json_lines(\n",
    "        task=LabeledDatasetTask.IMAGE_CLASSIFICATION, path=ds.path('imagessentiment/train_annotations.jsonl'))\n",
    "    training_dataset = training_dataset.register(workspace=ws, name=training_dataset_name)\n",
    "    \n",
    "# create validation dataset\n",
    "validation_dataset_name = \"sentimentimagesValidationDataset\"\n",
    "if validation_dataset_name in ws.datasets:\n",
    "    validation_dataset = ws.datasets.get(validation_dataset_name)\n",
    "    print('Found the validation dataset', validation_dataset_name)\n",
    "else:\n",
    "    validation_dataset = _LabeledDatasetFactory.from_json_lines(\n",
    "        task=LabeledDatasetTask.IMAGE_CLASSIFICATION, path=ds.path('imagessentiment/validation_annotations.jsonl'))\n",
    "    validation_dataset = validation_dataset.register(workspace=ws, name=validation_dataset_name)\n",
    "\n",
    "print()\n",
    "print(\"Training dataset name:\" + training_dataset.name)\n",
    "print(\"Validation dataset name:\" + validation_dataset.name)"
   ]
  },
  {
   "cell_type": "markdown",
   "metadata": {},
   "source": [
    "Validation dataset is optional. If no validation dataset is specified, by default 20% of your training data will be used for validation. You can control the percentage using the `split_ratio` argument - please refer to the documentation for more details.\n",
    "\n",
    "This is what the training dataset looks like"
   ]
  },
  {
   "cell_type": "code",
   "execution_count": 34,
   "metadata": {},
   "outputs": [],
   "source": [
    "images=training_dataset.to_pandas_dataframe()"
   ]
  },
  {
   "cell_type": "code",
   "execution_count": 35,
   "metadata": {},
   "outputs": [
    {
     "data": {
      "text/html": [
       "<div>\n",
       "<style scoped>\n",
       "    .dataframe tbody tr th:only-of-type {\n",
       "        vertical-align: middle;\n",
       "    }\n",
       "\n",
       "    .dataframe tbody tr th {\n",
       "        vertical-align: top;\n",
       "    }\n",
       "\n",
       "    .dataframe thead th {\n",
       "        text-align: right;\n",
       "    }\n",
       "</style>\n",
       "<table border=\"1\" class=\"dataframe\">\n",
       "  <thead>\n",
       "    <tr style=\"text-align: right;\">\n",
       "      <th></th>\n",
       "      <th>image_url</th>\n",
       "      <th>label</th>\n",
       "      <th>label_confidence</th>\n",
       "    </tr>\n",
       "  </thead>\n",
       "  <tbody>\n",
       "    <tr>\n",
       "      <th>0</th>\n",
       "      <td>StreamInfo(AmlDatastore://imagessentiment/ange...</td>\n",
       "      <td>anger</td>\n",
       "      <td>1.0</td>\n",
       "    </tr>\n",
       "    <tr>\n",
       "      <th>1</th>\n",
       "      <td>StreamInfo(AmlDatastore://imagessentiment/ange...</td>\n",
       "      <td>anger</td>\n",
       "      <td>1.0</td>\n",
       "    </tr>\n",
       "    <tr>\n",
       "      <th>2</th>\n",
       "      <td>StreamInfo(AmlDatastore://imagessentiment/ange...</td>\n",
       "      <td>anger</td>\n",
       "      <td>1.0</td>\n",
       "    </tr>\n",
       "    <tr>\n",
       "      <th>3</th>\n",
       "      <td>StreamInfo(AmlDatastore://imagessentiment/ange...</td>\n",
       "      <td>anger</td>\n",
       "      <td>1.0</td>\n",
       "    </tr>\n",
       "    <tr>\n",
       "      <th>4</th>\n",
       "      <td>StreamInfo(AmlDatastore://imagessentiment/ange...</td>\n",
       "      <td>anger</td>\n",
       "      <td>1.0</td>\n",
       "    </tr>\n",
       "    <tr>\n",
       "      <th>5</th>\n",
       "      <td>StreamInfo(AmlDatastore://imagessentiment/ange...</td>\n",
       "      <td>anger</td>\n",
       "      <td>1.0</td>\n",
       "    </tr>\n",
       "    <tr>\n",
       "      <th>6</th>\n",
       "      <td>StreamInfo(AmlDatastore://imagessentiment/ange...</td>\n",
       "      <td>anger</td>\n",
       "      <td>1.0</td>\n",
       "    </tr>\n",
       "    <tr>\n",
       "      <th>7</th>\n",
       "      <td>StreamInfo(AmlDatastore://imagessentiment/ange...</td>\n",
       "      <td>anger</td>\n",
       "      <td>1.0</td>\n",
       "    </tr>\n",
       "    <tr>\n",
       "      <th>8</th>\n",
       "      <td>StreamInfo(AmlDatastore://imagessentiment/ange...</td>\n",
       "      <td>anger</td>\n",
       "      <td>1.0</td>\n",
       "    </tr>\n",
       "    <tr>\n",
       "      <th>9</th>\n",
       "      <td>StreamInfo(AmlDatastore://imagessentiment/ange...</td>\n",
       "      <td>anger</td>\n",
       "      <td>1.0</td>\n",
       "    </tr>\n",
       "  </tbody>\n",
       "</table>\n",
       "</div>"
      ],
      "text/plain": [
       "                                           image_url  label  label_confidence\n",
       "0  StreamInfo(AmlDatastore://imagessentiment/ange...  anger               1.0\n",
       "1  StreamInfo(AmlDatastore://imagessentiment/ange...  anger               1.0\n",
       "2  StreamInfo(AmlDatastore://imagessentiment/ange...  anger               1.0\n",
       "3  StreamInfo(AmlDatastore://imagessentiment/ange...  anger               1.0\n",
       "4  StreamInfo(AmlDatastore://imagessentiment/ange...  anger               1.0\n",
       "5  StreamInfo(AmlDatastore://imagessentiment/ange...  anger               1.0\n",
       "6  StreamInfo(AmlDatastore://imagessentiment/ange...  anger               1.0\n",
       "7  StreamInfo(AmlDatastore://imagessentiment/ange...  anger               1.0\n",
       "8  StreamInfo(AmlDatastore://imagessentiment/ange...  anger               1.0\n",
       "9  StreamInfo(AmlDatastore://imagessentiment/ange...  anger               1.0"
      ]
     },
     "execution_count": 35,
     "metadata": {},
     "output_type": "execute_result"
    }
   ],
   "source": [
    "images.head(10)"
   ]
  },
  {
   "cell_type": "code",
   "execution_count": 36,
   "metadata": {},
   "outputs": [
    {
     "data": {
      "text/plain": [
       "(784, 3)"
      ]
     },
     "execution_count": 36,
     "metadata": {},
     "output_type": "execute_result"
    }
   ],
   "source": [
    "images.shape"
   ]
  },
  {
   "cell_type": "code",
   "execution_count": 37,
   "metadata": {},
   "outputs": [
    {
     "data": {
      "text/plain": [
       "surprise    199\n",
       "happy       166\n",
       "disgust     141\n",
       "anger       108\n",
       "sadness      67\n",
       "fear         60\n",
       "contempt     43\n",
       "Name: label, dtype: int64"
      ]
     },
     "execution_count": 37,
     "metadata": {},
     "output_type": "execute_result"
    }
   ],
   "source": [
    "images['label'].value_counts()"
   ]
  },
  {
   "cell_type": "code",
   "execution_count": 38,
   "metadata": {},
   "outputs": [
    {
     "data": {
      "text/plain": [
       "surprise    0.253827\n",
       "happy       0.211735\n",
       "disgust     0.179847\n",
       "anger       0.137755\n",
       "sadness     0.085459\n",
       "fear        0.076531\n",
       "contempt    0.054847\n",
       "Name: label, dtype: float64"
      ]
     },
     "execution_count": 38,
     "metadata": {},
     "output_type": "execute_result"
    }
   ],
   "source": [
    "# Percentage values\n",
    "images['label'].value_counts(normalize=True)"
   ]
  },
  {
   "cell_type": "markdown",
   "metadata": {},
   "source": [
    "## 6. Configuring your AutoML run for image tasks\n",
    "AutoML allows you to easily train models for Image Classification, Object Detection & Instance Segmentation on your image data. You can control the model algorithm to be used, specify hyperparameter values for your model as well as perform a sweep across the hyperparameter space to generate an optimal model. Parameters for configuring your AutoML runs for image related tasks are specified using the 'AutoMLImageConfig' - please refer to the [documentation](https://github.com/swatig007/automlForImages#readme) for the details on the parameters that can be used and their values. "
   ]
  },
  {
   "cell_type": "markdown",
   "metadata": {},
   "source": [
    "When using AutoML for image tasks, you need to specify the model algorithms using the `model_name` parameter. You can either specify a single model or choose to sweep over multiple ones.<br><br> **Currently supported model algorithms for image classification: 'resnet18', 'resnet34', 'resnet50', 'mobilenetv2', 'seresnext'.**\n",
    "\n",
    "### Using default hyperparameter values for the specified algorithm\n",
    "\n",
    "Before doing a large sweep to search for the optimal models and hyperparameters, we recommend trying the default values to get a first baseline. Next, you can explore multiple hyperparameters for the same model before sweeping over multiple models and their parameters. This is for employing a more iterative approach, because with multiple models and multiple hyperparameters for each (as we showcase in the next section), the search space grows exponentially and you need more iterations to find optimal configurations.\n",
    "\n",
    "If you wish to use the default hyperparameter values for a given algorithm (say **resnet50**), you can specify the config for your AutoML Image runs as follows:"
   ]
  },
  {
   "cell_type": "code",
   "execution_count": 39,
   "metadata": {},
   "outputs": [],
   "source": [
    "from azureml.train.automl import AutoMLImageConfig\n",
    "from azureml.train.hyperdrive import RandomParameterSampling\n",
    "from azureml.train.hyperdrive import GridParameterSampling\n",
    "from azureml.train.hyperdrive import choice"
   ]
  },
  {
   "cell_type": "code",
   "execution_count": 40,
   "metadata": {},
   "outputs": [],
   "source": [
    "# AutoML Configuration\n",
    "image_config_resnet34 = AutoMLImageConfig(task='image-classification', # AutoML Vision task\n",
    "                                          compute_target=compute_target, # Compute target\n",
    "                                          training_data=training_dataset, # Training dataset\n",
    "                                          validation_data=validation_dataset, # Validation dataset\n",
    "                                          hyperparameter_sampling=GridParameterSampling({'model_name': \n",
    "                                                                                        choice('resnet34')})) # CV Model"
   ]
  },
  {
   "cell_type": "markdown",
   "metadata": {},
   "source": [
    "## 7. Submitting an AutoML run for Computer Vision tasks \n",
    "Once you've created the config settings for your run, **you can submit an AutoML run** using the config in order to train a vision model using your training dataset."
   ]
  },
  {
   "cell_type": "code",
   "execution_count": 41,
   "metadata": {},
   "outputs": [
    {
     "name": "stdout",
     "output_type": "stream",
     "text": [
      "Submitting remote run.\n"
     ]
    },
    {
     "data": {
      "text/html": [
       "<table style=\"width:100%\"><tr><th>Experiment</th><th>Id</th><th>Type</th><th>Status</th><th>Details Page</th><th>Docs Page</th></tr><tr><td>AutomlImages-Sentiment</td><td>AutoML_9af64236-8922-4551-b172-5bf3d3a5b282</td><td>automl</td><td>NotStarted</td><td><a href=\"https://ml.azure.com/runs/AutoML_9af64236-8922-4551-b172-5bf3d3a5b282?wsid=/subscriptions/70b8f39e-8863-49f7-b6ba-34a80799550c/resourcegroups/automlvision-rg/workspaces/automlvision&amp;tid=72f988bf-86f1-41af-91ab-2d7cd011db47\" target=\"_blank\" rel=\"noopener\">Link to Azure Machine Learning studio</a></td><td><a href=\"https://docs.microsoft.com/en-us/python/api/overview/azure/ml/intro?view=azure-ml-py\" target=\"_blank\" rel=\"noopener\">Link to Documentation</a></td></tr></table>"
      ],
      "text/plain": [
       "<IPython.core.display.HTML object>"
      ]
     },
     "metadata": {},
     "output_type": "display_data"
    }
   ],
   "source": [
    "automl_image_run = experiment.submit(image_config_resnet34)"
   ]
  },
  {
   "cell_type": "code",
   "execution_count": 42,
   "metadata": {},
   "outputs": [
    {
     "data": {
      "text/plain": [
       "{'runId': 'AutoML_9af64236-8922-4551-b172-5bf3d3a5b282',\n",
       " 'target': 'gpu-sentiments',\n",
       " 'status': 'Completed',\n",
       " 'startTimeUtc': '2021-05-06T21:54:13.384965Z',\n",
       " 'endTimeUtc': '2021-05-06T22:04:52.44211Z',\n",
       " 'properties': {'num_iterations': '1',\n",
       "  'training_type': 'TrainFull',\n",
       "  'acquisition_function': 'EI',\n",
       "  'primary_metric': 'accuracy',\n",
       "  'train_split': '0',\n",
       "  'acquisition_parameter': '0',\n",
       "  'num_cross_validation': None,\n",
       "  'target': 'gpu-sentiments',\n",
       "  'AMLSettingsJsonString': '{\"path\":null,\"name\":\"AutomlImages-Sentiment\",\"subscription_id\":\"70b8f39e-8863-49f7-b6ba-34a80799550c\",\"resource_group\":\"automlvision-rg\",\"workspace_name\":\"automlvision\",\"region\":\"westeurope\",\"compute_target\":\"gpu-sentiments\",\"spark_service\":null,\"azure_service\":\"remote\",\"many_models\":false,\"pipeline_fetch_max_batch_size\":1,\"enable_batch_run\":false,\"enable_run_restructure\":false,\"start_auxiliary_runs_before_parent_complete\":false,\"iterations\":1,\"primary_metric\":\"accuracy\",\"task_type\":\"image-classification\",\"data_script\":null,\"test_size\":0.0,\"validation_size\":0.0,\"n_cross_validations\":null,\"y_min\":null,\"y_max\":null,\"num_classes\":null,\"featurization\":\"off\",\"_ignore_package_version_incompatibilities\":false,\"is_timeseries\":false,\"max_cores_per_iteration\":1,\"max_concurrent_iterations\":1,\"iteration_timeout_minutes\":null,\"mem_in_mb\":null,\"enforce_time_on_windows\":false,\"experiment_timeout_minutes\":8640,\"experiment_exit_score\":null,\"whitelist_models\":null,\"blacklist_algos\":[\"TensorFlowDNN\",\"TensorFlowLinearRegressor\"],\"supported_models\":[],\"private_models\":[],\"auto_blacklist\":true,\"blacklist_samples_reached\":false,\"exclude_nan_labels\":true,\"verbosity\":20,\"_debug_log\":\"azureml_automl.log\",\"show_warnings\":false,\"model_explainability\":true,\"service_url\":null,\"sdk_url\":null,\"sdk_packages\":null,\"enable_onnx_compatible_models\":false,\"enable_split_onnx_featurizer_estimator_models\":false,\"vm_type\":\"STANDARD_NC6\",\"telemetry_verbosity\":20,\"send_telemetry\":true,\"enable_dnn\":true,\"scenario\":\"Vision\",\"environment_label\":null,\"save_mlflow\":false,\"force_text_dnn\":false,\"enable_feature_sweeping\":true,\"enable_early_stopping\":false,\"early_stopping_n_iters\":10,\"arguments\":null,\"dataset_id\":\"f9a72a03-3071-498b-bb98-5fec379c48bd\",\"hyperdrive_config\":{\"max_total_jobs\":1,\"max_concurrent_jobs\":1,\"generator_config\":{\"name\":\"GRID\",\"parameter_space\":\"{\\\\\"model_name\\\\\": [\\\\\"choice\\\\\", [[\\\\\"resnet34\\\\\"]]]}\",\"properties\":null},\"policy_config\":null},\"validation_dataset_id\":\"210ba2e6-9e3e-4310-a057-2b43bb2cd679\",\"metrics\":null,\"enable_metric_confidence\":false,\"enable_ensembling\":false,\"enable_stack_ensembling\":false,\"ensemble_iterations\":null,\"enable_tf\":false,\"enable_subsampling\":false,\"subsample_seed\":null,\"enable_nimbusml\":false,\"enable_streaming\":false,\"force_streaming\":false,\"track_child_runs\":true,\"allowed_private_models\":[],\"label_column_name\":\"label\",\"weight_column_name\":null,\"cv_split_column_names\":null,\"enable_local_managed\":false,\"_local_managed_run_id\":null,\"cost_mode\":1,\"lag_length\":0,\"metric_operation\":\"maximize\",\"preprocess\":false}',\n",
       "  'DataPrepJsonString': '{\\\\\"training_data\\\\\": {\\\\\"datasetId\\\\\": \\\\\"f9a72a03-3071-498b-bb98-5fec379c48bd\\\\\"}, \\\\\"validation_data\\\\\": {\\\\\"datasetId\\\\\": \\\\\"210ba2e6-9e3e-4310-a057-2b43bb2cd679\\\\\"}, \\\\\"datasets\\\\\": 0}',\n",
       "  'EnableSubsampling': 'False',\n",
       "  'runTemplate': 'AutoML',\n",
       "  'azureml.runsource': 'automl',\n",
       "  'display_task_type': 'image-classification',\n",
       "  'dependencies_versions': '{\"azureml-widgets\": \"1.26.0\", \"azureml-train\": \"1.26.0\", \"azureml-train-restclients-hyperdrive\": \"0.1.0.36312295\", \"azureml-train-core\": \"0.1.0.36312295\", \"azureml-train-automl\": \"0.1.0.36312295\", \"azureml-train-automl-runtime\": \"0.1.0.36312295\", \"azureml-train-automl-client\": \"0.1.0.36312295\", \"azureml-tensorboard\": \"1.26.0\", \"azureml-telemetry\": \"0.1.0.36312295\", \"azureml-sdk\": \"1.26.0\", \"azureml-samples\": \"0+unknown\", \"azureml-pipeline\": \"1.26.0\", \"azureml-pipeline-steps\": \"1.26.0\", \"azureml-pipeline-core\": \"1.26.0\", \"azureml-opendatasets\": \"1.26.0\", \"azureml-model-management-sdk\": \"1.0.1b6.post1\", \"azureml-mlflow\": \"1.26.0\", \"azureml-interpret\": \"0.1.0.36312295\", \"azureml-explain-model\": \"1.26.0\", \"azureml-defaults\": \"0.1.0.36312295\", \"azureml-dataset-runtime\": \"0.1.0.36312295\", \"azureml-dataprep\": \"2.14.2\", \"azureml-dataprep-rslex\": \"1.12.1\", \"azureml-dataprep-native\": \"33.0.0\", \"azureml-datadrift\": \"1.26.0\", \"azureml-core\": \"0.1.0.36312295\", \"azureml-contrib-services\": \"1.26.0\", \"azureml-contrib-server\": \"1.26.0\", \"azureml-contrib-reinforcementlearning\": \"1.26.0\", \"azureml-contrib-pipeline-steps\": \"1.26.0\", \"azureml-contrib-notebook\": \"1.26.0\", \"azureml-contrib-gbdt\": \"1.26.0\", \"azureml-contrib-fairness\": \"1.26.0\", \"azureml-contrib-dataset\": \"0.1.0.36312295\", \"azureml-cli-common\": \"1.26.0\", \"azureml-automl-runtime\": \"0.1.0.36312295\", \"azureml-automl-dnn-nlp\": \"1.26.0\", \"azureml-automl-core\": \"0.1.0.36312295\", \"azureml-accel-models\": \"1.26.0\"}',\n",
       "  '_aml_system_scenario_identification': 'Remote.Parent',\n",
       "  'ClientType': 'SDK',\n",
       "  'environment_cpu_name': 'AzureML-AutoML-DNN-Vision-GPU',\n",
       "  'environment_cpu_label': 'Latest',\n",
       "  'environment_gpu_name': 'AzureML-AutoML-DNN-Vision-GPU',\n",
       "  'environment_gpu_label': 'Latest',\n",
       "  'root_attribution': 'automl',\n",
       "  'attribution': 'AutoML',\n",
       "  'Orchestrator': 'AutoML',\n",
       "  'CancelUri': 'https://westeurope.api.azureml.ms/jasmine/v1.0/subscriptions/70b8f39e-8863-49f7-b6ba-34a80799550c/resourceGroups/automlvision-rg/providers/Microsoft.MachineLearningServices/workspaces/automlvision/experimentids/050f8ae3-4b42-4224-8ba0-c34d52e7b652/cancel/AutoML_9af64236-8922-4551-b172-5bf3d3a5b282',\n",
       "  'ClientSdkVersion': '1.27.0.post1',\n",
       "  'snapshotId': '00000000-0000-0000-0000-000000000000'},\n",
       " 'inputDatasets': [{'dataset': {'id': 'f9a72a03-3071-498b-bb98-5fec379c48bd'}, 'consumptionDetails': {'type': 'RunInput', 'inputName': 'training_data', 'mechanism': 'Direct'}}, {'dataset': {'id': '210ba2e6-9e3e-4310-a057-2b43bb2cd679'}, 'consumptionDetails': {'type': 'RunInput', 'inputName': 'validation_data', 'mechanism': 'Direct'}}],\n",
       " 'outputDatasets': [],\n",
       " 'logFiles': {},\n",
       " 'submittedBy': 'Serge Retkowsky'}"
      ]
     },
     "execution_count": 42,
     "metadata": {},
     "output_type": "execute_result"
    }
   ],
   "source": [
    "automl_image_run.wait_for_completion(wait_post_processing=True) # Wait until automl run is finished"
   ]
  },
  {
   "cell_type": "code",
   "execution_count": 43,
   "metadata": {},
   "outputs": [
    {
     "data": {
      "text/plain": [
       "'AutoML_9af64236-8922-4551-b172-5bf3d3a5b282'"
      ]
     },
     "execution_count": 43,
     "metadata": {},
     "output_type": "execute_result"
    }
   ],
   "source": [
    "automl_image_run.id"
   ]
  },
  {
   "cell_type": "code",
   "execution_count": 44,
   "metadata": {},
   "outputs": [
    {
     "data": {
      "text/html": [
       "<table style=\"width:100%\"><tr><th>Name</th><th>Workspace</th><th>Report Page</th><th>Docs Page</th></tr><tr><td>AutomlImages-Sentiment</td><td>automlvision</td><td><a href=\"https://ml.azure.com/experiments/id/050f8ae3-4b42-4224-8ba0-c34d52e7b652?wsid=/subscriptions/70b8f39e-8863-49f7-b6ba-34a80799550c/resourcegroups/automlvision-rg/workspaces/automlvision&amp;tid=72f988bf-86f1-41af-91ab-2d7cd011db47\" target=\"_blank\" rel=\"noopener\">Link to Azure Machine Learning studio</a></td><td><a href=\"https://docs.microsoft.com/en-us/python/api/azureml-core/azureml.core.experiment.Experiment?view=azure-ml-py\" target=\"_blank\" rel=\"noopener\">Link to Documentation</a></td></tr></table>"
      ],
      "text/plain": [
       "Experiment(Name: AutomlImages-Sentiment,\n",
       "Workspace: automlvision)"
      ]
     },
     "execution_count": 44,
     "metadata": {},
     "output_type": "execute_result"
    }
   ],
   "source": [
    "experiment"
   ]
  },
  {
   "cell_type": "code",
   "execution_count": 45,
   "metadata": {},
   "outputs": [
    {
     "data": {
      "text/html": [
       "<div>\n",
       "<style scoped>\n",
       "    .dataframe tbody tr th:only-of-type {\n",
       "        vertical-align: middle;\n",
       "    }\n",
       "\n",
       "    .dataframe tbody tr th {\n",
       "        vertical-align: top;\n",
       "    }\n",
       "\n",
       "    .dataframe thead th {\n",
       "        text-align: right;\n",
       "    }\n",
       "</style>\n",
       "<table border=\"1\" class=\"dataframe\">\n",
       "  <thead>\n",
       "    <tr style=\"text-align: right;\">\n",
       "      <th></th>\n",
       "      <th>average_class_recall</th>\n",
       "      <th>average_class_f2_score</th>\n",
       "      <th>recall</th>\n",
       "      <th>iou</th>\n",
       "      <th>precision</th>\n",
       "      <th>average_sample_f1_score</th>\n",
       "      <th>average_sample_f2_score</th>\n",
       "      <th>average_class_f1_score</th>\n",
       "      <th>average_class_precision</th>\n",
       "      <th>accuracy</th>\n",
       "    </tr>\n",
       "  </thead>\n",
       "  <tbody>\n",
       "    <tr>\n",
       "      <th>0</th>\n",
       "      <td>14.571</td>\n",
       "      <td>8.490</td>\n",
       "      <td>14.571</td>\n",
       "      <td>21.320</td>\n",
       "      <td>17.274</td>\n",
       "      <td>21.320</td>\n",
       "      <td>21.320</td>\n",
       "      <td>5.503</td>\n",
       "      <td>17.274</td>\n",
       "      <td>21.320</td>\n",
       "    </tr>\n",
       "    <tr>\n",
       "      <th>1</th>\n",
       "      <td>31.415</td>\n",
       "      <td>27.343</td>\n",
       "      <td>31.415</td>\n",
       "      <td>46.701</td>\n",
       "      <td>26.138</td>\n",
       "      <td>46.701</td>\n",
       "      <td>46.701</td>\n",
       "      <td>25.379</td>\n",
       "      <td>26.138</td>\n",
       "      <td>46.701</td>\n",
       "    </tr>\n",
       "    <tr>\n",
       "      <th>2</th>\n",
       "      <td>29.219</td>\n",
       "      <td>25.583</td>\n",
       "      <td>29.219</td>\n",
       "      <td>44.162</td>\n",
       "      <td>35.166</td>\n",
       "      <td>44.162</td>\n",
       "      <td>44.162</td>\n",
       "      <td>25.016</td>\n",
       "      <td>35.166</td>\n",
       "      <td>44.162</td>\n",
       "    </tr>\n",
       "    <tr>\n",
       "      <th>3</th>\n",
       "      <td>66.056</td>\n",
       "      <td>61.893</td>\n",
       "      <td>66.056</td>\n",
       "      <td>74.619</td>\n",
       "      <td>83.374</td>\n",
       "      <td>74.619</td>\n",
       "      <td>74.619</td>\n",
       "      <td>62.813</td>\n",
       "      <td>83.374</td>\n",
       "      <td>74.619</td>\n",
       "    </tr>\n",
       "    <tr>\n",
       "      <th>4</th>\n",
       "      <td>52.466</td>\n",
       "      <td>46.065</td>\n",
       "      <td>52.466</td>\n",
       "      <td>57.360</td>\n",
       "      <td>80.870</td>\n",
       "      <td>57.360</td>\n",
       "      <td>57.360</td>\n",
       "      <td>43.836</td>\n",
       "      <td>80.870</td>\n",
       "      <td>57.360</td>\n",
       "    </tr>\n",
       "    <tr>\n",
       "      <th>5</th>\n",
       "      <td>63.044</td>\n",
       "      <td>60.520</td>\n",
       "      <td>63.044</td>\n",
       "      <td>69.036</td>\n",
       "      <td>75.178</td>\n",
       "      <td>69.036</td>\n",
       "      <td>69.036</td>\n",
       "      <td>59.177</td>\n",
       "      <td>75.178</td>\n",
       "      <td>69.036</td>\n",
       "    </tr>\n",
       "    <tr>\n",
       "      <th>6</th>\n",
       "      <td>74.982</td>\n",
       "      <td>74.721</td>\n",
       "      <td>74.982</td>\n",
       "      <td>85.787</td>\n",
       "      <td>83.668</td>\n",
       "      <td>85.787</td>\n",
       "      <td>85.787</td>\n",
       "      <td>75.785</td>\n",
       "      <td>83.668</td>\n",
       "      <td>85.787</td>\n",
       "    </tr>\n",
       "    <tr>\n",
       "      <th>7</th>\n",
       "      <td>89.916</td>\n",
       "      <td>89.667</td>\n",
       "      <td>89.916</td>\n",
       "      <td>92.386</td>\n",
       "      <td>91.135</td>\n",
       "      <td>92.386</td>\n",
       "      <td>92.386</td>\n",
       "      <td>89.707</td>\n",
       "      <td>91.135</td>\n",
       "      <td>92.386</td>\n",
       "    </tr>\n",
       "    <tr>\n",
       "      <th>8</th>\n",
       "      <td>48.226</td>\n",
       "      <td>45.093</td>\n",
       "      <td>48.226</td>\n",
       "      <td>56.853</td>\n",
       "      <td>72.282</td>\n",
       "      <td>56.853</td>\n",
       "      <td>56.853</td>\n",
       "      <td>46.664</td>\n",
       "      <td>72.282</td>\n",
       "      <td>56.853</td>\n",
       "    </tr>\n",
       "    <tr>\n",
       "      <th>9</th>\n",
       "      <td>79.950</td>\n",
       "      <td>77.030</td>\n",
       "      <td>79.950</td>\n",
       "      <td>81.726</td>\n",
       "      <td>88.285</td>\n",
       "      <td>81.726</td>\n",
       "      <td>81.726</td>\n",
       "      <td>75.922</td>\n",
       "      <td>88.285</td>\n",
       "      <td>81.726</td>\n",
       "    </tr>\n",
       "    <tr>\n",
       "      <th>10</th>\n",
       "      <td>83.489</td>\n",
       "      <td>82.579</td>\n",
       "      <td>83.489</td>\n",
       "      <td>88.325</td>\n",
       "      <td>89.797</td>\n",
       "      <td>88.325</td>\n",
       "      <td>88.325</td>\n",
       "      <td>82.063</td>\n",
       "      <td>89.797</td>\n",
       "      <td>88.325</td>\n",
       "    </tr>\n",
       "    <tr>\n",
       "      <th>11</th>\n",
       "      <td>86.277</td>\n",
       "      <td>86.777</td>\n",
       "      <td>86.277</td>\n",
       "      <td>91.878</td>\n",
       "      <td>91.476</td>\n",
       "      <td>91.878</td>\n",
       "      <td>91.878</td>\n",
       "      <td>87.956</td>\n",
       "      <td>91.476</td>\n",
       "      <td>91.878</td>\n",
       "    </tr>\n",
       "    <tr>\n",
       "      <th>12</th>\n",
       "      <td>95.459</td>\n",
       "      <td>95.187</td>\n",
       "      <td>95.459</td>\n",
       "      <td>96.447</td>\n",
       "      <td>94.705</td>\n",
       "      <td>96.447</td>\n",
       "      <td>96.447</td>\n",
       "      <td>94.901</td>\n",
       "      <td>94.705</td>\n",
       "      <td>96.447</td>\n",
       "    </tr>\n",
       "    <tr>\n",
       "      <th>13</th>\n",
       "      <td>95.173</td>\n",
       "      <td>94.813</td>\n",
       "      <td>95.173</td>\n",
       "      <td>95.939</td>\n",
       "      <td>94.210</td>\n",
       "      <td>95.939</td>\n",
       "      <td>95.939</td>\n",
       "      <td>94.445</td>\n",
       "      <td>94.210</td>\n",
       "      <td>95.939</td>\n",
       "    </tr>\n",
       "    <tr>\n",
       "      <th>14</th>\n",
       "      <td>95.173</td>\n",
       "      <td>94.813</td>\n",
       "      <td>95.173</td>\n",
       "      <td>95.939</td>\n",
       "      <td>94.210</td>\n",
       "      <td>95.939</td>\n",
       "      <td>95.939</td>\n",
       "      <td>94.445</td>\n",
       "      <td>94.210</td>\n",
       "      <td>95.939</td>\n",
       "    </tr>\n",
       "  </tbody>\n",
       "</table>\n",
       "</div>"
      ],
      "text/plain": [
       "    average_class_recall  average_class_f2_score  recall     iou  precision  \\\n",
       "0                 14.571                   8.490  14.571  21.320     17.274   \n",
       "1                 31.415                  27.343  31.415  46.701     26.138   \n",
       "2                 29.219                  25.583  29.219  44.162     35.166   \n",
       "3                 66.056                  61.893  66.056  74.619     83.374   \n",
       "4                 52.466                  46.065  52.466  57.360     80.870   \n",
       "5                 63.044                  60.520  63.044  69.036     75.178   \n",
       "6                 74.982                  74.721  74.982  85.787     83.668   \n",
       "7                 89.916                  89.667  89.916  92.386     91.135   \n",
       "8                 48.226                  45.093  48.226  56.853     72.282   \n",
       "9                 79.950                  77.030  79.950  81.726     88.285   \n",
       "10                83.489                  82.579  83.489  88.325     89.797   \n",
       "11                86.277                  86.777  86.277  91.878     91.476   \n",
       "12                95.459                  95.187  95.459  96.447     94.705   \n",
       "13                95.173                  94.813  95.173  95.939     94.210   \n",
       "14                95.173                  94.813  95.173  95.939     94.210   \n",
       "\n",
       "    average_sample_f1_score  average_sample_f2_score  average_class_f1_score  \\\n",
       "0                    21.320                   21.320                   5.503   \n",
       "1                    46.701                   46.701                  25.379   \n",
       "2                    44.162                   44.162                  25.016   \n",
       "3                    74.619                   74.619                  62.813   \n",
       "4                    57.360                   57.360                  43.836   \n",
       "5                    69.036                   69.036                  59.177   \n",
       "6                    85.787                   85.787                  75.785   \n",
       "7                    92.386                   92.386                  89.707   \n",
       "8                    56.853                   56.853                  46.664   \n",
       "9                    81.726                   81.726                  75.922   \n",
       "10                   88.325                   88.325                  82.063   \n",
       "11                   91.878                   91.878                  87.956   \n",
       "12                   96.447                   96.447                  94.901   \n",
       "13                   95.939                   95.939                  94.445   \n",
       "14                   95.939                   95.939                  94.445   \n",
       "\n",
       "    average_class_precision  accuracy  \n",
       "0                    17.274    21.320  \n",
       "1                    26.138    46.701  \n",
       "2                    35.166    44.162  \n",
       "3                    83.374    74.619  \n",
       "4                    80.870    57.360  \n",
       "5                    75.178    69.036  \n",
       "6                    83.668    85.787  \n",
       "7                    91.135    92.386  \n",
       "8                    72.282    56.853  \n",
       "9                    88.285    81.726  \n",
       "10                   89.797    88.325  \n",
       "11                   91.476    91.878  \n",
       "12                   94.705    96.447  \n",
       "13                   94.210    95.939  \n",
       "14                   94.210    95.939  "
      ]
     },
     "execution_count": 45,
     "metadata": {},
     "output_type": "execute_result"
    }
   ],
   "source": [
    "# List of all the AutoML for Images metrics values\n",
    "automlvisionmetrics = automl_image_run.get_metrics()\n",
    "metricsdf=pd.DataFrame(automl_image_run.get_metrics()) # Convert to a pandas df\n",
    "metricsdf"
   ]
  },
  {
   "cell_type": "code",
   "execution_count": 46,
   "metadata": {},
   "outputs": [
    {
     "data": {
      "image/png": "[encoded data removed]",
      "text/plain": [
       "<Figure size 1080x504 with 1 Axes>"
      ]
     },
     "metadata": {
      "needs_background": "light"
     },
     "output_type": "display_data"
    }
   ],
   "source": [
    "# Let's plot the accuracy metric for the CV model, save the graph to a jpg file and log it to the Azure ML experiment\n",
    "%matplotlib inline\n",
    "import matplotlib.pyplot as plt\n",
    "\n",
    "plt.figure(figsize = (15,7))\n",
    "plt.plot(automlvisionmetrics['accuracy'], 'r-', lw=4, alpha=.6)\n",
    "plt.xlabel('iterations', fontsize=10)\n",
    "plt.ylabel('accuracy', fontsize=10)\n",
    "plt.title('resnet34 CV model accuracy', fontsize=12)\n",
    "\n",
    "plt.savefig('accuracy_resnet34.jpg', dpi=150) # Saving image in a jpg file\n",
    "automl_image_run.log_image(name='accuracy_resnet34.jpg', plot=plt) # Logging the graph into the Azure ML experiment\n",
    "\n",
    "plt.show()"
   ]
  },
  {
   "cell_type": "code",
   "execution_count": 47,
   "metadata": {},
   "outputs": [
    {
     "name": "stdout",
     "output_type": "stream",
     "text": [
      "-rwxrwxrwx 1 root root 107341 May  6 22:05 accuracy_resnet34.jpg\r\n"
     ]
    }
   ],
   "source": [
    "# Checking the output graph\n",
    "!ls accuracy_resnet34.jpg -l"
   ]
  },
  {
   "cell_type": "code",
   "execution_count": 48,
   "metadata": {},
   "outputs": [
    {
     "data": {
      "text/html": [
       "<table style=\"width:100%\"><tr><th>Name</th><th>Workspace</th><th>Report Page</th><th>Docs Page</th></tr><tr><td>AutomlImages-Sentiment</td><td>automlvision</td><td><a href=\"https://ml.azure.com/experiments/id/050f8ae3-4b42-4224-8ba0-c34d52e7b652?wsid=/subscriptions/70b8f39e-8863-49f7-b6ba-34a80799550c/resourcegroups/automlvision-rg/workspaces/automlvision&amp;tid=72f988bf-86f1-41af-91ab-2d7cd011db47\" target=\"_blank\" rel=\"noopener\">Link to Azure Machine Learning studio</a></td><td><a href=\"https://docs.microsoft.com/en-us/python/api/azureml-core/azureml.core.experiment.Experiment?view=azure-ml-py\" target=\"_blank\" rel=\"noopener\">Link to Documentation</a></td></tr></table>"
      ],
      "text/plain": [
       "Experiment(Name: AutomlImages-Sentiment,\n",
       "Workspace: automlvision)"
      ]
     },
     "execution_count": 48,
     "metadata": {},
     "output_type": "execute_result"
    }
   ],
   "source": [
    "# You can view the jpg file in the experiment\n",
    "experiment"
   ]
  },
  {
   "cell_type": "markdown",
   "metadata": {},
   "source": [
    "## Let's improve using additionals models & hyperparameter tuning"
   ]
  },
  {
   "cell_type": "markdown",
   "metadata": {},
   "source": [
    "### Hyperparameter sweeping for your AutoML models for computer vision tasks\n",
    "\n",
    "When using AutoML for Images, you can perform a hyperparameter sweep over a defined parameter space, to find the optimal model. In this example, we sweep over the hyperparameters for each algorithm, **choosing from a range of values for learning_rate, optimizer, lr_scheduler, etc, to generate a model with the optimal 'accuracy'.** If hyperparameter values are not specified, then default values are used for the specified algorithm.\n",
    "\n",
    "We use **Random Sampling to pick samples from this parameter space and try a total of 20 iterations** with these different samples, running 4 iterations at a time on our compute target, which has been previously set up using 4 nodes. Please note that the more parameters the space has, the more iterations you need to find optimal models.\n",
    "\n",
    "We also leverage the **Bandit early termination policy** that terminates poor performing configs (those that are not within 20% slack of the best perfroming config), thus significantly saving compute resources."
   ]
  },
  {
   "cell_type": "markdown",
   "metadata": {},
   "source": [
    "### List of model available for Image classification:\n",
    "Resnet18, Resnet34, Resnet50, Mobilenetv2, seresnext"
   ]
  },
  {
   "cell_type": "code",
   "execution_count": 49,
   "metadata": {},
   "outputs": [],
   "source": [
    "from azureml.train.automl import AutoMLImageConfig\n",
    "from azureml.train.hyperdrive import GridParameterSampling, RandomParameterSampling, BayesianParameterSampling\n",
    "from azureml.train.hyperdrive import BanditPolicy, HyperDriveConfig, PrimaryMetricGoal\n",
    "from azureml.train.hyperdrive import choice, uniform\n",
    "\n",
    "#Options for the parameter space\n",
    "parameter_space = {\n",
    "    'model': choice(\n",
    "        {\n",
    "            'model_name': choice('seresnext', 'resnet34'),\n",
    "            'learning_rate': uniform(0.0001, 0.01),\n",
    "            'optimizer': choice('sgd', 'adam'),\n",
    "            'layers_to_freeze': choice(0, 1, 2, 3),\n",
    "\n",
    "        },\n",
    "        {\n",
    "            'model_name': choice('seresnext'),\n",
    "            'resize_size': choice(288, 320, 352), # model-specific\n",
    "            'crop_size': choice(224, 256), # model-specific, crop_size should be smaller or equal than resize_size\n",
    "        }\n",
    "    )\n",
    "}\n",
    "\n",
    "#Options for the tuning part\n",
    "tuning_settings = {\n",
    "    'iterations': 4,\n",
    "    'max_concurrent_iterations': 4, \n",
    "    'hyperparameter_sampling': RandomParameterSampling(parameter_space),  \n",
    "    'policy': BanditPolicy(evaluation_interval=2, slack_factor=0.2, delay_evaluation=6) # Bandit strategy\n",
    "}\n",
    "\n",
    "#Configuration definition\n",
    "automl_image_config = AutoMLImageConfig(task='image-classification', # AutoML task\n",
    "                                        compute_target=compute_target, # Compute Target\n",
    "                                        training_data=training_dataset, # Training dataset\n",
    "                                        validation_data=validation_dataset, # Validation dataset\n",
    "                                        primary_metric='accuracy', # AutoML Metric\n",
    "                                        **tuning_settings)"
   ]
  },
  {
   "cell_type": "code",
   "execution_count": 50,
   "metadata": {},
   "outputs": [
    {
     "name": "stdout",
     "output_type": "stream",
     "text": [
      "Submitting remote run.\n"
     ]
    },
    {
     "data": {
      "text/html": [
       "<table style=\"width:100%\"><tr><th>Experiment</th><th>Id</th><th>Type</th><th>Status</th><th>Details Page</th><th>Docs Page</th></tr><tr><td>AutomlImages-Sentiment</td><td>AutoML_d63f3687-7322-457b-ab68-e53c08cdbcce</td><td>automl</td><td>NotStarted</td><td><a href=\"https://ml.azure.com/runs/AutoML_d63f3687-7322-457b-ab68-e53c08cdbcce?wsid=/subscriptions/70b8f39e-8863-49f7-b6ba-34a80799550c/resourcegroups/automlvision-rg/workspaces/automlvision&amp;tid=72f988bf-86f1-41af-91ab-2d7cd011db47\" target=\"_blank\" rel=\"noopener\">Link to Azure Machine Learning studio</a></td><td><a href=\"https://docs.microsoft.com/en-us/python/api/overview/azure/ml/intro?view=azure-ml-py\" target=\"_blank\" rel=\"noopener\">Link to Documentation</a></td></tr></table>"
      ],
      "text/plain": [
       "<IPython.core.display.HTML object>"
      ]
     },
     "metadata": {},
     "output_type": "display_data"
    }
   ],
   "source": [
    "automl_image_run = experiment.submit(automl_image_config)"
   ]
  },
  {
   "cell_type": "code",
   "execution_count": 51,
   "metadata": {},
   "outputs": [
    {
     "data": {
      "text/plain": [
       "{'runId': 'AutoML_d63f3687-7322-457b-ab68-e53c08cdbcce',\n",
       " 'target': 'gpu-sentiments',\n",
       " 'status': 'Completed',\n",
       " 'startTimeUtc': '2021-05-06T22:05:42.591568Z',\n",
       " 'endTimeUtc': '2021-05-06T22:22:26.789573Z',\n",
       " 'properties': {'num_iterations': '1',\n",
       "  'training_type': 'TrainFull',\n",
       "  'acquisition_function': 'EI',\n",
       "  'primary_metric': 'accuracy',\n",
       "  'train_split': '0',\n",
       "  'acquisition_parameter': '0',\n",
       "  'num_cross_validation': None,\n",
       "  'target': 'gpu-sentiments',\n",
       "  'AMLSettingsJsonString': '{\"path\":null,\"name\":\"AutomlImages-Sentiment\",\"subscription_id\":\"70b8f39e-8863-49f7-b6ba-34a80799550c\",\"resource_group\":\"automlvision-rg\",\"workspace_name\":\"automlvision\",\"region\":\"westeurope\",\"compute_target\":\"gpu-sentiments\",\"spark_service\":null,\"azure_service\":\"remote\",\"many_models\":false,\"pipeline_fetch_max_batch_size\":1,\"enable_batch_run\":false,\"enable_run_restructure\":false,\"start_auxiliary_runs_before_parent_complete\":false,\"iterations\":1,\"primary_metric\":\"accuracy\",\"task_type\":\"image-classification\",\"data_script\":null,\"test_size\":0.0,\"validation_size\":0.0,\"n_cross_validations\":null,\"y_min\":null,\"y_max\":null,\"num_classes\":null,\"featurization\":\"off\",\"_ignore_package_version_incompatibilities\":false,\"is_timeseries\":false,\"max_cores_per_iteration\":1,\"max_concurrent_iterations\":1,\"iteration_timeout_minutes\":null,\"mem_in_mb\":null,\"enforce_time_on_windows\":false,\"experiment_timeout_minutes\":8640,\"experiment_exit_score\":null,\"whitelist_models\":null,\"blacklist_algos\":[\"TensorFlowDNN\",\"TensorFlowLinearRegressor\"],\"supported_models\":[],\"private_models\":[],\"auto_blacklist\":true,\"blacklist_samples_reached\":false,\"exclude_nan_labels\":true,\"verbosity\":20,\"_debug_log\":\"azureml_automl.log\",\"show_warnings\":false,\"model_explainability\":true,\"service_url\":null,\"sdk_url\":null,\"sdk_packages\":null,\"enable_onnx_compatible_models\":false,\"enable_split_onnx_featurizer_estimator_models\":false,\"vm_type\":\"STANDARD_NC6\",\"telemetry_verbosity\":20,\"send_telemetry\":true,\"enable_dnn\":true,\"scenario\":\"Vision\",\"environment_label\":null,\"save_mlflow\":false,\"force_text_dnn\":false,\"enable_feature_sweeping\":true,\"enable_early_stopping\":false,\"early_stopping_n_iters\":10,\"arguments\":null,\"dataset_id\":\"f9a72a03-3071-498b-bb98-5fec379c48bd\",\"hyperdrive_config\":{\"max_total_jobs\":4,\"max_concurrent_jobs\":4,\"generator_config\":{\"name\":\"RANDOM\",\"parameter_space\":\"{\\\\\"model\\\\\": [\\\\\"choice\\\\\", [[{\\\\\"model_name\\\\\": [\\\\\"choice\\\\\", [[\\\\\"seresnext\\\\\", \\\\\"resnet34\\\\\"]]], \\\\\"learning_rate\\\\\": [\\\\\"uniform\\\\\", [0.0001, 0.01]], \\\\\"optimizer\\\\\": [\\\\\"choice\\\\\", [[\\\\\"sgd\\\\\", \\\\\"adam\\\\\"]]], \\\\\"layers_to_freeze\\\\\": [\\\\\"choice\\\\\", [[0, 1, 2, 3]]]}, {\\\\\"model_name\\\\\": [\\\\\"choice\\\\\", [[\\\\\"seresnext\\\\\"]]], \\\\\"resize_size\\\\\": [\\\\\"choice\\\\\", [[288, 320, 352]]], \\\\\"crop_size\\\\\": [\\\\\"choice\\\\\", [[224, 256]]]}]]]}\",\"properties\":null},\"policy_config\":{\"name\":\"Bandit\",\"properties\":{\"evaluation_interval\":2,\"delay_evaluation\":6,\"slack_factor\":0.2}}},\"validation_dataset_id\":\"210ba2e6-9e3e-4310-a057-2b43bb2cd679\",\"metrics\":null,\"enable_metric_confidence\":false,\"enable_ensembling\":false,\"enable_stack_ensembling\":false,\"ensemble_iterations\":null,\"enable_tf\":false,\"enable_subsampling\":false,\"subsample_seed\":null,\"enable_nimbusml\":false,\"enable_streaming\":false,\"force_streaming\":false,\"track_child_runs\":true,\"allowed_private_models\":[],\"label_column_name\":\"label\",\"weight_column_name\":null,\"cv_split_column_names\":null,\"enable_local_managed\":false,\"_local_managed_run_id\":null,\"cost_mode\":1,\"lag_length\":0,\"metric_operation\":\"maximize\",\"preprocess\":false}',\n",
       "  'DataPrepJsonString': '{\\\\\"training_data\\\\\": {\\\\\"datasetId\\\\\": \\\\\"f9a72a03-3071-498b-bb98-5fec379c48bd\\\\\"}, \\\\\"validation_data\\\\\": {\\\\\"datasetId\\\\\": \\\\\"210ba2e6-9e3e-4310-a057-2b43bb2cd679\\\\\"}, \\\\\"datasets\\\\\": 0}',\n",
       "  'EnableSubsampling': 'False',\n",
       "  'runTemplate': 'AutoML',\n",
       "  'azureml.runsource': 'automl',\n",
       "  'display_task_type': 'image-classification',\n",
       "  'dependencies_versions': '{\"azureml-widgets\": \"1.26.0\", \"azureml-train\": \"1.26.0\", \"azureml-train-restclients-hyperdrive\": \"0.1.0.36312295\", \"azureml-train-core\": \"0.1.0.36312295\", \"azureml-train-automl\": \"0.1.0.36312295\", \"azureml-train-automl-runtime\": \"0.1.0.36312295\", \"azureml-train-automl-client\": \"0.1.0.36312295\", \"azureml-tensorboard\": \"1.26.0\", \"azureml-telemetry\": \"0.1.0.36312295\", \"azureml-sdk\": \"1.26.0\", \"azureml-samples\": \"0+unknown\", \"azureml-pipeline\": \"1.26.0\", \"azureml-pipeline-steps\": \"1.26.0\", \"azureml-pipeline-core\": \"1.26.0\", \"azureml-opendatasets\": \"1.26.0\", \"azureml-model-management-sdk\": \"1.0.1b6.post1\", \"azureml-mlflow\": \"1.26.0\", \"azureml-interpret\": \"0.1.0.36312295\", \"azureml-explain-model\": \"1.26.0\", \"azureml-defaults\": \"0.1.0.36312295\", \"azureml-dataset-runtime\": \"0.1.0.36312295\", \"azureml-dataprep\": \"2.14.2\", \"azureml-dataprep-rslex\": \"1.12.1\", \"azureml-dataprep-native\": \"33.0.0\", \"azureml-datadrift\": \"1.26.0\", \"azureml-core\": \"0.1.0.36312295\", \"azureml-contrib-services\": \"1.26.0\", \"azureml-contrib-server\": \"1.26.0\", \"azureml-contrib-reinforcementlearning\": \"1.26.0\", \"azureml-contrib-pipeline-steps\": \"1.26.0\", \"azureml-contrib-notebook\": \"1.26.0\", \"azureml-contrib-gbdt\": \"1.26.0\", \"azureml-contrib-fairness\": \"1.26.0\", \"azureml-contrib-dataset\": \"0.1.0.36312295\", \"azureml-cli-common\": \"1.26.0\", \"azureml-automl-runtime\": \"0.1.0.36312295\", \"azureml-automl-dnn-nlp\": \"1.26.0\", \"azureml-automl-core\": \"0.1.0.36312295\", \"azureml-accel-models\": \"1.26.0\"}',\n",
       "  '_aml_system_scenario_identification': 'Remote.Parent',\n",
       "  'ClientType': 'SDK',\n",
       "  'environment_cpu_name': 'AzureML-AutoML-DNN-Vision-GPU',\n",
       "  'environment_cpu_label': 'Latest',\n",
       "  'environment_gpu_name': 'AzureML-AutoML-DNN-Vision-GPU',\n",
       "  'environment_gpu_label': 'Latest',\n",
       "  'root_attribution': 'automl',\n",
       "  'attribution': 'AutoML',\n",
       "  'Orchestrator': 'AutoML',\n",
       "  'CancelUri': 'https://westeurope.api.azureml.ms/jasmine/v1.0/subscriptions/70b8f39e-8863-49f7-b6ba-34a80799550c/resourceGroups/automlvision-rg/providers/Microsoft.MachineLearningServices/workspaces/automlvision/experimentids/050f8ae3-4b42-4224-8ba0-c34d52e7b652/cancel/AutoML_d63f3687-7322-457b-ab68-e53c08cdbcce',\n",
       "  'ClientSdkVersion': '1.27.0.post1',\n",
       "  'snapshotId': '00000000-0000-0000-0000-000000000000'},\n",
       " 'inputDatasets': [{'dataset': {'id': 'f9a72a03-3071-498b-bb98-5fec379c48bd'}, 'consumptionDetails': {'type': 'RunInput', 'inputName': 'training_data', 'mechanism': 'Direct'}}, {'dataset': {'id': '210ba2e6-9e3e-4310-a057-2b43bb2cd679'}, 'consumptionDetails': {'type': 'RunInput', 'inputName': 'validation_data', 'mechanism': 'Direct'}}],\n",
       " 'outputDatasets': [],\n",
       " 'logFiles': {},\n",
       " 'submittedBy': 'Serge Retkowsky'}"
      ]
     },
     "execution_count": 51,
     "metadata": {},
     "output_type": "execute_result"
    }
   ],
   "source": [
    "automl_image_run.wait_for_completion(wait_post_processing=True)"
   ]
  },
  {
   "cell_type": "markdown",
   "metadata": {},
   "source": [
    "> When doing a hyperparameter sweep, **it can be useful to visualize the different configurations that were tried using the HyperDrive UI**. <br><br>You can navigate to this UI by going to the **'Child runs' tab in the UI of the main automl_image_run** from above, which is the HyperDrive parent run. Then you can go into the 'Child runs' tab of this one."
   ]
  },
  {
   "cell_type": "code",
   "execution_count": 52,
   "metadata": {},
   "outputs": [
    {
     "data": {
      "text/html": [
       "<table style=\"width:100%\"><tr><th>Name</th><th>Workspace</th><th>Report Page</th><th>Docs Page</th></tr><tr><td>AutomlImages-Sentiment</td><td>automlvision</td><td><a href=\"https://ml.azure.com/experiments/id/050f8ae3-4b42-4224-8ba0-c34d52e7b652?wsid=/subscriptions/70b8f39e-8863-49f7-b6ba-34a80799550c/resourcegroups/automlvision-rg/workspaces/automlvision&amp;tid=72f988bf-86f1-41af-91ab-2d7cd011db47\" target=\"_blank\" rel=\"noopener\">Link to Azure Machine Learning studio</a></td><td><a href=\"https://docs.microsoft.com/en-us/python/api/azureml-core/azureml.core.experiment.Experiment?view=azure-ml-py\" target=\"_blank\" rel=\"noopener\">Link to Documentation</a></td></tr></table>"
      ],
      "text/plain": [
       "Experiment(Name: AutomlImages-Sentiment,\n",
       "Workspace: automlvision)"
      ]
     },
     "execution_count": 52,
     "metadata": {},
     "output_type": "execute_result"
    }
   ],
   "source": [
    "experiment"
   ]
  },
  {
   "cell_type": "markdown",
   "metadata": {},
   "source": [
    "### You will see all the AutoML runs from the Child runs section. \n",
    "The **model column** will display detailled information about each model.<br>\n",
    "Example:"
   ]
  },
  {
   "cell_type": "markdown",
   "metadata": {},
   "source": [
    "<img src=\"https://github.com/retkowsky/images/blob/master/automlvision.jpg?raw=true\">"
   ]
  },
  {
   "cell_type": "markdown",
   "metadata": {},
   "source": [
    "> You can find all the artefacts from the output+logs section of Azure ML"
   ]
  },
  {
   "cell_type": "markdown",
   "metadata": {},
   "source": [
    "## 8. Register the optimal CV model from the AutoML run\n",
    "Once the run completes, we can register the model that was created from the best run (configuration that resulted in the best primary metric)"
   ]
  },
  {
   "cell_type": "code",
   "execution_count": 53,
   "metadata": {},
   "outputs": [
    {
     "data": {
      "text/html": [
       "<table style=\"width:100%\"><tr><th>Experiment</th><th>Id</th><th>Type</th><th>Status</th><th>Details Page</th><th>Docs Page</th></tr><tr><td>AutomlImages-Sentiment</td><td>AutoML_d63f3687-7322-457b-ab68-e53c08cdbcce_HD</td><td>hyperdrive</td><td>Completed</td><td><a href=\"https://ml.azure.com/runs/AutoML_d63f3687-7322-457b-ab68-e53c08cdbcce_HD?wsid=/subscriptions/70b8f39e-8863-49f7-b6ba-34a80799550c/resourcegroups/automlvision-rg/workspaces/automlvision&amp;tid=72f988bf-86f1-41af-91ab-2d7cd011db47\" target=\"_blank\" rel=\"noopener\">Link to Azure Machine Learning studio</a></td><td><a href=\"https://docs.microsoft.com/en-us/python/api/azureml-core/azureml.core.run.Run?view=azure-ml-py\" target=\"_blank\" rel=\"noopener\">Link to Documentation</a></td></tr></table>"
      ],
      "text/plain": [
       "Run(Experiment: AutomlImages-Sentiment,\n",
       "Id: AutoML_d63f3687-7322-457b-ab68-e53c08cdbcce_HD,\n",
       "Type: hyperdrive,\n",
       "Status: Completed)"
      ]
     },
     "execution_count": 53,
     "metadata": {},
     "output_type": "execute_result"
    }
   ],
   "source": [
    "from azureml.core import Run\n",
    "hyperdrive_run = Run(experiment=experiment, run_id=automl_image_run.id + '_HD')\n",
    "hyperdrive_run"
   ]
  },
  {
   "cell_type": "code",
   "execution_count": 54,
   "metadata": {},
   "outputs": [],
   "source": [
    "# Defining tags for the custom vision model\n",
    "cvmodel_tags={\"Data\": \"Images\", \n",
    "              \"Context\" : \"Sentiment Analysis\",\n",
    "              \"Task\" : \"Best AutoML Images\",\n",
    "              \"Framework\" : \"AzureML AutoML for Images\",\n",
    "              \"AutoML Metric\" : \"Accuracy\"}"
   ]
  },
  {
   "cell_type": "code",
   "execution_count": 55,
   "metadata": {},
   "outputs": [],
   "source": [
    "# Register the best model from the AutoML Vision run\n",
    "best_child_run = automl_image_run.get_best_child()\n",
    "model_name = best_child_run.properties['model_name']\n",
    "\n",
    "model = best_child_run.register_model(model_name = model_name,\n",
    "                                      model_path='outputs/model.pt',\n",
    "                                      description='Sentiment Analysis CV model',\n",
    "                                      tags=cvmodel_tags)"
   ]
  },
  {
   "cell_type": "code",
   "execution_count": 56,
   "metadata": {},
   "outputs": [
    {
     "data": {
      "text/plain": [
       "'model.pt'"
      ]
     },
     "execution_count": 56,
     "metadata": {},
     "output_type": "execute_result"
    }
   ],
   "source": [
    "# We can download the CV model\n",
    "model.download(target_dir='.', exist_ok=True, exists_ok=None)"
   ]
  },
  {
   "cell_type": "code",
   "execution_count": 57,
   "metadata": {},
   "outputs": [
    {
     "name": "stdout",
     "output_type": "stream",
     "text": [
      "-rwxrwxrwx 1 root root 204678488 May  6 22:22 model.pt\r\n"
     ]
    }
   ],
   "source": [
    "# Checking the downloaded .pt model file\n",
    "!ls model.pt -l"
   ]
  },
  {
   "cell_type": "markdown",
   "metadata": {},
   "source": [
    "### Model informations from the Azure ML model repository"
   ]
  },
  {
   "cell_type": "code",
   "execution_count": 58,
   "metadata": {},
   "outputs": [
    {
     "data": {
      "text/plain": [
       "Model(workspace=Workspace.create(name='automlvision', subscription_id='70b8f39e-8863-49f7-b6ba-34a80799550c', resource_group='automlvision-rg'), name=AutoMLd63f368770, id=AutoMLd63f368770:1, version=1, tags={'Data': 'Images', 'Context': 'Sentiment Analysis', 'Task': 'Best AutoML Images', 'Framework': 'AzureML AutoML for Images', 'AutoML Metric': 'Accuracy'}, properties={})"
      ]
     },
     "execution_count": 58,
     "metadata": {},
     "output_type": "execute_result"
    }
   ],
   "source": [
    "model"
   ]
  },
  {
   "cell_type": "code",
   "execution_count": 59,
   "metadata": {},
   "outputs": [
    {
     "data": {
      "text/plain": [
       "'AutoMLd63f368770:1'"
      ]
     },
     "execution_count": 59,
     "metadata": {},
     "output_type": "execute_result"
    }
   ],
   "source": [
    "model.id"
   ]
  },
  {
   "cell_type": "code",
   "execution_count": 60,
   "metadata": {},
   "outputs": [
    {
     "data": {
      "text/plain": [
       "'AutoMLd63f368770'"
      ]
     },
     "execution_count": 60,
     "metadata": {},
     "output_type": "execute_result"
    }
   ],
   "source": [
    "model.name"
   ]
  },
  {
   "cell_type": "code",
   "execution_count": 61,
   "metadata": {},
   "outputs": [
    {
     "data": {
      "text/plain": [
       "1"
      ]
     },
     "execution_count": 61,
     "metadata": {},
     "output_type": "execute_result"
    }
   ],
   "source": [
    "model.version"
   ]
  },
  {
   "cell_type": "code",
   "execution_count": 62,
   "metadata": {},
   "outputs": [
    {
     "data": {
      "text/plain": [
       "{'Data': 'Images',\n",
       " 'Context': 'Sentiment Analysis',\n",
       " 'Task': 'Best AutoML Images',\n",
       " 'Framework': 'AzureML AutoML for Images',\n",
       " 'AutoML Metric': 'Accuracy'}"
      ]
     },
     "execution_count": 62,
     "metadata": {},
     "output_type": "execute_result"
    }
   ],
   "source": [
    "model.tags"
   ]
  },
  {
   "cell_type": "code",
   "execution_count": 63,
   "metadata": {},
   "outputs": [
    {
     "data": {
      "text/plain": [
       "datetime.datetime(2021, 5, 6, 22, 22, 40, 94830, tzinfo=<isodate.tzinfo.Utc object at 0x7f0f76557080>)"
      ]
     },
     "execution_count": 63,
     "metadata": {},
     "output_type": "execute_result"
    }
   ],
   "source": [
    "model.created_time"
   ]
  },
  {
   "cell_type": "markdown",
   "metadata": {},
   "source": [
    "## 9. Deploy model as a web service\n",
    "Once you have your trained model, you can deploy the model on Azure. **You can deploy your trained model as a web service on Azure Container Instances ([ACI](https://docs.microsoft.com/en-us/azure/machine-learning/how-to-deploy-azure-container-instance)) or Azure Kubernetes Service ([AKS](https://docs.microsoft.com/en-us/azure/machine-learning/how-to-deploy-azure-kubernetes-service)).**<br><br> ACI is the perfect option for testing deployments, while AKS is better suited for for high-scale, production usage. <br><br>\n",
    "**In this tutorial, we will deploy the model as a web service in AKS.**\n",
    "You will need to first create an AKS compute cluster, or use an existing AKS cluster. <br>\n",
    "You can use either GPU or CPU VM SKUs for your deployment cluster"
   ]
  },
  {
   "cell_type": "code",
   "execution_count": 64,
   "metadata": {},
   "outputs": [
    {
     "name": "stdout",
     "output_type": "stream",
     "text": [
      "Found existing compute target.\n",
      "CPU times: user 19 ms, sys: 5.3 ms, total: 24.3 ms\n",
      "Wall time: 132 ms\n"
     ]
    }
   ],
   "source": [
    "%%time\n",
    "from azureml.core.compute import ComputeTarget, AksCompute\n",
    "from azureml.exceptions import ComputeTargetException\n",
    "\n",
    "# Choose a name for your cluster\n",
    "aks_name = \"cluster-aksgpu\"\n",
    "\n",
    "# Check to see if the cluster already exists\n",
    "try:\n",
    "    aks_target = ComputeTarget(workspace=ws, name=aks_name)\n",
    "    print('Found existing compute target.')\n",
    "except ComputeTargetException:\n",
    "    print('Creating a new compute target...')\n",
    "    # Provision AKS cluster with GPU machine\n",
    "    prov_config = AksCompute.provisioning_configuration(vm_size=\"STANDARD_NC6\", location=\"eastus2\")\n",
    "    # Create the cluster\n",
    "    aks_target = ComputeTarget.create(workspace=ws, \n",
    "                                      name=aks_name, \n",
    "                                      provisioning_configuration=prov_config)\n",
    "    aks_target.wait_for_completion(show_output=True)"
   ]
  },
  {
   "cell_type": "markdown",
   "metadata": {},
   "source": [
    "Next, you will need to define the inference configuration, that describes how to set up the web-service containing your model. You can use the scoring script and the environment from the training run in your inference config.  \n",
    "You can then deploy the model as an AKS web service."
   ]
  },
  {
   "cell_type": "code",
   "execution_count": 65,
   "metadata": {},
   "outputs": [],
   "source": [
    "# Settings\n",
    "\n",
    "from azureml.core.model import InferenceConfig\n",
    "from azureml.core.webservice import AksWebservice\n",
    "from azureml.core.webservice import Webservice\n",
    "from azureml.core.model import Model\n",
    "from azureml.core.environment import Environment\n",
    "\n",
    "best_child_run.download_file('outputs/scoring_file_v_1_0_0.py', output_file_path='score.py')\n",
    "environment = best_child_run.get_environment()\n",
    "inference_config = InferenceConfig(entry_script='score.py', environment=environment)\n",
    "\n",
    "\n",
    "endpoint_name='automlsentiment' #Name of the deployed model\n",
    "\n",
    "aks_tags={\"Data\"  : \"Images\", \n",
    "          \"Topic\" : \"Sentiment Analysis Custom Vision model\", \n",
    "          \"Task\"  : \"Image Classification\",\n",
    "          \"Framework\" : \"AutoML Images best model\", \n",
    "          \"AKS\" : \"True\"}\n",
    "\n",
    "aks_description=\"Computer vision model for sentiment analysis\"\n",
    "\n",
    "aks_config = AksWebservice.deploy_configuration(autoscale_enabled=True,                                                    \n",
    "                                                cpu_cores=1,\n",
    "                                                memory_gb=50,\n",
    "                                                enable_app_insights=True,\n",
    "                                                description=aks_description,\n",
    "                                                tags=aks_tags)"
   ]
  },
  {
   "cell_type": "code",
   "execution_count": 66,
   "metadata": {},
   "outputs": [
    {
     "name": "stdout",
     "output_type": "stream",
     "text": [
      "-rwxrwxrwx 1 root root 1921 May  6 22:22 score.py\r\n"
     ]
    }
   ],
   "source": [
    "# Checking the file we downloaded\n",
    "!ls score.py -l"
   ]
  },
  {
   "cell_type": "code",
   "execution_count": 67,
   "metadata": {},
   "outputs": [
    {
     "name": "stdout",
     "output_type": "stream",
     "text": [
      "# ---------------------------------------------------------\n",
      "# Copyright (c) Microsoft Corporation. All rights reserved.\n",
      "# ---------------------------------------------------------\n",
      "import os\n",
      "import tempfile\n",
      "import logging\n",
      "\n",
      "from azureml.contrib.services.aml_request import rawhttp\n",
      "from azureml.automl.core.shared import logging_utilities\n",
      "from azureml.contrib.services.aml_response import AMLResponse\n",
      "\n",
      "from azureml.contrib.automl.dnn.vision.common.utils import _set_logging_parameters\n",
      "from azureml.contrib.automl.dnn.vision.common.model_export_utils import load_model, run_inference\n",
      "from azureml.contrib.automl.dnn.vision.common.logging_utils import get_logger\n",
      "\n",
      "from azureml.contrib.automl.dnn.vision.classification.inference.score import _score_with_model\n",
      "\n",
      "TASK_TYPE = 'image-classification'\n",
      "logger = get_logger('azureml.automl.core.scoring_script_images')\n",
      "\n",
      "\n",
      "def init():\n",
      "    global model\n",
      "    \n",
      "    # Set up logging\n",
      "    _set_logging_parameters(TASK_TYPE, {})\n",
      "\n",
      "    model_path = os.path.join(os.getenv('AZUREML_MODEL_DIR'), 'model.pt')\n",
      "\n",
      "    try:\n",
      "        logger.info(\"Loading model from path: {}.\".format(model_path))\n",
      "        model_settings = {\"resize_size\": 256, \"crop_size\": 224}\n",
      "        model = load_model(TASK_TYPE, model_path, **model_settings)\n",
      "        logger.info(\"Loading successful.\")\n",
      "    except Exception as e:\n",
      "        logging_utilities.log_traceback(e, logger)\n",
      "        raise\n",
      "\n",
      "\n",
      "@rawhttp\n",
      "def run(request):\n",
      "    logger.info(\"Request: [{0}]\".format(request))\n",
      "    if request.method == 'GET':\n",
      "        response_body = str.encode(request.full_path)\n",
      "        return AMLResponse(response_body, 200)\n",
      "    elif request.method == 'POST':\n",
      "        request_body = request.get_data()\n",
      "        logger.info(\"Running inference.\")\n",
      "        result = run_inference(model, request_body, _score_with_model)\n",
      "        logger.info(\"Finished inferencing.\")\n",
      "        return AMLResponse(result, 200)\n",
      "    else:\n",
      "        return AMLResponse(\"bad request\", 500)\n"
     ]
    }
   ],
   "source": [
    "# Viewing the score.py file\n",
    "with open(os.path.join('score.py'), 'r') as f:\n",
    "    print(f.read())"
   ]
  },
  {
   "cell_type": "markdown",
   "metadata": {},
   "source": [
    "### Let's deploy the CV model into AKS"
   ]
  },
  {
   "cell_type": "code",
   "execution_count": 68,
   "metadata": {},
   "outputs": [
    {
     "name": "stdout",
     "output_type": "stream",
     "text": [
      "Tips: You can try get_logs(): https://aka.ms/debugimage#dockerlog or local deployment: https://aka.ms/debugimage#debug-locally to debug if deployment takes longer than 10 minutes.\n",
      "Running\n",
      "2021-05-06 22:23:05+00:00 Creating Container Registry if not exists.\n",
      "2021-05-06 22:23:05+00:00 Registering the environment.\n",
      "2021-05-06 22:23:06+00:00 Use the existing image..\n",
      "2021-05-06 22:23:09+00:00 Creating resources in AKS.\n",
      "2021-05-06 22:23:12+00:00 Submitting deployment to compute.\n",
      "2021-05-06 22:23:13+00:00 Checking the status of deployment automlsentiment..\n",
      "2021-05-06 22:24:03+00:00 Checking the status of inference endpoint automlsentiment.\n",
      "Succeeded\n",
      "AKS service creation operation finished, operation \"Succeeded\"\n",
      "\n",
      "Done. Model is deployed. Ready to use!\n",
      "\n",
      "AKS service status= Healthy\n",
      "CPU times: user 390 ms, sys: 87.4 ms, total: 477 ms\n",
      "Wall time: 1min 12s\n"
     ]
    }
   ],
   "source": [
    "%%time\n",
    "aks_service = Model.deploy(ws,\n",
    "                           models=[model],\n",
    "                           inference_config=inference_config,\n",
    "                           deployment_config=aks_config,\n",
    "                           deployment_target=aks_target,\n",
    "                           name=endpoint_name,\n",
    "                           overwrite=True)\n",
    "\n",
    "aks_service.wait_for_deployment(show_output=True)\n",
    "\n",
    "print(\"\\nDone. Model is deployed. Ready to use!\")\n",
    "print(\"\\nAKS service status=\", aks_service.state)"
   ]
  },
  {
   "cell_type": "markdown",
   "metadata": {},
   "source": [
    "> Usually it takes 2 or 3 minutes to deploy. You can see the endpoint in Azure ML Studio"
   ]
  },
  {
   "cell_type": "code",
   "execution_count": 69,
   "metadata": {},
   "outputs": [
    {
     "name": "stdout",
     "output_type": "stream",
     "text": [
      "CV model endpoint: http://20.72.78.101:80/api/v1/service/automlsentiment/score\n"
     ]
    }
   ],
   "source": [
    "print(\"CV model endpoint:\", aks_service.scoring_uri)"
   ]
  },
  {
   "cell_type": "code",
   "execution_count": 70,
   "metadata": {},
   "outputs": [
    {
     "name": "stdout",
     "output_type": "stream",
     "text": [
      "CV model endpoint properties: {'hasInferenceSchema': 'False', 'hasHttps': 'False'}\n"
     ]
    }
   ],
   "source": [
    "print(\"CV model endpoint properties:\", aks_service.properties)"
   ]
  },
  {
   "cell_type": "code",
   "execution_count": 71,
   "metadata": {},
   "outputs": [
    {
     "name": "stdout",
     "output_type": "stream",
     "text": [
      "CV model endpoint tags: {'Data': 'Images', 'Topic': 'Sentiment Analysis Custom Vision model', 'Task': 'Image Classification', 'Framework': 'AutoML Images best model', 'AKS': 'True'}\n"
     ]
    }
   ],
   "source": [
    "print(\"CV model endpoint tags:\", aks_service.tags)"
   ]
  },
  {
   "cell_type": "code",
   "execution_count": 72,
   "metadata": {},
   "outputs": [],
   "source": [
    "# You can have access to the logs\n",
    "#print(aks_service.get_logs())"
   ]
  },
  {
   "cell_type": "markdown",
   "metadata": {},
   "source": [
    "## 10. Test our deployed CV model\n",
    "Finally, let's test our deployed Computer Vision model to predict new images. You can pass in any image."
   ]
  },
  {
   "cell_type": "code",
   "execution_count": 73,
   "metadata": {},
   "outputs": [
    {
     "name": "stdout",
     "output_type": "stream",
     "text": [
      "Our CV model endpoint: http://20.72.78.101:80/api/v1/service/automlsentiment/score\n",
      "\n",
      "Status= Healthy\n"
     ]
    }
   ],
   "source": [
    "print(\"Our CV model endpoint:\", aks_service.scoring_uri)\n",
    "print(\"\\nStatus=\", aks_service.state)"
   ]
  },
  {
   "cell_type": "markdown",
   "metadata": {},
   "source": [
    "### Test 1"
   ]
  },
  {
   "cell_type": "code",
   "execution_count": 74,
   "metadata": {},
   "outputs": [
    {
     "name": "stdout",
     "output_type": "stream",
     "text": [
      "/mnt/batch/tasks/shared/LS_root/mounts/clusters/computeinstancenbooks/code/Users/seretkow/AutoML Sentiment\r\n"
     ]
    }
   ],
   "source": [
    "!pwd"
   ]
  },
  {
   "cell_type": "code",
   "execution_count": 96,
   "metadata": {},
   "outputs": [],
   "source": [
    "file1 = 'test (1).png'"
   ]
  },
  {
   "cell_type": "code",
   "execution_count": 97,
   "metadata": {},
   "outputs": [
    {
     "name": "stdout",
     "output_type": "stream",
     "text": [
      "Image informations:\n",
      "- Image filename: test (1).png\n",
      "- Image shape: (48, 48, 3)\n",
      "- Image size: 6912\n"
     ]
    }
   ],
   "source": [
    "import cv2 as cv\n",
    "img = cv.imread(file1)\n",
    "print(\"Image informations:\")\n",
    "print(\"- Image filename:\", file1)\n",
    "print(\"- Image shape:\", img.shape)\n",
    "print(\"- Image size:\", img.size)"
   ]
  },
  {
   "cell_type": "code",
   "execution_count": 98,
   "metadata": {},
   "outputs": [
    {
     "data": {
      "image/png": "[encoded data removed]",
      "text/plain": [
       "<IPython.core.display.Image object>"
      ]
     },
     "execution_count": 98,
     "metadata": {},
     "output_type": "execute_result"
    }
   ],
   "source": [
    "from IPython.display import Image\n",
    "Image(filename=file1)"
   ]
  },
  {
   "cell_type": "code",
   "execution_count": 99,
   "metadata": {},
   "outputs": [
    {
     "name": "stdout",
     "output_type": "stream",
     "text": [
      "Status code= 200\n",
      "Elapsed= 0:00:00.263232\n",
      "Results= {\"filename\": \"/tmp/tmprcaax9ng\", \"probs\": [7.059823303734447e-08, 6.673943175883323e-07, 2.9881613272664254e-07, 0.9999467134475708, 5.14204402861651e-05, 3.7316800671760575e-07, 4.1809542494775087e-07], \"labels\": [\"anger\", \"contempt\", \"disgust\", \"fear\", \"happy\", \"sadness\", \"surprise\"]}\n",
      "\n"
     ]
    }
   ],
   "source": [
    "import requests\n",
    "\n",
    "# URL for the web service\n",
    "scoring_uri = aks_service.scoring_uri\n",
    "\n",
    "# If the service is authenticated, set the key or token\n",
    "key, _ = aks_service.get_keys()\n",
    "\n",
    "# Load image data\n",
    "data = open(file1, 'rb').read()\n",
    "\n",
    "# Set the content type\n",
    "headers = {'Content-Type': 'application/octet-stream'}\n",
    "\n",
    "# If authentication is enabled, set the authorization header\n",
    "headers['Authorization'] = f'Bearer {key}'\n",
    "\n",
    "# Make the request and display the response\n",
    "resp = requests.post(scoring_uri, data, headers=headers)\n",
    "print(\"Status code=\",resp.status_code)\n",
    "print(\"Elapsed=\", resp.elapsed)\n",
    "print(\"Results=\", resp.text)"
   ]
  },
  {
   "cell_type": "code",
   "execution_count": 100,
   "metadata": {},
   "outputs": [
    {
     "data": {
      "text/html": [
       "<div>\n",
       "<style scoped>\n",
       "    .dataframe tbody tr th:only-of-type {\n",
       "        vertical-align: middle;\n",
       "    }\n",
       "\n",
       "    .dataframe tbody tr th {\n",
       "        vertical-align: top;\n",
       "    }\n",
       "\n",
       "    .dataframe thead th {\n",
       "        text-align: right;\n",
       "    }\n",
       "</style>\n",
       "<table border=\"1\" class=\"dataframe\">\n",
       "  <thead>\n",
       "    <tr style=\"text-align: right;\">\n",
       "      <th></th>\n",
       "      <th>filename</th>\n",
       "      <th>probs</th>\n",
       "      <th>labels</th>\n",
       "    </tr>\n",
       "  </thead>\n",
       "  <tbody>\n",
       "    <tr>\n",
       "      <th>3</th>\n",
       "      <td>/tmp/tmprcaax9ng</td>\n",
       "      <td>9.999467e-01</td>\n",
       "      <td>fear</td>\n",
       "    </tr>\n",
       "    <tr>\n",
       "      <th>4</th>\n",
       "      <td>/tmp/tmprcaax9ng</td>\n",
       "      <td>5.142044e-05</td>\n",
       "      <td>happy</td>\n",
       "    </tr>\n",
       "    <tr>\n",
       "      <th>1</th>\n",
       "      <td>/tmp/tmprcaax9ng</td>\n",
       "      <td>6.673943e-07</td>\n",
       "      <td>contempt</td>\n",
       "    </tr>\n",
       "    <tr>\n",
       "      <th>6</th>\n",
       "      <td>/tmp/tmprcaax9ng</td>\n",
       "      <td>4.180954e-07</td>\n",
       "      <td>surprise</td>\n",
       "    </tr>\n",
       "    <tr>\n",
       "      <th>5</th>\n",
       "      <td>/tmp/tmprcaax9ng</td>\n",
       "      <td>3.731680e-07</td>\n",
       "      <td>sadness</td>\n",
       "    </tr>\n",
       "    <tr>\n",
       "      <th>2</th>\n",
       "      <td>/tmp/tmprcaax9ng</td>\n",
       "      <td>2.988161e-07</td>\n",
       "      <td>disgust</td>\n",
       "    </tr>\n",
       "    <tr>\n",
       "      <th>0</th>\n",
       "      <td>/tmp/tmprcaax9ng</td>\n",
       "      <td>7.059823e-08</td>\n",
       "      <td>anger</td>\n",
       "    </tr>\n",
       "  </tbody>\n",
       "</table>\n",
       "</div>"
      ],
      "text/plain": [
       "           filename         probs    labels\n",
       "3  /tmp/tmprcaax9ng  9.999467e-01      fear\n",
       "4  /tmp/tmprcaax9ng  5.142044e-05     happy\n",
       "1  /tmp/tmprcaax9ng  6.673943e-07  contempt\n",
       "6  /tmp/tmprcaax9ng  4.180954e-07  surprise\n",
       "5  /tmp/tmprcaax9ng  3.731680e-07   sadness\n",
       "2  /tmp/tmprcaax9ng  2.988161e-07   disgust\n",
       "0  /tmp/tmprcaax9ng  7.059823e-08     anger"
      ]
     },
     "execution_count": 100,
     "metadata": {},
     "output_type": "execute_result"
    }
   ],
   "source": [
    "prediction=pd.DataFrame(resp.json()) #Convert the Json into a pandas dataframe\n",
    "prediction.sort_values(by='probs', ascending=False)"
   ]
  },
  {
   "cell_type": "code",
   "execution_count": 101,
   "metadata": {},
   "outputs": [
    {
     "name": "stdout",
     "output_type": "stream",
     "text": [
      "Image file = test (1).png\n",
      "Model prediction = fear \n",
      "with Probability = 0.9999467134475708\n",
      "\n",
      "Sentiment is fear with a probability of 99.99 %\n"
     ]
    }
   ],
   "source": [
    "prediction = json.loads(resp.text)\n",
    "label_index = np.argmax(prediction['probs']) # to take the max prob\n",
    "label = prediction['labels'][label_index]\n",
    "proba = prediction['probs'][label_index]\n",
    "\n",
    "print(\"Image file =\", file1)\n",
    "print(\"Model prediction =\", label, \"\\nwith Probability =\", proba)\n",
    "print(\"\\nSentiment is\", label,\"with a probability of\", round((proba*100), 2), \"%\")"
   ]
  },
  {
   "cell_type": "markdown",
   "metadata": {},
   "source": [
    "### Test 2"
   ]
  },
  {
   "cell_type": "code",
   "execution_count": 104,
   "metadata": {},
   "outputs": [],
   "source": [
    "file2 = 'test (2).png'"
   ]
  },
  {
   "cell_type": "code",
   "execution_count": 105,
   "metadata": {},
   "outputs": [
    {
     "data": {
      "image/png": "[encoded data removed]",
      "text/plain": [
       "<IPython.core.display.Image object>"
      ]
     },
     "execution_count": 105,
     "metadata": {},
     "output_type": "execute_result"
    }
   ],
   "source": [
    "from IPython.display import Image\n",
    "Image(filename=file2)"
   ]
  },
  {
   "cell_type": "code",
   "execution_count": 106,
   "metadata": {},
   "outputs": [
    {
     "name": "stdout",
     "output_type": "stream",
     "text": [
      "Image informations:\n",
      "- Image filename: test (2).png\n",
      "- Image shape: (48, 48, 3)\n",
      "- Image size: 6912\n"
     ]
    }
   ],
   "source": [
    "import cv2 as cv\n",
    "img = cv.imread(file2)\n",
    "print(\"Image informations:\")\n",
    "print(\"- Image filename:\", file2)\n",
    "print(\"- Image shape:\", img.shape)\n",
    "print(\"- Image size:\", img.size)"
   ]
  },
  {
   "cell_type": "code",
   "execution_count": 107,
   "metadata": {},
   "outputs": [
    {
     "name": "stdout",
     "output_type": "stream",
     "text": [
      "Status code= 200\n",
      "Elapsed= 0:00:00.262420\n",
      "Results= {\"filename\": \"/tmp/tmp5xfsoxoo\", \"probs\": [0.0001531201123725623, 2.843387301254552e-05, 0.0004590073658619076, 0.0006643499946221709, 0.9979540109634399, 8.686081855557859e-05, 0.0006541736656799912], \"labels\": [\"anger\", \"contempt\", \"disgust\", \"fear\", \"happy\", \"sadness\", \"surprise\"]}\n",
      "\n"
     ]
    }
   ],
   "source": [
    "import requests\n",
    "\n",
    "# URL for the web service\n",
    "scoring_uri = aks_service.scoring_uri\n",
    "\n",
    "# If the service is authenticated, set the key or token\n",
    "key, _ = aks_service.get_keys()\n",
    "\n",
    "# Load image data\n",
    "data = open(file2, 'rb').read()\n",
    "\n",
    "# Set the content type\n",
    "headers = {'Content-Type': 'application/octet-stream'}\n",
    "\n",
    "# If authentication is enabled, set the authorization header\n",
    "headers['Authorization'] = f'Bearer {key}'\n",
    "\n",
    "# Make the request and display the response\n",
    "resp = requests.post(scoring_uri, data, headers=headers)\n",
    "print(\"Status code=\",resp.status_code)\n",
    "print(\"Elapsed=\", resp.elapsed)\n",
    "print(\"Results=\", resp.text)"
   ]
  },
  {
   "cell_type": "code",
   "execution_count": 108,
   "metadata": {},
   "outputs": [
    {
     "data": {
      "text/html": [
       "<div>\n",
       "<style scoped>\n",
       "    .dataframe tbody tr th:only-of-type {\n",
       "        vertical-align: middle;\n",
       "    }\n",
       "\n",
       "    .dataframe tbody tr th {\n",
       "        vertical-align: top;\n",
       "    }\n",
       "\n",
       "    .dataframe thead th {\n",
       "        text-align: right;\n",
       "    }\n",
       "</style>\n",
       "<table border=\"1\" class=\"dataframe\">\n",
       "  <thead>\n",
       "    <tr style=\"text-align: right;\">\n",
       "      <th></th>\n",
       "      <th>filename</th>\n",
       "      <th>probs</th>\n",
       "      <th>labels</th>\n",
       "    </tr>\n",
       "  </thead>\n",
       "  <tbody>\n",
       "    <tr>\n",
       "      <th>4</th>\n",
       "      <td>/tmp/tmp5xfsoxoo</td>\n",
       "      <td>0.997954</td>\n",
       "      <td>happy</td>\n",
       "    </tr>\n",
       "    <tr>\n",
       "      <th>3</th>\n",
       "      <td>/tmp/tmp5xfsoxoo</td>\n",
       "      <td>0.000664</td>\n",
       "      <td>fear</td>\n",
       "    </tr>\n",
       "    <tr>\n",
       "      <th>6</th>\n",
       "      <td>/tmp/tmp5xfsoxoo</td>\n",
       "      <td>0.000654</td>\n",
       "      <td>surprise</td>\n",
       "    </tr>\n",
       "    <tr>\n",
       "      <th>2</th>\n",
       "      <td>/tmp/tmp5xfsoxoo</td>\n",
       "      <td>0.000459</td>\n",
       "      <td>disgust</td>\n",
       "    </tr>\n",
       "    <tr>\n",
       "      <th>0</th>\n",
       "      <td>/tmp/tmp5xfsoxoo</td>\n",
       "      <td>0.000153</td>\n",
       "      <td>anger</td>\n",
       "    </tr>\n",
       "    <tr>\n",
       "      <th>5</th>\n",
       "      <td>/tmp/tmp5xfsoxoo</td>\n",
       "      <td>0.000087</td>\n",
       "      <td>sadness</td>\n",
       "    </tr>\n",
       "    <tr>\n",
       "      <th>1</th>\n",
       "      <td>/tmp/tmp5xfsoxoo</td>\n",
       "      <td>0.000028</td>\n",
       "      <td>contempt</td>\n",
       "    </tr>\n",
       "  </tbody>\n",
       "</table>\n",
       "</div>"
      ],
      "text/plain": [
       "           filename     probs    labels\n",
       "4  /tmp/tmp5xfsoxoo  0.997954     happy\n",
       "3  /tmp/tmp5xfsoxoo  0.000664      fear\n",
       "6  /tmp/tmp5xfsoxoo  0.000654  surprise\n",
       "2  /tmp/tmp5xfsoxoo  0.000459   disgust\n",
       "0  /tmp/tmp5xfsoxoo  0.000153     anger\n",
       "5  /tmp/tmp5xfsoxoo  0.000087   sadness\n",
       "1  /tmp/tmp5xfsoxoo  0.000028  contempt"
      ]
     },
     "execution_count": 108,
     "metadata": {},
     "output_type": "execute_result"
    }
   ],
   "source": [
    "prediction=pd.DataFrame(resp.json()) #Convert the Json into a pandas dataframe\n",
    "prediction.sort_values(by='probs', ascending=False)"
   ]
  },
  {
   "cell_type": "code",
   "execution_count": 109,
   "metadata": {},
   "outputs": [
    {
     "name": "stdout",
     "output_type": "stream",
     "text": [
      "Image file = test (2).png\n",
      "Model prediction = happy \n",
      "with Probability = 0.9979540109634399\n",
      "\n",
      "Sentiment is happy with a probability of 99.8 %\n"
     ]
    }
   ],
   "source": [
    "prediction = json.loads(resp.text)\n",
    "label_index = np.argmax(prediction['probs'])\n",
    "label = prediction['labels'][label_index]\n",
    "conf_score = prediction['probs'][label_index]\n",
    "\n",
    "print(\"Image file =\", file2)\n",
    "print(\"Model prediction =\", label, \"\\nwith Probability =\", conf_score)\n",
    "print(\"\\nSentiment is\", label,\"with a probability of\", round((conf_score*100), 2), \"%\")"
   ]
  },
  {
   "cell_type": "markdown",
   "metadata": {},
   "source": [
    "## 11. Clean up ressources"
   ]
  },
  {
   "cell_type": "code",
   "execution_count": null,
   "metadata": {},
   "outputs": [],
   "source": [
    "# Let's delete the service\n",
    "#aks_service.delete()"
   ]
  },
  {
   "cell_type": "code",
   "execution_count": null,
   "metadata": {},
   "outputs": [],
   "source": [
    "# Let's delete our Azure ML GPU compute cluster\n",
    "#compute_target.delete()"
   ]
  },
  {
   "cell_type": "markdown",
   "metadata": {},
   "source": [
    "> End of notebook"
   ]
  }
 ],
 "metadata": {
  "kernelspec": {
   "display_name": "Python 3.6 - AzureML",
   "language": "python",
   "name": "python3-azureml"
  },
  "language_info": {
   "codemirror_mode": {
    "name": "ipython",
    "version": 3
   },
   "file_extension": ".py",
   "mimetype": "text/x-python",
   "name": "python",
   "nbconvert_exporter": "python",
   "pygments_lexer": "ipython3",
   "version": "3.6.9"
  },
  "nteract": {
   "version": "nteract-front-end@1.0.0"
  }
 },
 "nbformat": 4,
 "nbformat_minor": 2
}
